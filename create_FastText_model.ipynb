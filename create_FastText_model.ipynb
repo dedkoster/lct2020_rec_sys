{
  "nbformat": 4,
  "nbformat_minor": 0,
  "metadata": {
    "colab": {
      "name": "create_FastText_model.ipynb",
      "provenance": [],
      "collapsed_sections": []
    },
    "kernelspec": {
      "name": "python3",
      "display_name": "Python 3"
    },
    "accelerator": "TPU"
  },
  "cells": [
    {
      "cell_type": "code",
      "metadata": {
        "id": "Tpm6xGpoP62u",
        "outputId": "e58f8e3e-37c9-4e46-b011-05c1087ac841",
        "colab": {
          "base_uri": "https://localhost:8080/"
        }
      },
      "source": [
        "from google.colab import drive\n",
        "drive.mount('/content/drive')"
      ],
      "execution_count": 1,
      "outputs": [
        {
          "output_type": "stream",
          "text": [
            "Drive already mounted at /content/drive; to attempt to forcibly remount, call drive.mount(\"/content/drive\", force_remount=True).\n"
          ],
          "name": "stdout"
        }
      ]
    },
    {
      "cell_type": "code",
      "metadata": {
        "id": "dHvQTa7MRRCM"
      },
      "source": [
        "import numpy as np\n",
        "import pandas as pd"
      ],
      "execution_count": 2,
      "outputs": []
    },
    {
      "cell_type": "code",
      "metadata": {
        "id": "bw5HpR0bdARH"
      },
      "source": [
        "from nltk.corpus import stopwords\n",
        "\n",
        "from gensim.models import Word2Vec\n",
        "from gensim.models import Phrases\n",
        "from gensim.models.phrases import Phraser"
      ],
      "execution_count": 3,
      "outputs": []
    },
    {
      "cell_type": "markdown",
      "metadata": {
        "id": "ZUxClgxrR3SS"
      },
      "source": [
        "Мероприятия"
      ]
    },
    {
      "cell_type": "code",
      "metadata": {
        "id": "2rDck876QzbB"
      },
      "source": [
        "events = pd.read_csv('drive/My Drive/Colab Notebooks/hackaton/events.csv')"
      ],
      "execution_count": 4,
      "outputs": []
    },
    {
      "cell_type": "code",
      "metadata": {
        "id": "vFv8wCVwboor"
      },
      "source": [
        "events=events.fillna('')"
      ],
      "execution_count": 5,
      "outputs": []
    },
    {
      "cell_type": "code",
      "metadata": {
        "id": "YvvoM1M6RM9I",
        "outputId": "c3dd1b06-3e2b-4734-83d8-3b4dd67027fb",
        "colab": {
          "base_uri": "https://localhost:8080/",
          "height": 335
        }
      },
      "source": [
        "events.head(2)"
      ],
      "execution_count": 6,
      "outputs": [
        {
          "output_type": "execute_result",
          "data": {
            "text/html": [
              "<div>\n",
              "<style scoped>\n",
              "    .dataframe tbody tr th:only-of-type {\n",
              "        vertical-align: middle;\n",
              "    }\n",
              "\n",
              "    .dataframe tbody tr th {\n",
              "        vertical-align: top;\n",
              "    }\n",
              "\n",
              "    .dataframe thead th {\n",
              "        text-align: right;\n",
              "    }\n",
              "</style>\n",
              "<table border=\"1\" class=\"dataframe\">\n",
              "  <thead>\n",
              "    <tr style=\"text-align: right;\">\n",
              "      <th></th>\n",
              "      <th>id</th>\n",
              "      <th>Название мероприятия</th>\n",
              "      <th>Статус</th>\n",
              "      <th>Наименование учреждения</th>\n",
              "      <th>Тип учреждения</th>\n",
              "      <th>Подразделение</th>\n",
              "      <th>Стоимость (полная)</th>\n",
              "      <th>Тип мероприятия</th>\n",
              "      <th>Направленность мероприятия</th>\n",
              "      <th>Мероприятие относится к ежегодным праздникам и общегородским мероприятиям</th>\n",
              "      <th>Наименование праздника или события</th>\n",
              "      <th>Дата начала мероприятия</th>\n",
              "      <th>Время начала мероприятия</th>\n",
              "      <th>Дата окончания мероприятия</th>\n",
              "      <th>Время окончания мероприятия</th>\n",
              "      <th>Краткое описание</th>\n",
              "      <th>Проводится онлайн</th>\n",
              "      <th>Место проведения</th>\n",
              "      <th>Округ</th>\n",
              "      <th>Район</th>\n",
              "      <th>Доступность мероприятия для лиц с ОВЗ</th>\n",
              "      <th>Тип ОВЗ</th>\n",
              "      <th>Возрастной ценз участников мероприятия</th>\n",
              "      <th>Возрастная категория</th>\n",
              "      <th>Целевая аудитория</th>\n",
              "    </tr>\n",
              "  </thead>\n",
              "  <tbody>\n",
              "    <tr>\n",
              "      <th>0</th>\n",
              "      <td>5</td>\n",
              "      <td>Фестивлаь современных молодежных уличных культ...</td>\n",
              "      <td>Завершено</td>\n",
              "      <td>ГБУК г. Москвы «Клуб «Современник»</td>\n",
              "      <td>Дома культуры</td>\n",
              "      <td></td>\n",
              "      <td>бесплатное</td>\n",
              "      <td>фестиваль</td>\n",
              "      <td>культурно-досуговое</td>\n",
              "      <td></td>\n",
              "      <td></td>\n",
              "      <td>13.06.2020 16:00</td>\n",
              "      <td></td>\n",
              "      <td>13.06.2020 20:00</td>\n",
              "      <td></td>\n",
              "      <td>Клуб Современник проведет фестиваль современны...</td>\n",
              "      <td>Нет</td>\n",
              "      <td></td>\n",
              "      <td></td>\n",
              "      <td></td>\n",
              "      <td>недоступно</td>\n",
              "      <td></td>\n",
              "      <td>0+</td>\n",
              "      <td>от 20 до 40</td>\n",
              "      <td></td>\n",
              "    </tr>\n",
              "    <tr>\n",
              "      <th>1</th>\n",
              "      <td>12</td>\n",
              "      <td>Танцевальный вечер \"Ретро\" в честь Дня Победы ...</td>\n",
              "      <td>Завершено</td>\n",
              "      <td>ГБУК г.Москвы «ДК «Нагорный»</td>\n",
              "      <td>Дома культуры</td>\n",
              "      <td></td>\n",
              "      <td>бесплатное</td>\n",
              "      <td>танцевальный вечер, бал</td>\n",
              "      <td>патриотическое</td>\n",
              "      <td>праздник</td>\n",
              "      <td>9 мая. День Победы</td>\n",
              "      <td>09.05.2020 14:30</td>\n",
              "      <td></td>\n",
              "      <td>09.05.2020 17:30</td>\n",
              "      <td></td>\n",
              "      <td>Танцевальный вечер \"Ретро\" в честь Дня Победы</td>\n",
              "      <td>Нет</td>\n",
              "      <td>Электролитный пр. 3, корпус 1</td>\n",
              "      <td>Южный административный округ</td>\n",
              "      <td>Нагорный</td>\n",
              "      <td>недоступно</td>\n",
              "      <td></td>\n",
              "      <td>16+</td>\n",
              "      <td>от 40 до 85</td>\n",
              "      <td>работающая молодежь, взрослые, пенсионеры</td>\n",
              "    </tr>\n",
              "  </tbody>\n",
              "</table>\n",
              "</div>"
            ],
            "text/plain": [
              "   id  ...                          Целевая аудитория\n",
              "0   5  ...                                           \n",
              "1  12  ...  работающая молодежь, взрослые, пенсионеры\n",
              "\n",
              "[2 rows x 25 columns]"
            ]
          },
          "metadata": {
            "tags": []
          },
          "execution_count": 6
        }
      ]
    },
    {
      "cell_type": "code",
      "metadata": {
        "id": "r2WajfrybsIQ"
      },
      "source": [
        "events['text']=events['Название мероприятия']+' '+events['Наименование учреждения']+' '+events['Направленность мероприятия']+' '+events['Краткое описание']"
      ],
      "execution_count": 7,
      "outputs": []
    },
    {
      "cell_type": "markdown",
      "metadata": {
        "id": "y-OSyCdOR704"
      },
      "source": [
        "**Кружки**"
      ]
    },
    {
      "cell_type": "code",
      "metadata": {
        "id": "ucTBX_h8ROrO"
      },
      "source": [
        "hobbies = pd.read_csv('drive/My Drive/Colab Notebooks/hackaton/club_type.csv',sep=';')"
      ],
      "execution_count": 8,
      "outputs": []
    },
    {
      "cell_type": "code",
      "metadata": {
        "id": "qFxk4HheScqI"
      },
      "source": [
        "hobbies.drop(columns='Unnamed: 0', inplace=True)\n",
        "hobbies.columns = ['id_classificator', 'id_parent', 'hobbie']"
      ],
      "execution_count": 9,
      "outputs": []
    },
    {
      "cell_type": "code",
      "metadata": {
        "id": "8mbJYx8eSh0l",
        "outputId": "08c1d860-6aa1-472f-b6ce-9a4290e4546a",
        "colab": {
          "base_uri": "https://localhost:8080/",
          "height": 359
        }
      },
      "source": [
        "hobbies.head(10)"
      ],
      "execution_count": 82,
      "outputs": [
        {
          "output_type": "execute_result",
          "data": {
            "text/html": [
              "<div>\n",
              "<style scoped>\n",
              "    .dataframe tbody tr th:only-of-type {\n",
              "        vertical-align: middle;\n",
              "    }\n",
              "\n",
              "    .dataframe tbody tr th {\n",
              "        vertical-align: top;\n",
              "    }\n",
              "\n",
              "    .dataframe thead th {\n",
              "        text-align: right;\n",
              "    }\n",
              "</style>\n",
              "<table border=\"1\" class=\"dataframe\">\n",
              "  <thead>\n",
              "    <tr style=\"text-align: right;\">\n",
              "      <th></th>\n",
              "      <th>id_classificator</th>\n",
              "      <th>id_parent</th>\n",
              "      <th>hobbie</th>\n",
              "      <th>text</th>\n",
              "    </tr>\n",
              "  </thead>\n",
              "  <tbody>\n",
              "    <tr>\n",
              "      <th>0</th>\n",
              "      <td>3002985</td>\n",
              "      <td></td>\n",
              "      <td>Автошкола</td>\n",
              "      <td>Автошкола</td>\n",
              "    </tr>\n",
              "    <tr>\n",
              "      <th>1</th>\n",
              "      <td>3002986</td>\n",
              "      <td>3.00298e+06</td>\n",
              "      <td>Автоклуб</td>\n",
              "      <td>Автоклуб</td>\n",
              "    </tr>\n",
              "    <tr>\n",
              "      <th>2</th>\n",
              "      <td>3002987</td>\n",
              "      <td>3.00298e+06</td>\n",
              "      <td>Правила дорожного движения</td>\n",
              "      <td>Правила дорожного движения</td>\n",
              "    </tr>\n",
              "    <tr>\n",
              "      <th>3</th>\n",
              "      <td>3002988</td>\n",
              "      <td>3.00298e+06</td>\n",
              "      <td>Юный водитель</td>\n",
              "      <td>Юный водитель</td>\n",
              "    </tr>\n",
              "    <tr>\n",
              "      <th>4</th>\n",
              "      <td>3002989</td>\n",
              "      <td></td>\n",
              "      <td>Архитектура</td>\n",
              "      <td>Архитектура</td>\n",
              "    </tr>\n",
              "    <tr>\n",
              "      <th>5</th>\n",
              "      <td>3002990</td>\n",
              "      <td>3.00299e+06</td>\n",
              "      <td>Основы архитектуры</td>\n",
              "      <td>Основы архитектуры</td>\n",
              "    </tr>\n",
              "    <tr>\n",
              "      <th>6</th>\n",
              "      <td>3002991</td>\n",
              "      <td></td>\n",
              "      <td>Военная история</td>\n",
              "      <td>Военная история</td>\n",
              "    </tr>\n",
              "    <tr>\n",
              "      <th>7</th>\n",
              "      <td>3002992</td>\n",
              "      <td>3.00299e+06</td>\n",
              "      <td>Военно-историческая реконструкция</td>\n",
              "      <td>Военно-историческая реконструкция</td>\n",
              "    </tr>\n",
              "    <tr>\n",
              "      <th>8</th>\n",
              "      <td>3002993</td>\n",
              "      <td>3.00299e+06</td>\n",
              "      <td>Военно-историческое моделирование</td>\n",
              "      <td>Военно-историческое моделирование</td>\n",
              "    </tr>\n",
              "    <tr>\n",
              "      <th>9</th>\n",
              "      <td>3002994</td>\n",
              "      <td>3.00299e+06</td>\n",
              "      <td>Военно-патриотический клуб</td>\n",
              "      <td>Военно-патриотический клуб</td>\n",
              "    </tr>\n",
              "  </tbody>\n",
              "</table>\n",
              "</div>"
            ],
            "text/plain": [
              "   id_classificator  ...                               text\n",
              "0           3002985  ...                          Автошкола\n",
              "1           3002986  ...                           Автоклуб\n",
              "2           3002987  ...         Правила дорожного движения\n",
              "3           3002988  ...                      Юный водитель\n",
              "4           3002989  ...                        Архитектура\n",
              "5           3002990  ...                 Основы архитектуры\n",
              "6           3002991  ...                    Военная история\n",
              "7           3002992  ...  Военно-историческая реконструкция\n",
              "8           3002993  ...  Военно-историческое моделирование\n",
              "9           3002994  ...         Военно-патриотический клуб\n",
              "\n",
              "[10 rows x 4 columns]"
            ]
          },
          "metadata": {
            "tags": []
          },
          "execution_count": 82
        }
      ]
    },
    {
      "cell_type": "code",
      "metadata": {
        "id": "uCrKnft4bWCp"
      },
      "source": [
        "hobbies=hobbies.fillna('')"
      ],
      "execution_count": 11,
      "outputs": []
    },
    {
      "cell_type": "code",
      "metadata": {
        "id": "gX7JJK8FdVJk"
      },
      "source": [
        "hobbies['text']=hobbies['hobbie']"
      ],
      "execution_count": 12,
      "outputs": []
    },
    {
      "cell_type": "markdown",
      "metadata": {
        "id": "-7hSguyBTG0Y"
      },
      "source": [
        "**Книги**"
      ]
    },
    {
      "cell_type": "code",
      "metadata": {
        "id": "hLWgJzwWTBRE"
      },
      "source": [
        "books = pd.read_csv('drive/My Drive/Colab Notebooks/hackaton/books_catalog_.csv', sep='\\t')"
      ],
      "execution_count": 13,
      "outputs": []
    },
    {
      "cell_type": "code",
      "metadata": {
        "id": "FAalCj9tTjjE",
        "outputId": "e28ef039-66ad-49a9-d780-a77f7ec80ba6",
        "colab": {
          "base_uri": "https://localhost:8080/",
          "height": 461
        }
      },
      "source": [
        "books.head(10)"
      ],
      "execution_count": 14,
      "outputs": [
        {
          "output_type": "execute_result",
          "data": {
            "text/html": [
              "<div>\n",
              "<style scoped>\n",
              "    .dataframe tbody tr th:only-of-type {\n",
              "        vertical-align: middle;\n",
              "    }\n",
              "\n",
              "    .dataframe tbody tr th {\n",
              "        vertical-align: top;\n",
              "    }\n",
              "\n",
              "    .dataframe thead th {\n",
              "        text-align: right;\n",
              "    }\n",
              "</style>\n",
              "<table border=\"1\" class=\"dataframe\">\n",
              "  <thead>\n",
              "    <tr style=\"text-align: right;\">\n",
              "      <th></th>\n",
              "      <th>doc_id</th>\n",
              "      <th>p100a</th>\n",
              "      <th>p245a</th>\n",
              "      <th>p260a</th>\n",
              "      <th>p260b</th>\n",
              "      <th>p260c</th>\n",
              "      <th>p490a</th>\n",
              "      <th>p650a</th>\n",
              "      <th>p084a</th>\n",
              "      <th>p521a</th>\n",
              "    </tr>\n",
              "  </thead>\n",
              "  <tbody>\n",
              "    <tr>\n",
              "      <th>0</th>\n",
              "      <td>1</td>\n",
              "      <td>Устинова Татьяна Витальевна</td>\n",
              "      <td>Призрак Канта</td>\n",
              "      <td>Москва</td>\n",
              "      <td>Эксмо</td>\n",
              "      <td>2018</td>\n",
              "      <td>Татьяна Устинова. Первая среди лучших</td>\n",
              "      <td>Художественная литература ; Российский детектив</td>\n",
              "      <td>84(2Рос)6</td>\n",
              "      <td>16+</td>\n",
              "    </tr>\n",
              "    <tr>\n",
              "      <th>1</th>\n",
              "      <td>2</td>\n",
              "      <td>NaN</td>\n",
              "      <td>Наука и жизнь</td>\n",
              "      <td>Москва</td>\n",
              "      <td>АНО Редакция журнала «Наука и жизнь»</td>\n",
              "      <td>1938-</td>\n",
              "      <td>NaN</td>\n",
              "      <td>Наука. Науковедение</td>\n",
              "      <td>72</td>\n",
              "      <td>12+</td>\n",
              "    </tr>\n",
              "    <tr>\n",
              "      <th>2</th>\n",
              "      <td>3</td>\n",
              "      <td>NaN</td>\n",
              "      <td>Наука и жизнь</td>\n",
              "      <td>NaN</td>\n",
              "      <td>NaN</td>\n",
              "      <td>2018</td>\n",
              "      <td>NaN</td>\n",
              "      <td>Наука. Науковедение</td>\n",
              "      <td>72</td>\n",
              "      <td>12+</td>\n",
              "    </tr>\n",
              "    <tr>\n",
              "      <th>3</th>\n",
              "      <td>4</td>\n",
              "      <td>NaN</td>\n",
              "      <td>Наука и жизнь</td>\n",
              "      <td>NaN</td>\n",
              "      <td>NaN</td>\n",
              "      <td>2018</td>\n",
              "      <td>NaN</td>\n",
              "      <td>Наука. Науковедение</td>\n",
              "      <td>72</td>\n",
              "      <td>12+</td>\n",
              "    </tr>\n",
              "    <tr>\n",
              "      <th>4</th>\n",
              "      <td>5</td>\n",
              "      <td>NaN</td>\n",
              "      <td>Наука и жизнь</td>\n",
              "      <td>NaN</td>\n",
              "      <td>NaN</td>\n",
              "      <td>2018</td>\n",
              "      <td>NaN</td>\n",
              "      <td>Наука. Науковедение</td>\n",
              "      <td>72</td>\n",
              "      <td>12+</td>\n",
              "    </tr>\n",
              "    <tr>\n",
              "      <th>5</th>\n",
              "      <td>6</td>\n",
              "      <td>Тараканов Борис Игоревич</td>\n",
              "      <td>Кольцо времени</td>\n",
              "      <td>Москва</td>\n",
              "      <td>АиФ Принт</td>\n",
              "      <td>2001</td>\n",
              "      <td>Черная звезда</td>\n",
              "      <td>Художественная литература ; Фэнтэзи</td>\n",
              "      <td>84(2Рос)6</td>\n",
              "      <td>NaN</td>\n",
              "    </tr>\n",
              "    <tr>\n",
              "      <th>6</th>\n",
              "      <td>8</td>\n",
              "      <td>NaN</td>\n",
              "      <td>Фантастика-86</td>\n",
              "      <td>Москва</td>\n",
              "      <td>Молодая гвардия</td>\n",
              "      <td>1986</td>\n",
              "      <td>NaN</td>\n",
              "      <td>Художественная литература</td>\n",
              "      <td>84(2Рос)6</td>\n",
              "      <td>NaN</td>\n",
              "    </tr>\n",
              "    <tr>\n",
              "      <th>7</th>\n",
              "      <td>9</td>\n",
              "      <td>NaN</td>\n",
              "      <td>Фантастика-90</td>\n",
              "      <td>Москва</td>\n",
              "      <td>Молодая гвардия</td>\n",
              "      <td>1990</td>\n",
              "      <td>NaN</td>\n",
              "      <td>Художественная литература ; Фантастика</td>\n",
              "      <td>84(2Рос)6</td>\n",
              "      <td>NaN</td>\n",
              "    </tr>\n",
              "    <tr>\n",
              "      <th>8</th>\n",
              "      <td>10</td>\n",
              "      <td>Федотова Надежда Григорьевна</td>\n",
              "      <td>Вождей не выбирают</td>\n",
              "      <td>Москва</td>\n",
              "      <td>Армада ; Альфа-книга</td>\n",
              "      <td>2005</td>\n",
              "      <td>NaN</td>\n",
              "      <td>Художественная литература ; Художественно-доку...</td>\n",
              "      <td>84(2Рос)6</td>\n",
              "      <td>NaN</td>\n",
              "    </tr>\n",
              "    <tr>\n",
              "      <th>9</th>\n",
              "      <td>11</td>\n",
              "      <td>Федорова Екатерина</td>\n",
              "      <td>Леди-рыцарь</td>\n",
              "      <td>Москва</td>\n",
              "      <td>Армада ; Альфа-книга</td>\n",
              "      <td>2002</td>\n",
              "      <td>NaN</td>\n",
              "      <td>Художественная литература ; Фантастика</td>\n",
              "      <td>84(2Рос)6</td>\n",
              "      <td>NaN</td>\n",
              "    </tr>\n",
              "  </tbody>\n",
              "</table>\n",
              "</div>"
            ],
            "text/plain": [
              "   doc_id                         p100a  ...      p084a p521a\n",
              "0       1   Устинова Татьяна Витальевна  ...  84(2Рос)6   16+\n",
              "1       2                           NaN  ...         72   12+\n",
              "2       3                           NaN  ...         72   12+\n",
              "3       4                           NaN  ...         72   12+\n",
              "4       5                           NaN  ...         72   12+\n",
              "5       6      Тараканов Борис Игоревич  ...  84(2Рос)6   NaN\n",
              "6       8                           NaN  ...  84(2Рос)6   NaN\n",
              "7       9                           NaN  ...  84(2Рос)6   NaN\n",
              "8      10  Федотова Надежда Григорьевна  ...  84(2Рос)6   NaN\n",
              "9      11            Федорова Екатерина  ...  84(2Рос)6   NaN\n",
              "\n",
              "[10 rows x 10 columns]"
            ]
          },
          "metadata": {
            "tags": []
          },
          "execution_count": 14
        }
      ]
    },
    {
      "cell_type": "code",
      "metadata": {
        "id": "N7xuBsHsUnnT"
      },
      "source": [
        "books = books[['doc_id', 'p100a', 'p245a', 'p650a']]"
      ],
      "execution_count": 15,
      "outputs": []
    },
    {
      "cell_type": "code",
      "metadata": {
        "id": "l2X9Omy5Va5H"
      },
      "source": [
        "books.columns = ['book_id', 'author', 'name', 'genre']"
      ],
      "execution_count": 16,
      "outputs": []
    },
    {
      "cell_type": "code",
      "metadata": {
        "id": "vnegEKT8VoD9"
      },
      "source": [
        "books=books.fillna('')"
      ],
      "execution_count": 17,
      "outputs": []
    },
    {
      "cell_type": "code",
      "metadata": {
        "id": "woR7WCf9VemF",
        "outputId": "73be8cd7-a08c-44f8-d048-77fd9b8668d1",
        "colab": {
          "base_uri": "https://localhost:8080/",
          "height": 204
        }
      },
      "source": [
        "books.head(5)"
      ],
      "execution_count": 18,
      "outputs": [
        {
          "output_type": "execute_result",
          "data": {
            "text/html": [
              "<div>\n",
              "<style scoped>\n",
              "    .dataframe tbody tr th:only-of-type {\n",
              "        vertical-align: middle;\n",
              "    }\n",
              "\n",
              "    .dataframe tbody tr th {\n",
              "        vertical-align: top;\n",
              "    }\n",
              "\n",
              "    .dataframe thead th {\n",
              "        text-align: right;\n",
              "    }\n",
              "</style>\n",
              "<table border=\"1\" class=\"dataframe\">\n",
              "  <thead>\n",
              "    <tr style=\"text-align: right;\">\n",
              "      <th></th>\n",
              "      <th>book_id</th>\n",
              "      <th>author</th>\n",
              "      <th>name</th>\n",
              "      <th>genre</th>\n",
              "    </tr>\n",
              "  </thead>\n",
              "  <tbody>\n",
              "    <tr>\n",
              "      <th>0</th>\n",
              "      <td>1</td>\n",
              "      <td>Устинова Татьяна Витальевна</td>\n",
              "      <td>Призрак Канта</td>\n",
              "      <td>Художественная литература ; Российский детектив</td>\n",
              "    </tr>\n",
              "    <tr>\n",
              "      <th>1</th>\n",
              "      <td>2</td>\n",
              "      <td></td>\n",
              "      <td>Наука и жизнь</td>\n",
              "      <td>Наука. Науковедение</td>\n",
              "    </tr>\n",
              "    <tr>\n",
              "      <th>2</th>\n",
              "      <td>3</td>\n",
              "      <td></td>\n",
              "      <td>Наука и жизнь</td>\n",
              "      <td>Наука. Науковедение</td>\n",
              "    </tr>\n",
              "    <tr>\n",
              "      <th>3</th>\n",
              "      <td>4</td>\n",
              "      <td></td>\n",
              "      <td>Наука и жизнь</td>\n",
              "      <td>Наука. Науковедение</td>\n",
              "    </tr>\n",
              "    <tr>\n",
              "      <th>4</th>\n",
              "      <td>5</td>\n",
              "      <td></td>\n",
              "      <td>Наука и жизнь</td>\n",
              "      <td>Наука. Науковедение</td>\n",
              "    </tr>\n",
              "  </tbody>\n",
              "</table>\n",
              "</div>"
            ],
            "text/plain": [
              "   book_id  ...                                            genre\n",
              "0        1  ...  Художественная литература ; Российский детектив\n",
              "1        2  ...                              Наука. Науковедение\n",
              "2        3  ...                              Наука. Науковедение\n",
              "3        4  ...                              Наука. Науковедение\n",
              "4        5  ...                              Наука. Науковедение\n",
              "\n",
              "[5 rows x 4 columns]"
            ]
          },
          "metadata": {
            "tags": []
          },
          "execution_count": 18
        }
      ]
    },
    {
      "cell_type": "code",
      "metadata": {
        "id": "0qL6NySnbRwa"
      },
      "source": [
        "books['text']=books['author']+' '+books['name']"
      ],
      "execution_count": 19,
      "outputs": []
    },
    {
      "cell_type": "markdown",
      "metadata": {
        "id": "KVnf9B8zhICM"
      },
      "source": [
        "**Сборка в единый датасет**"
      ]
    },
    {
      "cell_type": "code",
      "metadata": {
        "id": "5Dxf0MHAdMfC"
      },
      "source": [
        "pdList = [events[['id', 'text']], hobbies[['id_classificator', 'text']], books[['book_id', 'text']]]  # List of your dataframes\n",
        "df = pd.concat(pdList)"
      ],
      "execution_count": 20,
      "outputs": []
    },
    {
      "cell_type": "code",
      "metadata": {
        "id": "4J-ccKvnedwH",
        "outputId": "90d3bd2c-e57b-44ec-b3fa-098c84a49716",
        "colab": {
          "base_uri": "https://localhost:8080/",
          "height": 419
        }
      },
      "source": [
        "df"
      ],
      "execution_count": 21,
      "outputs": [
        {
          "output_type": "execute_result",
          "data": {
            "text/html": [
              "<div>\n",
              "<style scoped>\n",
              "    .dataframe tbody tr th:only-of-type {\n",
              "        vertical-align: middle;\n",
              "    }\n",
              "\n",
              "    .dataframe tbody tr th {\n",
              "        vertical-align: top;\n",
              "    }\n",
              "\n",
              "    .dataframe thead th {\n",
              "        text-align: right;\n",
              "    }\n",
              "</style>\n",
              "<table border=\"1\" class=\"dataframe\">\n",
              "  <thead>\n",
              "    <tr style=\"text-align: right;\">\n",
              "      <th></th>\n",
              "      <th>id</th>\n",
              "      <th>text</th>\n",
              "      <th>id_classificator</th>\n",
              "      <th>book_id</th>\n",
              "    </tr>\n",
              "  </thead>\n",
              "  <tbody>\n",
              "    <tr>\n",
              "      <th>0</th>\n",
              "      <td>5.0</td>\n",
              "      <td>Фестивлаь современных молодежных уличных культ...</td>\n",
              "      <td>NaN</td>\n",
              "      <td>NaN</td>\n",
              "    </tr>\n",
              "    <tr>\n",
              "      <th>1</th>\n",
              "      <td>12.0</td>\n",
              "      <td>Танцевальный вечер \"Ретро\" в честь Дня Победы ...</td>\n",
              "      <td>NaN</td>\n",
              "      <td>NaN</td>\n",
              "    </tr>\n",
              "    <tr>\n",
              "      <th>2</th>\n",
              "      <td>3179.0</td>\n",
              "      <td>Врасплох ГБУК г. Москвы «ДК «Нагатино» антитер...</td>\n",
              "      <td>NaN</td>\n",
              "      <td>NaN</td>\n",
              "    </tr>\n",
              "    <tr>\n",
              "      <th>3</th>\n",
              "      <td>486.0</td>\n",
              "      <td>Праздник Новогодней елки. Новогодний концерт в...</td>\n",
              "      <td>NaN</td>\n",
              "      <td>NaN</td>\n",
              "    </tr>\n",
              "    <tr>\n",
              "      <th>4</th>\n",
              "      <td>2100.0</td>\n",
              "      <td>Выставка к Рождеству \"Сувенир Года\" ГБУК г.Мос...</td>\n",
              "      <td>NaN</td>\n",
              "      <td>NaN</td>\n",
              "    </tr>\n",
              "    <tr>\n",
              "      <th>...</th>\n",
              "      <td>...</td>\n",
              "      <td>...</td>\n",
              "      <td>...</td>\n",
              "      <td>...</td>\n",
              "    </tr>\n",
              "    <tr>\n",
              "      <th>1370452</th>\n",
              "      <td>NaN</td>\n",
              "      <td>Золотой век русской поэзии [Текст]</td>\n",
              "      <td>NaN</td>\n",
              "      <td>1783623.0</td>\n",
              "    </tr>\n",
              "    <tr>\n",
              "      <th>1370453</th>\n",
              "      <td>NaN</td>\n",
              "      <td>Антология русского лиризма. XX век</td>\n",
              "      <td>NaN</td>\n",
              "      <td>1783624.0</td>\n",
              "    </tr>\n",
              "    <tr>\n",
              "      <th>1370454</th>\n",
              "      <td>NaN</td>\n",
              "      <td>Кэрролл Льюис Приключения Алисы</td>\n",
              "      <td>NaN</td>\n",
              "      <td>1783625.0</td>\n",
              "    </tr>\n",
              "    <tr>\n",
              "      <th>1370455</th>\n",
              "      <td>NaN</td>\n",
              "      <td>Барб-Галль Франсуаза Шедевры мировой живописи....</td>\n",
              "      <td>NaN</td>\n",
              "      <td>1783626.0</td>\n",
              "    </tr>\n",
              "    <tr>\n",
              "      <th>1370456</th>\n",
              "      <td>NaN</td>\n",
              "      <td>Немов Роберт Семенович Психология</td>\n",
              "      <td>NaN</td>\n",
              "      <td>1783627.0</td>\n",
              "    </tr>\n",
              "  </tbody>\n",
              "</table>\n",
              "<p>1412154 rows × 4 columns</p>\n",
              "</div>"
            ],
            "text/plain": [
              "             id  ...    book_id\n",
              "0           5.0  ...        NaN\n",
              "1          12.0  ...        NaN\n",
              "2        3179.0  ...        NaN\n",
              "3         486.0  ...        NaN\n",
              "4        2100.0  ...        NaN\n",
              "...         ...  ...        ...\n",
              "1370452     NaN  ...  1783623.0\n",
              "1370453     NaN  ...  1783624.0\n",
              "1370454     NaN  ...  1783625.0\n",
              "1370455     NaN  ...  1783626.0\n",
              "1370456     NaN  ...  1783627.0\n",
              "\n",
              "[1412154 rows x 4 columns]"
            ]
          },
          "metadata": {
            "tags": []
          },
          "execution_count": 21
        }
      ]
    },
    {
      "cell_type": "markdown",
      "metadata": {
        "id": "f0nRL22phO-R"
      },
      "source": [
        "**Предобработка текста**"
      ]
    },
    {
      "cell_type": "code",
      "metadata": {
        "id": "7hROGtVQgB2E",
        "outputId": "cf97690b-8bfa-430c-de65-d11dbfb2a7ba",
        "colab": {
          "base_uri": "https://localhost:8080/"
        }
      },
      "source": [
        "!pip install nltk"
      ],
      "execution_count": 22,
      "outputs": [
        {
          "output_type": "stream",
          "text": [
            "Requirement already satisfied: nltk in /usr/local/lib/python3.6/dist-packages (3.2.5)\n",
            "Requirement already satisfied: six in /usr/local/lib/python3.6/dist-packages (from nltk) (1.15.0)\n"
          ],
          "name": "stdout"
        }
      ]
    },
    {
      "cell_type": "code",
      "metadata": {
        "id": "1QY2_1Gbehiq",
        "outputId": "2c2cdd81-3c38-496b-dd6a-ad5101ad1488",
        "colab": {
          "base_uri": "https://localhost:8080/"
        }
      },
      "source": [
        "import nltk\n",
        "nltk.download(\"stopwords\")\n",
        "#--------#\n",
        "\n",
        "from nltk.corpus import stopwords\n",
        "from pymystem3 import Mystem\n",
        "from string import punctuation\n",
        "from nltk.tokenize import word_tokenize\n",
        "from nltk.stem.snowball import SnowballStemmer\n",
        "import re\n",
        "\n",
        "\n",
        "#Create lemmatizer and stopwords list\n",
        "mystem = Mystem() \n",
        "stemmer = SnowballStemmer('russian')\n",
        "russian_stopwords = stopwords.words(\"russian\")"
      ],
      "execution_count": 23,
      "outputs": [
        {
          "output_type": "stream",
          "text": [
            "[nltk_data] Downloading package stopwords to /root/nltk_data...\n",
            "[nltk_data]   Package stopwords is already up-to-date!\n"
          ],
          "name": "stdout"
        }
      ]
    },
    {
      "cell_type": "code",
      "metadata": {
        "id": "CIYb8ZW3fajz"
      },
      "source": [
        "#Preprocess function\n",
        "def preprocess_text(text):\n",
        "    \n",
        "    tokens = re.sub(r'[^A-Za-zА-Яа-яёЁ0-9-\\s]',r'',str(text).lower())\n",
        "    #tokens = mystem.lemmatize(text.lower())\n",
        "    tokens = tokens.split(' ')\n",
        "    tokens = [token for token in tokens if token not in russian_stopwords\\\n",
        "              and token != \" \" \\\n",
        "              and token.strip() not in punctuation]\n",
        "    #text = \" \".join(tokens)\n",
        "    \n",
        "    tokens = [stemmer.stem(word) for word in tokens] #??????????\n",
        "\n",
        "    return tokens"
      ],
      "execution_count": 24,
      "outputs": []
    },
    {
      "cell_type": "code",
      "metadata": {
        "id": "p--FiismQ9ld"
      },
      "source": [
        "def preprocess_text_easy(text):\n",
        "    \n",
        "    tokens = re.sub(r'[^a-zа-яё0-9-\\s]',r'',str(text).lower())\n",
        "\n",
        "    return tokens"
      ],
      "execution_count": 25,
      "outputs": []
    },
    {
      "cell_type": "code",
      "metadata": {
        "id": "U8CpEhbugkTA",
        "outputId": "d11ba220-5b4c-4c93-89bc-0e4e1900837b",
        "colab": {
          "base_uri": "https://localhost:8080/"
        }
      },
      "source": [
        "preprocess_text(\"Ну что сказать, я вижу кто-то наступил на грабли, Ты разочаровал меня, ты был натравлен.\")\n"
      ],
      "execution_count": 26,
      "outputs": [
        {
          "output_type": "execute_result",
          "data": {
            "text/plain": [
              "['сказа', 'виж', 'кто-т', 'наступ', 'грабл', 'разочарова', 'натравл']"
            ]
          },
          "metadata": {
            "tags": []
          },
          "execution_count": 26
        }
      ]
    },
    {
      "cell_type": "code",
      "metadata": {
        "id": "5BG83nMzgsSw"
      },
      "source": [
        "text_new =df[\"text\"].apply(preprocess_text)"
      ],
      "execution_count": 27,
      "outputs": []
    },
    {
      "cell_type": "code",
      "metadata": {
        "id": "IftxYZnGRLQV"
      },
      "source": [
        "#text_easy = df[\"text\"].apply(preprocess_text_easy)"
      ],
      "execution_count": 28,
      "outputs": []
    },
    {
      "cell_type": "code",
      "metadata": {
        "id": "K4ryg8auqARQ"
      },
      "source": [
        "df['text_new'] = text_new\n",
        "#df['text_easy'] = text_easy"
      ],
      "execution_count": 29,
      "outputs": []
    },
    {
      "cell_type": "code",
      "metadata": {
        "id": "VCsD2ODtqGXz",
        "outputId": "4395b5bf-8d55-489f-e321-14167b275528",
        "colab": {
          "base_uri": "https://localhost:8080/",
          "height": 204
        }
      },
      "source": [
        "df.head()"
      ],
      "execution_count": 30,
      "outputs": [
        {
          "output_type": "execute_result",
          "data": {
            "text/html": [
              "<div>\n",
              "<style scoped>\n",
              "    .dataframe tbody tr th:only-of-type {\n",
              "        vertical-align: middle;\n",
              "    }\n",
              "\n",
              "    .dataframe tbody tr th {\n",
              "        vertical-align: top;\n",
              "    }\n",
              "\n",
              "    .dataframe thead th {\n",
              "        text-align: right;\n",
              "    }\n",
              "</style>\n",
              "<table border=\"1\" class=\"dataframe\">\n",
              "  <thead>\n",
              "    <tr style=\"text-align: right;\">\n",
              "      <th></th>\n",
              "      <th>id</th>\n",
              "      <th>text</th>\n",
              "      <th>id_classificator</th>\n",
              "      <th>book_id</th>\n",
              "      <th>text_new</th>\n",
              "    </tr>\n",
              "  </thead>\n",
              "  <tbody>\n",
              "    <tr>\n",
              "      <th>0</th>\n",
              "      <td>5.0</td>\n",
              "      <td>Фестивлаь современных молодежных уличных культ...</td>\n",
              "      <td>NaN</td>\n",
              "      <td>NaN</td>\n",
              "      <td>[фестивла, современ, молодежн, уличн, культур,...</td>\n",
              "    </tr>\n",
              "    <tr>\n",
              "      <th>1</th>\n",
              "      <td>12.0</td>\n",
              "      <td>Танцевальный вечер \"Ретро\" в честь Дня Победы ...</td>\n",
              "      <td>NaN</td>\n",
              "      <td>NaN</td>\n",
              "      <td>[танцевальн, вечер, ретр, чест, дня, побед, ва...</td>\n",
              "    </tr>\n",
              "    <tr>\n",
              "      <th>2</th>\n",
              "      <td>3179.0</td>\n",
              "      <td>Врасплох ГБУК г. Москвы «ДК «Нагатино» антитер...</td>\n",
              "      <td>NaN</td>\n",
              "      <td>NaN</td>\n",
              "      <td>[врасплох, гбук, г, москв, дк, нагатин, антите...</td>\n",
              "    </tr>\n",
              "    <tr>\n",
              "      <th>3</th>\n",
              "      <td>486.0</td>\n",
              "      <td>Праздник Новогодней елки. Новогодний концерт в...</td>\n",
              "      <td>NaN</td>\n",
              "      <td>NaN</td>\n",
              "      <td>[праздник, новогодн, елк, новогодн, концерт, г...</td>\n",
              "    </tr>\n",
              "    <tr>\n",
              "      <th>4</th>\n",
              "      <td>2100.0</td>\n",
              "      <td>Выставка к Рождеству \"Сувенир Года\" ГБУК г.Мос...</td>\n",
              "      <td>NaN</td>\n",
              "      <td>NaN</td>\n",
              "      <td>[выставк, рождеств, сувенир, год, гбук, гмоскв...</td>\n",
              "    </tr>\n",
              "  </tbody>\n",
              "</table>\n",
              "</div>"
            ],
            "text/plain": [
              "       id  ...                                           text_new\n",
              "0     5.0  ...  [фестивла, современ, молодежн, уличн, культур,...\n",
              "1    12.0  ...  [танцевальн, вечер, ретр, чест, дня, побед, ва...\n",
              "2  3179.0  ...  [врасплох, гбук, г, москв, дк, нагатин, антите...\n",
              "3   486.0  ...  [праздник, новогодн, елк, новогодн, концерт, г...\n",
              "4  2100.0  ...  [выставк, рождеств, сувенир, год, гбук, гмоскв...\n",
              "\n",
              "[5 rows x 5 columns]"
            ]
          },
          "metadata": {
            "tags": []
          },
          "execution_count": 30
        }
      ]
    },
    {
      "cell_type": "code",
      "metadata": {
        "id": "KULwpOemqtm8"
      },
      "source": [
        "from gensim.models import Word2Vec\n",
        "from gensim.models import FastText\n"
      ],
      "execution_count": 31,
      "outputs": []
    },
    {
      "cell_type": "code",
      "metadata": {
        "id": "izfSy9wkJ6LH"
      },
      "source": [
        "\n",
        "model = FastText(sentences=df['text_new'], size=256, window=3)\n"
      ],
      "execution_count": 32,
      "outputs": []
    },
    {
      "cell_type": "code",
      "metadata": {
        "id": "mrKT900_ShJo"
      },
      "source": [
        "from gensim.test.utils import get_tmpfile"
      ],
      "execution_count": 33,
      "outputs": []
    },
    {
      "cell_type": "code",
      "metadata": {
        "id": "mzCHfhZVSCD3"
      },
      "source": [
        "#fname = get_tmpfile('drive/My Drive/Colab Notebooks/hackaton/fasttext.model')\n",
        "#model.save(fname)"
      ],
      "execution_count": 34,
      "outputs": []
    },
    {
      "cell_type": "code",
      "metadata": {
        "id": "3aagTWJqTOuF"
      },
      "source": [
        "model.save('drive/My Drive/Colab Notebooks/hackaton/fasttext.model')"
      ],
      "execution_count": 35,
      "outputs": []
    },
    {
      "cell_type": "code",
      "metadata": {
        "id": "Qh2WFU1jj0lJ"
      },
      "source": [
        "embeddings=[]"
      ],
      "execution_count": 73,
      "outputs": []
    },
    {
      "cell_type": "code",
      "metadata": {
        "id": "qzhNDOR-nBgP",
        "outputId": "2427997d-8a02-45d8-937f-1fc798271fdd",
        "colab": {
          "base_uri": "https://localhost:8080/"
        }
      },
      "source": [
        "model.wv['Фестивлаь современных молодежных уличных культ...\t']"
      ],
      "execution_count": 80,
      "outputs": [
        {
          "output_type": "execute_result",
          "data": {
            "text/plain": [
              "array([ 0.36141336, -0.25877863, -0.69733125, -0.55912435, -0.4816257 ,\n",
              "       -0.26052102, -0.31252518,  0.44131243,  0.1832992 , -0.7832446 ,\n",
              "        0.5063123 ,  0.03259745, -0.1222129 , -0.44227058, -0.39789394,\n",
              "        0.6299624 ,  0.19918299, -0.75434434, -0.13582578, -0.25081116,\n",
              "       -0.21066542, -0.2875092 ,  0.06249294, -0.13586351, -0.4715543 ,\n",
              "        0.40079284,  0.20185131,  0.19646426, -0.48713905,  0.10241161,\n",
              "        0.14512266,  0.12900306, -0.2046513 ,  0.14580221,  0.3844039 ,\n",
              "        0.05120646,  0.03133939,  0.06500049,  0.10541821,  0.10923085,\n",
              "       -0.713263  ,  1.1951798 , -0.61891776,  0.6365845 , -0.22062738,\n",
              "        0.01535683,  0.6391596 ,  0.00308906,  1.2049077 , -0.01622031,\n",
              "        0.24946725,  0.09756835, -0.18851706, -0.45716026, -0.53315437,\n",
              "       -0.41966698, -0.84513587,  0.25634578, -0.26321197, -0.15034294,\n",
              "        0.63398916,  0.28517762, -0.2807712 , -0.2838641 ,  0.20320325,\n",
              "        0.23273583,  0.27117845, -0.32710353, -0.7172847 ,  0.22208948,\n",
              "       -0.52824545,  0.03875744, -0.02312959,  0.5368151 , -0.37955973,\n",
              "       -0.12640087,  0.96704406, -1.5349048 , -0.09838545, -0.70224905,\n",
              "        0.08085962, -0.75738096,  0.08584129,  0.43794006, -0.5258404 ,\n",
              "       -0.10541871, -0.45444673,  0.1684366 , -0.2998092 ,  0.49187937,\n",
              "       -0.11599503, -0.01261729, -0.1184434 , -0.04593743, -0.20709021,\n",
              "       -0.2157769 ,  0.68914   , -0.07738427, -0.44465274,  0.799704  ,\n",
              "        0.52438986, -0.663634  , -0.31651148, -0.07785541, -0.32227477,\n",
              "        1.124556  , -0.5325068 ,  0.6723892 , -0.18993215,  0.30297476,\n",
              "       -1.0491415 ,  0.03078018, -0.15266253,  0.86366284,  0.0081347 ,\n",
              "       -0.19837472, -0.42811677,  0.24956492, -0.2645041 , -0.24722727,\n",
              "        0.54281586, -0.8122313 , -0.1132071 ,  0.52394617,  0.6788284 ,\n",
              "        0.07871193, -0.8298289 ,  0.36054054, -0.05157698,  0.1588338 ,\n",
              "       -0.15145083,  0.4768042 ,  0.16945337, -0.40541434, -1.0440012 ,\n",
              "       -0.45180547,  0.05782858,  0.62246776,  0.00667822, -0.3334898 ,\n",
              "        0.12774259, -0.7099058 , -0.15860534,  0.53268725,  0.67491937,\n",
              "        0.31844395, -0.91869354,  0.405135  , -0.48579523, -0.98710823,\n",
              "        0.37956855, -1.0637286 ,  1.0253607 ,  0.7944676 , -0.05975194,\n",
              "       -0.35889566, -0.87615204, -0.9045126 ,  1.1421368 ,  0.41294557,\n",
              "       -0.12392618, -0.41895065, -0.46467286, -0.6290218 , -0.37010416,\n",
              "       -0.8225216 , -0.69486743, -0.11877287, -0.08295853, -0.27070308,\n",
              "       -0.5258832 , -0.09247939,  0.6086505 , -0.46770063,  0.5860026 ,\n",
              "       -0.6781996 , -0.38695732, -0.9783722 ,  0.29964724,  0.26409227,\n",
              "       -0.06691238, -0.39216918,  0.00156769,  0.01553813, -0.04980288,\n",
              "       -0.2618967 ,  0.18210432, -0.1416072 , -0.5451924 ,  0.9796446 ,\n",
              "       -0.5282232 , -0.22450706,  0.01255936, -0.17615652,  1.0242454 ,\n",
              "        0.9890233 , -0.14603497,  0.46974608, -0.35931766, -0.28794697,\n",
              "       -0.27786034, -0.3134579 ,  0.7073879 , -0.36642435, -0.13017522,\n",
              "       -0.2955108 ,  0.05692084, -1.0579844 ,  0.96489143,  0.27805525,\n",
              "       -0.25111544, -0.6558253 , -0.4118973 ,  0.6325241 ,  0.55760944,\n",
              "        1.1158357 ,  0.6180927 , -0.00437886,  0.38509253, -0.65562785,\n",
              "       -1.2994776 , -0.36894172, -0.06615308, -0.8745678 ,  0.00154428,\n",
              "        0.16918044,  0.39897326, -0.2475227 ,  0.297279  , -0.6376756 ,\n",
              "       -1.0922239 ,  0.13666712, -0.65059835, -0.43910402, -0.00788921,\n",
              "       -0.37837255, -0.35805887, -0.09748738,  0.28815517,  1.1858959 ,\n",
              "        0.00536316, -0.28121084,  1.2464252 ,  0.17040366,  0.2769317 ,\n",
              "        0.23081115,  0.02060911, -0.06861302, -0.26195168, -0.69732445,\n",
              "        1.0149513 , -0.19939953,  0.2700504 , -0.02289486,  0.3825849 ,\n",
              "        0.4850129 ], dtype=float32)"
            ]
          },
          "metadata": {
            "tags": []
          },
          "execution_count": 80
        }
      ]
    },
    {
      "cell_type": "code",
      "metadata": {
        "id": "5bEtfRYbTe4J"
      },
      "source": [
        "model2 = FastText.load('drive/My Drive/Colab Notebooks/hackaton/fasttext.model')"
      ],
      "execution_count": 37,
      "outputs": []
    },
    {
      "cell_type": "code",
      "metadata": {
        "id": "a9fQ0iBmyvU2"
      },
      "source": [
        ""
      ],
      "execution_count": 42,
      "outputs": []
    }
  ]
}