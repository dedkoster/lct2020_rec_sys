{
  "nbformat": 4,
  "nbformat_minor": 0,
  "metadata": {
    "colab": {
      "name": "data_combining.ipynb",
      "provenance": [],
      "collapsed_sections": []
    },
    "kernelspec": {
      "name": "python3",
      "display_name": "Python 3"
    }
  },
  "cells": [
    {
      "cell_type": "code",
      "metadata": {
        "id": "8Nh081Cc0TG_",
        "outputId": "c5e827e8-19b1-4e7e-cbdf-787535fb5d6a",
        "colab": {
          "base_uri": "https://localhost:8080/"
        }
      },
      "source": [
        "from google.colab import drive\n",
        "drive.mount('/content/drive')"
      ],
      "execution_count": 1,
      "outputs": [
        {
          "output_type": "stream",
          "text": [
            "Drive already mounted at /content/drive; to attempt to forcibly remount, call drive.mount(\"/content/drive\", force_remount=True).\n"
          ],
          "name": "stdout"
        }
      ]
    },
    {
      "cell_type": "markdown",
      "metadata": {
        "id": "f-g1D2nq1cv8"
      },
      "source": [
        "Ссылка на датасеты"
      ]
    },
    {
      "cell_type": "code",
      "metadata": {
        "id": "L2o_jYUB1bQd"
      },
      "source": [
        "path = 'https://drive.google.com/drive/u/2/folders/1ThrsjEq4nibWOBvSrkMQhHaMOe4rTf4R'"
      ],
      "execution_count": 2,
      "outputs": []
    },
    {
      "cell_type": "code",
      "metadata": {
        "id": "h49PAXx71k1r"
      },
      "source": [
        "#!pip install pandas==0.21\n",
        "\n"
      ],
      "execution_count": 3,
      "outputs": []
    },
    {
      "cell_type": "code",
      "metadata": {
        "id": "-GExcDlvW-Wl"
      },
      "source": [
        "import pandas as pd\n"
      ],
      "execution_count": 4,
      "outputs": []
    },
    {
      "cell_type": "code",
      "metadata": {
        "id": "baGOS-7pjWDx"
      },
      "source": [
        "import numpy as np"
      ],
      "execution_count": 5,
      "outputs": []
    },
    {
      "cell_type": "code",
      "metadata": {
        "id": "KsOfy5G9W_gP",
        "outputId": "722017e7-0684-417b-a600-205d2a2cb2e5",
        "colab": {
          "base_uri": "https://localhost:8080/",
          "height": 36
        }
      },
      "source": [
        "pd.__version__"
      ],
      "execution_count": 6,
      "outputs": [
        {
          "output_type": "execute_result",
          "data": {
            "application/vnd.google.colaboratory.intrinsic+json": {
              "type": "string"
            },
            "text/plain": [
              "'0.21.0'"
            ]
          },
          "metadata": {
            "tags": []
          },
          "execution_count": 6
        }
      ]
    },
    {
      "cell_type": "code",
      "metadata": {
        "id": "nH9ACNnG1tAW"
      },
      "source": [
        "events_df = pd.read_csv('drive/My Drive/Colab Notebooks/hackaton/events.csv')"
      ],
      "execution_count": 7,
      "outputs": []
    },
    {
      "cell_type": "code",
      "metadata": {
        "id": "wbN_ikrD2Fxk"
      },
      "source": [
        "#events_df.head(2)"
      ],
      "execution_count": 8,
      "outputs": []
    },
    {
      "cell_type": "code",
      "metadata": {
        "id": "tq7qNNjK2hRL"
      },
      "source": [
        "ppl_df = pd.read_csv('drive/My Drive/Colab Notebooks/hackaton/Pupil_hackaton.csv', sep=';')"
      ],
      "execution_count": 9,
      "outputs": []
    },
    {
      "cell_type": "code",
      "metadata": {
        "id": "V0znaA9323s7",
        "outputId": "95add9d4-dcea-4348-c001-84d08579e9d5",
        "colab": {
          "base_uri": "https://localhost:8080/",
          "height": 204
        }
      },
      "source": [
        "ppl_df.head()"
      ],
      "execution_count": 10,
      "outputs": [
        {
          "output_type": "execute_result",
          "data": {
            "text/html": [
              "<div>\n",
              "<style scoped>\n",
              "    .dataframe tbody tr th:only-of-type {\n",
              "        vertical-align: middle;\n",
              "    }\n",
              "\n",
              "    .dataframe tbody tr th {\n",
              "        vertical-align: top;\n",
              "    }\n",
              "\n",
              "    .dataframe thead th {\n",
              "        text-align: right;\n",
              "    }\n",
              "</style>\n",
              "<table border=\"1\" class=\"dataframe\">\n",
              "  <thead>\n",
              "    <tr style=\"text-align: right;\">\n",
              "      <th></th>\n",
              "      <th>id_ученика</th>\n",
              "      <th>возраст</th>\n",
              "      <th>пол</th>\n",
              "    </tr>\n",
              "  </thead>\n",
              "  <tbody>\n",
              "    <tr>\n",
              "      <th>0</th>\n",
              "      <td>1</td>\n",
              "      <td>12.0</td>\n",
              "      <td>Женский</td>\n",
              "    </tr>\n",
              "    <tr>\n",
              "      <th>1</th>\n",
              "      <td>2</td>\n",
              "      <td>12.0</td>\n",
              "      <td>Женский</td>\n",
              "    </tr>\n",
              "    <tr>\n",
              "      <th>2</th>\n",
              "      <td>3</td>\n",
              "      <td>12.0</td>\n",
              "      <td>Женский</td>\n",
              "    </tr>\n",
              "    <tr>\n",
              "      <th>3</th>\n",
              "      <td>4</td>\n",
              "      <td>11.0</td>\n",
              "      <td>Женский</td>\n",
              "    </tr>\n",
              "    <tr>\n",
              "      <th>4</th>\n",
              "      <td>5</td>\n",
              "      <td>12.0</td>\n",
              "      <td>Женский</td>\n",
              "    </tr>\n",
              "  </tbody>\n",
              "</table>\n",
              "</div>"
            ],
            "text/plain": [
              "   id_ученика  возраст      пол\n",
              "0           1     12.0  Женский\n",
              "1           2     12.0  Женский\n",
              "2           3     12.0  Женский\n",
              "3           4     11.0  Женский\n",
              "4           5     12.0  Женский"
            ]
          },
          "metadata": {
            "tags": []
          },
          "execution_count": 10
        }
      ]
    },
    {
      "cell_type": "code",
      "metadata": {
        "id": "OHAyrj4f2602"
      },
      "source": [
        "relations_df = pd.read_csv('drive/My Drive/Colab Notebooks/hackaton/MegaRelation_hackaton.csv', sep=';')"
      ],
      "execution_count": 11,
      "outputs": []
    },
    {
      "cell_type": "code",
      "metadata": {
        "id": "e5HPr2Q53iEb"
      },
      "source": [
        "#relations_df.head()"
      ],
      "execution_count": 12,
      "outputs": []
    },
    {
      "cell_type": "code",
      "metadata": {
        "id": "BHWOAyzN3ku9"
      },
      "source": [
        "club_type_df = pd.read_csv('drive/My Drive/Colab Notebooks/hackaton/club_type.csv',sep=';')"
      ],
      "execution_count": 13,
      "outputs": []
    },
    {
      "cell_type": "code",
      "metadata": {
        "id": "XrotH8MLN922"
      },
      "source": [
        "club_type_df= club_type_df[['id_классификатора', 'id_родительского_классификатора',\n",
        "       'Наименование']]"
      ],
      "execution_count": 14,
      "outputs": []
    },
    {
      "cell_type": "code",
      "metadata": {
        "id": "tloHKInbJHGS"
      },
      "source": [
        "#club_type_df.head()"
      ],
      "execution_count": 15,
      "outputs": []
    },
    {
      "cell_type": "code",
      "metadata": {
        "id": "MsLYVCHt4pXz"
      },
      "source": [
        "org_df= pd.read_csv('drive/My Drive/Colab Notebooks/hackaton/org_hackaton.csv', sep=';')"
      ],
      "execution_count": 16,
      "outputs": []
    },
    {
      "cell_type": "code",
      "metadata": {
        "id": "Qi3oCG7Y6Qmm"
      },
      "source": [
        "#org_df.head()"
      ],
      "execution_count": 17,
      "outputs": []
    },
    {
      "cell_type": "code",
      "metadata": {
        "id": "hXh5lG7p6TE9"
      },
      "source": [
        "request_df= pd.read_csv('drive/My Drive/Colab Notebooks/hackaton/request_hackaton.csv', sep=';')"
      ],
      "execution_count": 18,
      "outputs": []
    },
    {
      "cell_type": "code",
      "metadata": {
        "id": "Fz775FCu6lIm"
      },
      "source": [
        "#request_df.head()"
      ],
      "execution_count": 19,
      "outputs": []
    },
    {
      "cell_type": "code",
      "metadata": {
        "id": "aPKlCobZ6nMV"
      },
      "source": [
        "services_df= pd.read_csv('drive/My Drive/Colab Notebooks/hackaton/services_hackaton.csv', sep=';')"
      ],
      "execution_count": 20,
      "outputs": []
    },
    {
      "cell_type": "code",
      "metadata": {
        "id": "ovpg1GGm6x-a"
      },
      "source": [
        "#services_df.head()"
      ],
      "execution_count": 21,
      "outputs": []
    },
    {
      "cell_type": "code",
      "metadata": {
        "id": "dvbCfJxU6zaB"
      },
      "source": [
        "#events_df.columns"
      ],
      "execution_count": 22,
      "outputs": []
    },
    {
      "cell_type": "code",
      "metadata": {
        "id": "_pkx8y6S9gdQ"
      },
      "source": [
        "#relations_df.columns"
      ],
      "execution_count": 23,
      "outputs": []
    },
    {
      "cell_type": "code",
      "metadata": {
        "id": "oeVL98pwAVGc"
      },
      "source": [
        "relations_with_ppl = relations_df.merge(ppl_df, on='id_ученика', how='left')"
      ],
      "execution_count": 24,
      "outputs": []
    },
    {
      "cell_type": "code",
      "metadata": {
        "id": "1rOmTYLNXFtR",
        "outputId": "b79fb312-e592-4903-f180-db2a1e7e07f5",
        "colab": {
          "base_uri": "https://localhost:8080/",
          "height": 309
        }
      },
      "source": [
        "relations_with_ppl.head()"
      ],
      "execution_count": 61,
      "outputs": [
        {
          "output_type": "execute_result",
          "data": {
            "text/html": [
              "<div>\n",
              "<style scoped>\n",
              "    .dataframe tbody tr th:only-of-type {\n",
              "        vertical-align: middle;\n",
              "    }\n",
              "\n",
              "    .dataframe tbody tr th {\n",
              "        vertical-align: top;\n",
              "    }\n",
              "\n",
              "    .dataframe thead th {\n",
              "        text-align: right;\n",
              "    }\n",
              "</style>\n",
              "<table border=\"1\" class=\"dataframe\">\n",
              "  <thead>\n",
              "    <tr style=\"text-align: right;\">\n",
              "      <th></th>\n",
              "      <th>id_зачисления</th>\n",
              "      <th>Статус</th>\n",
              "      <th>id_ученика</th>\n",
              "      <th>Дата_создания_записи</th>\n",
              "      <th>id_организации</th>\n",
              "      <th>id_заявления</th>\n",
              "      <th>id_услуги</th>\n",
              "      <th>дата_зачисления</th>\n",
              "      <th>дата_отчисления</th>\n",
              "      <th>причина_перевода</th>\n",
              "      <th>предыдущая_запись_зачисления</th>\n",
              "      <th>следующая_запись_зачисления</th>\n",
              "      <th>Плановая_дата_начала_занятий</th>\n",
              "      <th>Плановая_дата_окончания_занятий</th>\n",
              "      <th>возраст</th>\n",
              "      <th>пол</th>\n",
              "    </tr>\n",
              "  </thead>\n",
              "  <tbody>\n",
              "    <tr>\n",
              "      <th>0</th>\n",
              "      <td>1325954</td>\n",
              "      <td>3.0</td>\n",
              "      <td>25969</td>\n",
              "      <td>08.06.2015 14:47:19</td>\n",
              "      <td>30</td>\n",
              "      <td>950832.0</td>\n",
              "      <td>39178</td>\n",
              "      <td>08.06.2015 0:00:00</td>\n",
              "      <td>29.02.2016 19:28:12</td>\n",
              "      <td>NaN</td>\n",
              "      <td>NaN</td>\n",
              "      <td>3558114.0</td>\n",
              "      <td>01.09.2014 0:00:00</td>\n",
              "      <td>01.09.2021 0:00:00</td>\n",
              "      <td>14.0</td>\n",
              "      <td>Мужской</td>\n",
              "    </tr>\n",
              "    <tr>\n",
              "      <th>1</th>\n",
              "      <td>2879918</td>\n",
              "      <td>3.0</td>\n",
              "      <td>158129</td>\n",
              "      <td>29.10.2015 18:35:21</td>\n",
              "      <td>30</td>\n",
              "      <td>989658.0</td>\n",
              "      <td>39178</td>\n",
              "      <td>01.09.2010 0:00:00</td>\n",
              "      <td>29.02.2016 19:23:59</td>\n",
              "      <td>NaN</td>\n",
              "      <td>NaN</td>\n",
              "      <td>3557885.0</td>\n",
              "      <td>01.09.2014 0:00:00</td>\n",
              "      <td>01.09.2021 0:00:00</td>\n",
              "      <td>18.0</td>\n",
              "      <td>Женский</td>\n",
              "    </tr>\n",
              "    <tr>\n",
              "      <th>2</th>\n",
              "      <td>2901258</td>\n",
              "      <td>3.0</td>\n",
              "      <td>304476</td>\n",
              "      <td>02.11.2015 14:05:56</td>\n",
              "      <td>30</td>\n",
              "      <td>950764.0</td>\n",
              "      <td>39178</td>\n",
              "      <td>09.06.2014 0:00:00</td>\n",
              "      <td>29.02.2016 19:28:11</td>\n",
              "      <td>NaN</td>\n",
              "      <td>NaN</td>\n",
              "      <td>3558103.0</td>\n",
              "      <td>01.09.2014 0:00:00</td>\n",
              "      <td>01.09.2021 0:00:00</td>\n",
              "      <td>14.0</td>\n",
              "      <td>Мужской</td>\n",
              "    </tr>\n",
              "    <tr>\n",
              "      <th>3</th>\n",
              "      <td>2912724</td>\n",
              "      <td>3.0</td>\n",
              "      <td>1.13992e+06</td>\n",
              "      <td>03.11.2015 14:29:27</td>\n",
              "      <td>30</td>\n",
              "      <td>950786.0</td>\n",
              "      <td>39178</td>\n",
              "      <td>09.06.2014 0:00:00</td>\n",
              "      <td>29.02.2016 19:28:11</td>\n",
              "      <td>NaN</td>\n",
              "      <td>NaN</td>\n",
              "      <td>3558105.0</td>\n",
              "      <td>01.09.2014 0:00:00</td>\n",
              "      <td>01.09.2021 0:00:00</td>\n",
              "      <td>14.0</td>\n",
              "      <td>Мужской</td>\n",
              "    </tr>\n",
              "    <tr>\n",
              "      <th>4</th>\n",
              "      <td>2912819</td>\n",
              "      <td>3.0</td>\n",
              "      <td>298767</td>\n",
              "      <td>03.11.2015 14:34:15</td>\n",
              "      <td>30</td>\n",
              "      <td>950799.0</td>\n",
              "      <td>39178</td>\n",
              "      <td>09.06.2014 0:00:00</td>\n",
              "      <td>29.02.2016 19:28:11</td>\n",
              "      <td>NaN</td>\n",
              "      <td>NaN</td>\n",
              "      <td>3558106.0</td>\n",
              "      <td>01.09.2014 0:00:00</td>\n",
              "      <td>01.09.2021 0:00:00</td>\n",
              "      <td>13.0</td>\n",
              "      <td>Женский</td>\n",
              "    </tr>\n",
              "  </tbody>\n",
              "</table>\n",
              "</div>"
            ],
            "text/plain": [
              "   id_зачисления  Статус   id_ученика Дата_создания_записи  id_организации  \\\n",
              "0        1325954     3.0        25969  08.06.2015 14:47:19              30   \n",
              "1        2879918     3.0       158129  29.10.2015 18:35:21              30   \n",
              "2        2901258     3.0       304476  02.11.2015 14:05:56              30   \n",
              "3        2912724     3.0  1.13992e+06  03.11.2015 14:29:27              30   \n",
              "4        2912819     3.0       298767  03.11.2015 14:34:15              30   \n",
              "\n",
              "   id_заявления  id_услуги     дата_зачисления      дата_отчисления  \\\n",
              "0      950832.0      39178  08.06.2015 0:00:00  29.02.2016 19:28:12   \n",
              "1      989658.0      39178  01.09.2010 0:00:00  29.02.2016 19:23:59   \n",
              "2      950764.0      39178  09.06.2014 0:00:00  29.02.2016 19:28:11   \n",
              "3      950786.0      39178  09.06.2014 0:00:00  29.02.2016 19:28:11   \n",
              "4      950799.0      39178  09.06.2014 0:00:00  29.02.2016 19:28:11   \n",
              "\n",
              "   причина_перевода  предыдущая_запись_зачисления  \\\n",
              "0               NaN                           NaN   \n",
              "1               NaN                           NaN   \n",
              "2               NaN                           NaN   \n",
              "3               NaN                           NaN   \n",
              "4               NaN                           NaN   \n",
              "\n",
              "   следующая_запись_зачисления Плановая_дата_начала_занятий  \\\n",
              "0                    3558114.0           01.09.2014 0:00:00   \n",
              "1                    3557885.0           01.09.2014 0:00:00   \n",
              "2                    3558103.0           01.09.2014 0:00:00   \n",
              "3                    3558105.0           01.09.2014 0:00:00   \n",
              "4                    3558106.0           01.09.2014 0:00:00   \n",
              "\n",
              "  Плановая_дата_окончания_занятий  возраст      пол  \n",
              "0              01.09.2021 0:00:00     14.0  Мужской  \n",
              "1              01.09.2021 0:00:00     18.0  Женский  \n",
              "2              01.09.2021 0:00:00     14.0  Мужской  \n",
              "3              01.09.2021 0:00:00     14.0  Мужской  \n",
              "4              01.09.2021 0:00:00     13.0  Женский  "
            ]
          },
          "metadata": {
            "tags": []
          },
          "execution_count": 61
        }
      ]
    },
    {
      "cell_type": "code",
      "metadata": {
        "id": "7DcOBwyeBZrp"
      },
      "source": [
        "relations_ppl_org = relations_with_ppl.merge(org_df, on='id_организации', how='left')"
      ],
      "execution_count": 62,
      "outputs": []
    },
    {
      "cell_type": "code",
      "metadata": {
        "id": "6aUl06IICEZ2"
      },
      "source": [
        "relations_ppl_org_req = relations_ppl_org.merge(request_df, on=['id_заявления', 'id_услуги'], how='left')"
      ],
      "execution_count": 63,
      "outputs": []
    },
    {
      "cell_type": "code",
      "metadata": {
        "id": "V9oZuye29uJn"
      },
      "source": [
        "relations_services = relations_ppl_org_req.merge(services_df, on=['id_организации', 'id_услуги'], how='left')"
      ],
      "execution_count": 64,
      "outputs": []
    },
    {
      "cell_type": "code",
      "metadata": {
        "id": "VZ09mj2CK2-r"
      },
      "source": [
        "relations_final= relations_services.merge(club_type_df, left_on='Классификатор_услуги', right_on='id_классификатора', how='left')"
      ],
      "execution_count": 65,
      "outputs": []
    },
    {
      "cell_type": "code",
      "metadata": {
        "id": "rpO5G0PEC9gI",
        "outputId": "3b8705bf-7510-4323-f74d-d830bf628a6c",
        "colab": {
          "base_uri": "https://localhost:8080/"
        }
      },
      "source": [
        "relations_final.info()"
      ],
      "execution_count": 66,
      "outputs": [
        {
          "output_type": "stream",
          "text": [
            "<class 'pandas.core.frame.DataFrame'>\n",
            "Int64Index: 1111478 entries, 0 to 1111477\n",
            "Data columns (total 37 columns):\n",
            "id_зачисления                      1111478 non-null int64\n",
            "Статус                             999204 non-null float64\n",
            "id_ученика                         999204 non-null object\n",
            "Дата_создания_записи               1111474 non-null object\n",
            "id_организации                     1111478 non-null int64\n",
            "id_заявления                       1057941 non-null object\n",
            "id_услуги                          1111478 non-null int64\n",
            "дата_зачисления                    1054834 non-null object\n",
            "дата_отчисления                    750150 non-null object\n",
            "причина_перевода                   2 non-null float64\n",
            "предыдущая_запись_зачисления       277751 non-null float64\n",
            "следующая_запись_зачисления        263876 non-null float64\n",
            "Плановая_дата_начала_занятий       1111074 non-null object\n",
            "Плановая_дата_окончания_занятий    1102947 non-null object\n",
            "возраст                            998420 non-null float64\n",
            "пол                                999204 non-null object\n",
            "полное_наименование                1111331 non-null object\n",
            "краткое_наименование               1111331 non-null object\n",
            "улица                              1031586 non-null object\n",
            "Метро                              1050773 non-null object\n",
            "статус_заявления                   859278 non-null object\n",
            "дата_создания                      859278 non-null object\n",
            "оценка_вступительных_испытаний     44670 non-null float64\n",
            "Испытания_пройдены                 611093 non-null float64\n",
            "Зачисление_разрешено               686692 non-null float64\n",
            "Зачисление_не_разрешено            419734 non-null float64\n",
            "Причина_отказа_в_зачислении        1961 non-null float64\n",
            "Тип_финансирования                 1111478 non-null object\n",
            "Классификатор_услуги               1111478 non-null int64\n",
            "Тип_расписания                     1111478 non-null object\n",
            "Наименование_услуги                1105375 non-null object\n",
            "Дата_создания                      1111476 non-null object\n",
            "длительность_обучения              1111450 non-null object\n",
            "единица_длительности               1111391 non-null object\n",
            "id_классификатора                  1007494 non-null float64\n",
            "id_родительского_классификатора    1006373 non-null float64\n",
            "Наименование                       1007494 non-null object\n",
            "dtypes: float64(12), int64(4), object(21)\n",
            "memory usage: 322.2+ MB\n"
          ],
          "name": "stdout"
        }
      ]
    },
    {
      "cell_type": "code",
      "metadata": {
        "id": "yy3QrcLADB3s",
        "outputId": "a6954cbd-10f8-4247-d0f2-2c0ecbb96c91",
        "colab": {
          "base_uri": "https://localhost:8080/",
          "height": 338
        }
      },
      "source": [
        "relations_final.head(5)"
      ],
      "execution_count": 30,
      "outputs": [
        {
          "output_type": "execute_result",
          "data": {
            "text/html": [
              "<div>\n",
              "<style scoped>\n",
              "    .dataframe tbody tr th:only-of-type {\n",
              "        vertical-align: middle;\n",
              "    }\n",
              "\n",
              "    .dataframe tbody tr th {\n",
              "        vertical-align: top;\n",
              "    }\n",
              "\n",
              "    .dataframe thead th {\n",
              "        text-align: right;\n",
              "    }\n",
              "</style>\n",
              "<table border=\"1\" class=\"dataframe\">\n",
              "  <thead>\n",
              "    <tr style=\"text-align: right;\">\n",
              "      <th></th>\n",
              "      <th>id_зачисления</th>\n",
              "      <th>Статус</th>\n",
              "      <th>id_ученика</th>\n",
              "      <th>Дата_создания_записи</th>\n",
              "      <th>id_организации</th>\n",
              "      <th>id_заявления</th>\n",
              "      <th>id_услуги</th>\n",
              "      <th>дата_зачисления</th>\n",
              "      <th>дата_отчисления</th>\n",
              "      <th>причина_перевода</th>\n",
              "      <th>...</th>\n",
              "      <th>Тип_финансирования</th>\n",
              "      <th>Классификатор_услуги</th>\n",
              "      <th>Тип_расписания</th>\n",
              "      <th>Наименование_услуги</th>\n",
              "      <th>Дата_создания</th>\n",
              "      <th>длительность_обучения</th>\n",
              "      <th>единица_длительности</th>\n",
              "      <th>id_классификатора</th>\n",
              "      <th>id_родительского_классификатора</th>\n",
              "      <th>Наименование</th>\n",
              "    </tr>\n",
              "  </thead>\n",
              "  <tbody>\n",
              "    <tr>\n",
              "      <th>0</th>\n",
              "      <td>1325954</td>\n",
              "      <td>3.0</td>\n",
              "      <td>25969</td>\n",
              "      <td>08.06.2015 14:47:19</td>\n",
              "      <td>30</td>\n",
              "      <td>950832</td>\n",
              "      <td>39178</td>\n",
              "      <td>08.06.2015 0:00:00</td>\n",
              "      <td>29.02.2016 19:28:12</td>\n",
              "      <td>NaN</td>\n",
              "      <td>...</td>\n",
              "      <td>бесплатно</td>\n",
              "      <td>3000001</td>\n",
              "      <td>Индивидуальное</td>\n",
              "      <td>Архитектура</td>\n",
              "      <td>17.07.2013 12:50:32</td>\n",
              "      <td>7,0000</td>\n",
              "      <td>лет</td>\n",
              "      <td>NaN</td>\n",
              "      <td>NaN</td>\n",
              "      <td>NaN</td>\n",
              "    </tr>\n",
              "    <tr>\n",
              "      <th>1</th>\n",
              "      <td>1325954</td>\n",
              "      <td>3.0</td>\n",
              "      <td>25969</td>\n",
              "      <td>08.06.2015 14:47:19</td>\n",
              "      <td>30</td>\n",
              "      <td>950832</td>\n",
              "      <td>39178</td>\n",
              "      <td>08.06.2015 0:00:00</td>\n",
              "      <td>29.02.2016 19:28:12</td>\n",
              "      <td>NaN</td>\n",
              "      <td>...</td>\n",
              "      <td>бесплатно</td>\n",
              "      <td>3000001</td>\n",
              "      <td>Индивидуальное</td>\n",
              "      <td>Архитектура</td>\n",
              "      <td>17.07.2013 12:50:32</td>\n",
              "      <td>7,0000</td>\n",
              "      <td>лет</td>\n",
              "      <td>NaN</td>\n",
              "      <td>NaN</td>\n",
              "      <td>NaN</td>\n",
              "    </tr>\n",
              "    <tr>\n",
              "      <th>2</th>\n",
              "      <td>2879918</td>\n",
              "      <td>3.0</td>\n",
              "      <td>158129</td>\n",
              "      <td>29.10.2015 18:35:21</td>\n",
              "      <td>30</td>\n",
              "      <td>989658</td>\n",
              "      <td>39178</td>\n",
              "      <td>01.09.2010 0:00:00</td>\n",
              "      <td>29.02.2016 19:23:59</td>\n",
              "      <td>NaN</td>\n",
              "      <td>...</td>\n",
              "      <td>бесплатно</td>\n",
              "      <td>3000001</td>\n",
              "      <td>Индивидуальное</td>\n",
              "      <td>Архитектура</td>\n",
              "      <td>17.07.2013 12:50:32</td>\n",
              "      <td>7,0000</td>\n",
              "      <td>лет</td>\n",
              "      <td>NaN</td>\n",
              "      <td>NaN</td>\n",
              "      <td>NaN</td>\n",
              "    </tr>\n",
              "    <tr>\n",
              "      <th>3</th>\n",
              "      <td>2879918</td>\n",
              "      <td>3.0</td>\n",
              "      <td>158129</td>\n",
              "      <td>29.10.2015 18:35:21</td>\n",
              "      <td>30</td>\n",
              "      <td>989658</td>\n",
              "      <td>39178</td>\n",
              "      <td>01.09.2010 0:00:00</td>\n",
              "      <td>29.02.2016 19:23:59</td>\n",
              "      <td>NaN</td>\n",
              "      <td>...</td>\n",
              "      <td>бесплатно</td>\n",
              "      <td>3000001</td>\n",
              "      <td>Индивидуальное</td>\n",
              "      <td>Архитектура</td>\n",
              "      <td>17.07.2013 12:50:32</td>\n",
              "      <td>7,0000</td>\n",
              "      <td>лет</td>\n",
              "      <td>NaN</td>\n",
              "      <td>NaN</td>\n",
              "      <td>NaN</td>\n",
              "    </tr>\n",
              "    <tr>\n",
              "      <th>4</th>\n",
              "      <td>2901258</td>\n",
              "      <td>3.0</td>\n",
              "      <td>304476</td>\n",
              "      <td>02.11.2015 14:05:56</td>\n",
              "      <td>30</td>\n",
              "      <td>950764</td>\n",
              "      <td>39178</td>\n",
              "      <td>09.06.2014 0:00:00</td>\n",
              "      <td>29.02.2016 19:28:11</td>\n",
              "      <td>NaN</td>\n",
              "      <td>...</td>\n",
              "      <td>бесплатно</td>\n",
              "      <td>3000001</td>\n",
              "      <td>Индивидуальное</td>\n",
              "      <td>Архитектура</td>\n",
              "      <td>17.07.2013 12:50:32</td>\n",
              "      <td>7,0000</td>\n",
              "      <td>лет</td>\n",
              "      <td>NaN</td>\n",
              "      <td>NaN</td>\n",
              "      <td>NaN</td>\n",
              "    </tr>\n",
              "  </tbody>\n",
              "</table>\n",
              "<p>5 rows × 37 columns</p>\n",
              "</div>"
            ],
            "text/plain": [
              "   id_зачисления  Статус id_ученика Дата_создания_записи  id_организации  \\\n",
              "0        1325954     3.0      25969  08.06.2015 14:47:19              30   \n",
              "1        1325954     3.0      25969  08.06.2015 14:47:19              30   \n",
              "2        2879918     3.0     158129  29.10.2015 18:35:21              30   \n",
              "3        2879918     3.0     158129  29.10.2015 18:35:21              30   \n",
              "4        2901258     3.0     304476  02.11.2015 14:05:56              30   \n",
              "\n",
              "  id_заявления  id_услуги     дата_зачисления      дата_отчисления  \\\n",
              "0       950832      39178  08.06.2015 0:00:00  29.02.2016 19:28:12   \n",
              "1       950832      39178  08.06.2015 0:00:00  29.02.2016 19:28:12   \n",
              "2       989658      39178  01.09.2010 0:00:00  29.02.2016 19:23:59   \n",
              "3       989658      39178  01.09.2010 0:00:00  29.02.2016 19:23:59   \n",
              "4       950764      39178  09.06.2014 0:00:00  29.02.2016 19:28:11   \n",
              "\n",
              "   причина_перевода     ...       Тип_финансирования  Классификатор_услуги  \\\n",
              "0               NaN     ...                бесплатно               3000001   \n",
              "1               NaN     ...                бесплатно               3000001   \n",
              "2               NaN     ...                бесплатно               3000001   \n",
              "3               NaN     ...                бесплатно               3000001   \n",
              "4               NaN     ...                бесплатно               3000001   \n",
              "\n",
              "   Тип_расписания Наименование_услуги        Дата_создания  \\\n",
              "0  Индивидуальное         Архитектура  17.07.2013 12:50:32   \n",
              "1  Индивидуальное         Архитектура  17.07.2013 12:50:32   \n",
              "2  Индивидуальное         Архитектура  17.07.2013 12:50:32   \n",
              "3  Индивидуальное         Архитектура  17.07.2013 12:50:32   \n",
              "4  Индивидуальное         Архитектура  17.07.2013 12:50:32   \n",
              "\n",
              "  длительность_обучения единица_длительности id_классификатора  \\\n",
              "0                7,0000                  лет               NaN   \n",
              "1                7,0000                  лет               NaN   \n",
              "2                7,0000                  лет               NaN   \n",
              "3                7,0000                  лет               NaN   \n",
              "4                7,0000                  лет               NaN   \n",
              "\n",
              "  id_родительского_классификатора Наименование  \n",
              "0                             NaN          NaN  \n",
              "1                             NaN          NaN  \n",
              "2                             NaN          NaN  \n",
              "3                             NaN          NaN  \n",
              "4                             NaN          NaN  \n",
              "\n",
              "[5 rows x 37 columns]"
            ]
          },
          "metadata": {
            "tags": []
          },
          "execution_count": 30
        }
      ]
    },
    {
      "cell_type": "code",
      "metadata": {
        "id": "6-UXZizHHBzA"
      },
      "source": [
        ""
      ],
      "execution_count": 30,
      "outputs": []
    },
    {
      "cell_type": "markdown",
      "metadata": {
        "id": "4acqZio0ZB4G"
      },
      "source": [
        "Теперь надо посмотреть данные и почистить от людей с отрицательным возрастом, например"
      ]
    },
    {
      "cell_type": "code",
      "metadata": {
        "id": "ioa0ACwjXNrf",
        "outputId": "7b4e76b8-0faa-43e5-cbcb-fd41ebbdd012",
        "colab": {
          "base_uri": "https://localhost:8080/",
          "height": 317
        }
      },
      "source": [
        "relations_final.describe()"
      ],
      "execution_count": 31,
      "outputs": [
        {
          "output_type": "execute_result",
          "data": {
            "text/html": [
              "<div>\n",
              "<style scoped>\n",
              "    .dataframe tbody tr th:only-of-type {\n",
              "        vertical-align: middle;\n",
              "    }\n",
              "\n",
              "    .dataframe tbody tr th {\n",
              "        vertical-align: top;\n",
              "    }\n",
              "\n",
              "    .dataframe thead th {\n",
              "        text-align: right;\n",
              "    }\n",
              "</style>\n",
              "<table border=\"1\" class=\"dataframe\">\n",
              "  <thead>\n",
              "    <tr style=\"text-align: right;\">\n",
              "      <th></th>\n",
              "      <th>id_зачисления</th>\n",
              "      <th>Статус</th>\n",
              "      <th>id_организации</th>\n",
              "      <th>id_услуги</th>\n",
              "      <th>причина_перевода</th>\n",
              "      <th>предыдущая_запись_зачисления</th>\n",
              "      <th>следующая_запись_зачисления</th>\n",
              "      <th>возраст</th>\n",
              "      <th>оценка_вступительных_испытаний</th>\n",
              "      <th>Испытания_пройдены</th>\n",
              "      <th>Зачисление_разрешено</th>\n",
              "      <th>Зачисление_не_разрешено</th>\n",
              "      <th>Причина_отказа_в_зачислении</th>\n",
              "      <th>Классификатор_услуги</th>\n",
              "      <th>id_классификатора</th>\n",
              "      <th>id_родительского_классификатора</th>\n",
              "    </tr>\n",
              "  </thead>\n",
              "  <tbody>\n",
              "    <tr>\n",
              "      <th>count</th>\n",
              "      <td>1.111478e+06</td>\n",
              "      <td>999204.000000</td>\n",
              "      <td>1.111478e+06</td>\n",
              "      <td>1.111478e+06</td>\n",
              "      <td>2.0</td>\n",
              "      <td>2.777510e+05</td>\n",
              "      <td>2.638760e+05</td>\n",
              "      <td>998420.000000</td>\n",
              "      <td>44670.000000</td>\n",
              "      <td>611093.000000</td>\n",
              "      <td>686692.000000</td>\n",
              "      <td>419734.000000</td>\n",
              "      <td>1961.000000</td>\n",
              "      <td>1.111478e+06</td>\n",
              "      <td>1.007494e+06</td>\n",
              "      <td>1.006373e+06</td>\n",
              "    </tr>\n",
              "    <tr>\n",
              "      <th>mean</th>\n",
              "      <td>9.957034e+06</td>\n",
              "      <td>2.017235</td>\n",
              "      <td>6.850508e+03</td>\n",
              "      <td>2.640247e+05</td>\n",
              "      <td>2.0</td>\n",
              "      <td>7.162491e+06</td>\n",
              "      <td>1.130869e+07</td>\n",
              "      <td>15.511014</td>\n",
              "      <td>4.313096</td>\n",
              "      <td>0.073293</td>\n",
              "      <td>0.198792</td>\n",
              "      <td>0.004839</td>\n",
              "      <td>4.864355</td>\n",
              "      <td>3.090820e+06</td>\n",
              "      <td>3.099976e+06</td>\n",
              "      <td>3.099196e+06</td>\n",
              "    </tr>\n",
              "    <tr>\n",
              "      <th>std</th>\n",
              "      <td>9.109389e+06</td>\n",
              "      <td>0.713950</td>\n",
              "      <td>6.484078e+03</td>\n",
              "      <td>2.257340e+05</td>\n",
              "      <td>0.0</td>\n",
              "      <td>7.494426e+06</td>\n",
              "      <td>9.086549e+06</td>\n",
              "      <td>12.302431</td>\n",
              "      <td>0.541192</td>\n",
              "      <td>0.260617</td>\n",
              "      <td>0.399092</td>\n",
              "      <td>0.069393</td>\n",
              "      <td>2.683084</td>\n",
              "      <td>1.117617e+05</td>\n",
              "      <td>1.133830e+05</td>\n",
              "      <td>1.087256e+05</td>\n",
              "    </tr>\n",
              "    <tr>\n",
              "      <th>min</th>\n",
              "      <td>1.000000e+00</td>\n",
              "      <td>1.000000</td>\n",
              "      <td>2.000000e+00</td>\n",
              "      <td>2.590300e+04</td>\n",
              "      <td>2.0</td>\n",
              "      <td>1.030000e+02</td>\n",
              "      <td>9.972000e+03</td>\n",
              "      <td>-1.000000</td>\n",
              "      <td>2.000000</td>\n",
              "      <td>0.000000</td>\n",
              "      <td>0.000000</td>\n",
              "      <td>0.000000</td>\n",
              "      <td>1.000000</td>\n",
              "      <td>3.000001e+06</td>\n",
              "      <td>3.002987e+06</td>\n",
              "      <td>3.002985e+06</td>\n",
              "    </tr>\n",
              "    <tr>\n",
              "      <th>25%</th>\n",
              "      <td>3.373041e+06</td>\n",
              "      <td>2.000000</td>\n",
              "      <td>9.900000e+01</td>\n",
              "      <td>1.170260e+05</td>\n",
              "      <td>2.0</td>\n",
              "      <td>2.855572e+06</td>\n",
              "      <td>3.743810e+06</td>\n",
              "      <td>10.000000</td>\n",
              "      <td>4.000000</td>\n",
              "      <td>0.000000</td>\n",
              "      <td>0.000000</td>\n",
              "      <td>0.000000</td>\n",
              "      <td>3.000000</td>\n",
              "      <td>3.003269e+06</td>\n",
              "      <td>3.003351e+06</td>\n",
              "      <td>3.003268e+06</td>\n",
              "    </tr>\n",
              "    <tr>\n",
              "      <th>50%</th>\n",
              "      <td>6.129685e+06</td>\n",
              "      <td>2.000000</td>\n",
              "      <td>1.084000e+04</td>\n",
              "      <td>2.107870e+05</td>\n",
              "      <td>2.0</td>\n",
              "      <td>3.857428e+06</td>\n",
              "      <td>6.736287e+06</td>\n",
              "      <td>13.000000</td>\n",
              "      <td>4.000000</td>\n",
              "      <td>0.000000</td>\n",
              "      <td>0.000000</td>\n",
              "      <td>0.000000</td>\n",
              "      <td>4.000000</td>\n",
              "      <td>3.003463e+06</td>\n",
              "      <td>3.003485e+06</td>\n",
              "      <td>3.003406e+06</td>\n",
              "    </tr>\n",
              "    <tr>\n",
              "      <th>75%</th>\n",
              "      <td>1.549776e+07</td>\n",
              "      <td>3.000000</td>\n",
              "      <td>1.089500e+04</td>\n",
              "      <td>3.100880e+05</td>\n",
              "      <td>2.0</td>\n",
              "      <td>1.074562e+07</td>\n",
              "      <td>1.772635e+07</td>\n",
              "      <td>16.000000</td>\n",
              "      <td>5.000000</td>\n",
              "      <td>0.000000</td>\n",
              "      <td>0.000000</td>\n",
              "      <td>0.000000</td>\n",
              "      <td>7.000000</td>\n",
              "      <td>3.220405e+06</td>\n",
              "      <td>3.220501e+06</td>\n",
              "      <td>3.220500e+06</td>\n",
              "    </tr>\n",
              "    <tr>\n",
              "      <th>max</th>\n",
              "      <td>3.531141e+07</td>\n",
              "      <td>3.000000</td>\n",
              "      <td>9.098600e+04</td>\n",
              "      <td>1.277439e+06</td>\n",
              "      <td>2.0</td>\n",
              "      <td>3.531028e+07</td>\n",
              "      <td>3.531066e+07</td>\n",
              "      <td>120.000000</td>\n",
              "      <td>5.000000</td>\n",
              "      <td>1.000000</td>\n",
              "      <td>1.000000</td>\n",
              "      <td>1.000000</td>\n",
              "      <td>19.000000</td>\n",
              "      <td>4.507946e+06</td>\n",
              "      <td>4.507946e+06</td>\n",
              "      <td>4.507928e+06</td>\n",
              "    </tr>\n",
              "  </tbody>\n",
              "</table>\n",
              "</div>"
            ],
            "text/plain": [
              "       id_зачисления         Статус  id_организации     id_услуги  \\\n",
              "count   1.111478e+06  999204.000000    1.111478e+06  1.111478e+06   \n",
              "mean    9.957034e+06       2.017235    6.850508e+03  2.640247e+05   \n",
              "std     9.109389e+06       0.713950    6.484078e+03  2.257340e+05   \n",
              "min     1.000000e+00       1.000000    2.000000e+00  2.590300e+04   \n",
              "25%     3.373041e+06       2.000000    9.900000e+01  1.170260e+05   \n",
              "50%     6.129685e+06       2.000000    1.084000e+04  2.107870e+05   \n",
              "75%     1.549776e+07       3.000000    1.089500e+04  3.100880e+05   \n",
              "max     3.531141e+07       3.000000    9.098600e+04  1.277439e+06   \n",
              "\n",
              "       причина_перевода  предыдущая_запись_зачисления  \\\n",
              "count               2.0                  2.777510e+05   \n",
              "mean                2.0                  7.162491e+06   \n",
              "std                 0.0                  7.494426e+06   \n",
              "min                 2.0                  1.030000e+02   \n",
              "25%                 2.0                  2.855572e+06   \n",
              "50%                 2.0                  3.857428e+06   \n",
              "75%                 2.0                  1.074562e+07   \n",
              "max                 2.0                  3.531028e+07   \n",
              "\n",
              "       следующая_запись_зачисления        возраст  \\\n",
              "count                 2.638760e+05  998420.000000   \n",
              "mean                  1.130869e+07      15.511014   \n",
              "std                   9.086549e+06      12.302431   \n",
              "min                   9.972000e+03      -1.000000   \n",
              "25%                   3.743810e+06      10.000000   \n",
              "50%                   6.736287e+06      13.000000   \n",
              "75%                   1.772635e+07      16.000000   \n",
              "max                   3.531066e+07     120.000000   \n",
              "\n",
              "       оценка_вступительных_испытаний  Испытания_пройдены  \\\n",
              "count                    44670.000000       611093.000000   \n",
              "mean                         4.313096            0.073293   \n",
              "std                          0.541192            0.260617   \n",
              "min                          2.000000            0.000000   \n",
              "25%                          4.000000            0.000000   \n",
              "50%                          4.000000            0.000000   \n",
              "75%                          5.000000            0.000000   \n",
              "max                          5.000000            1.000000   \n",
              "\n",
              "       Зачисление_разрешено  Зачисление_не_разрешено  \\\n",
              "count         686692.000000            419734.000000   \n",
              "mean               0.198792                 0.004839   \n",
              "std                0.399092                 0.069393   \n",
              "min                0.000000                 0.000000   \n",
              "25%                0.000000                 0.000000   \n",
              "50%                0.000000                 0.000000   \n",
              "75%                0.000000                 0.000000   \n",
              "max                1.000000                 1.000000   \n",
              "\n",
              "       Причина_отказа_в_зачислении  Классификатор_услуги  id_классификатора  \\\n",
              "count                  1961.000000          1.111478e+06       1.007494e+06   \n",
              "mean                      4.864355          3.090820e+06       3.099976e+06   \n",
              "std                       2.683084          1.117617e+05       1.133830e+05   \n",
              "min                       1.000000          3.000001e+06       3.002987e+06   \n",
              "25%                       3.000000          3.003269e+06       3.003351e+06   \n",
              "50%                       4.000000          3.003463e+06       3.003485e+06   \n",
              "75%                       7.000000          3.220405e+06       3.220501e+06   \n",
              "max                      19.000000          4.507946e+06       4.507946e+06   \n",
              "\n",
              "       id_родительского_классификатора  \n",
              "count                     1.006373e+06  \n",
              "mean                      3.099196e+06  \n",
              "std                       1.087256e+05  \n",
              "min                       3.002985e+06  \n",
              "25%                       3.003268e+06  \n",
              "50%                       3.003406e+06  \n",
              "75%                       3.220500e+06  \n",
              "max                       4.507928e+06  "
            ]
          },
          "metadata": {
            "tags": []
          },
          "execution_count": 31
        }
      ]
    },
    {
      "cell_type": "code",
      "metadata": {
        "id": "qQ9yL5wOZ8pp"
      },
      "source": [
        ""
      ],
      "execution_count": 31,
      "outputs": []
    },
    {
      "cell_type": "markdown",
      "metadata": {
        "id": "4pH-oXZyS6O1"
      },
      "source": [
        "Тут будет сводная таблица"
      ]
    },
    {
      "cell_type": "code",
      "metadata": {
        "id": "iiUNxnqxUdYs"
      },
      "source": [
        "#df1 = relations_final[['id_организации', 'id_ученика','Статус']].drop_duplicates()"
      ],
      "execution_count": 96,
      "outputs": []
    },
    {
      "cell_type": "code",
      "metadata": {
        "id": "y2tvi71QjRXa"
      },
      "source": [
        "#df1['Статус'].fillna(1., inplace=True)"
      ],
      "execution_count": 97,
      "outputs": []
    },
    {
      "cell_type": "code",
      "metadata": {
        "id": "Z_tME5PtkcQ_"
      },
      "source": [
        "#df1.head()"
      ],
      "execution_count": 98,
      "outputs": []
    },
    {
      "cell_type": "code",
      "metadata": {
        "id": "EiLBC9maiDK7"
      },
      "source": [
        "#pupil_by_org = df1.pivot(index='id_ученика', columns='id_организации', values='Статус')"
      ],
      "execution_count": 99,
      "outputs": []
    },
    {
      "cell_type": "code",
      "metadata": {
        "id": "02GsLOrFlYaF"
      },
      "source": [
        "#pupil_by_org.shape (126466, 237) Где статус = 1 или nan"
      ],
      "execution_count": null,
      "outputs": []
    },
    {
      "cell_type": "code",
      "metadata": {
        "id": "PDLHyTRYjk37"
      },
      "source": [
        "#pupil_by_org.shape (126465, 229) Где статус = 1"
      ],
      "execution_count": null,
      "outputs": []
    },
    {
      "cell_type": "code",
      "metadata": {
        "id": "hpAAA_POe0Gz"
      },
      "source": [
        "import gc\n",
        "gc.collect()"
      ],
      "execution_count": null,
      "outputs": []
    },
    {
      "cell_type": "code",
      "metadata": {
        "id": "tF5hvaxtVIZq"
      },
      "source": [
        "df2 = relations_final[['Наименование', 'id_ученика','Статус']].drop_duplicates()"
      ],
      "execution_count": 53,
      "outputs": []
    },
    {
      "cell_type": "code",
      "metadata": {
        "id": "Ff7J9Zjkl_sL"
      },
      "source": [
        "df21=df2[df2['Статус']==1.0]\n",
        "df22=df2[df2['Статус']==3.0]"
      ],
      "execution_count": 54,
      "outputs": []
    },
    {
      "cell_type": "code",
      "metadata": {
        "id": "QepKUHiNVIQ8",
        "outputId": "b6a890c7-07e3-40cf-e574-7eb808e0dfd6",
        "colab": {
          "base_uri": "https://localhost:8080/"
        }
      },
      "source": [
        "df22['Статус'] = df22['Статус'].replace(3., 1.)\n"
      ],
      "execution_count": 55,
      "outputs": [
        {
          "output_type": "stream",
          "text": [
            "/usr/local/lib/python3.6/dist-packages/ipykernel_launcher.py:1: SettingWithCopyWarning: \n",
            "A value is trying to be set on a copy of a slice from a DataFrame.\n",
            "Try using .loc[row_indexer,col_indexer] = value instead\n",
            "\n",
            "See the caveats in the documentation: http://pandas.pydata.org/pandas-docs/stable/indexing.html#indexing-view-versus-copy\n",
            "  \"\"\"Entry point for launching an IPython kernel.\n"
          ],
          "name": "stderr"
        }
      ]
    },
    {
      "cell_type": "code",
      "metadata": {
        "id": "i9YdWnwtUdov"
      },
      "source": [
        "df2=pd.concat([df21,df22])\n",
        "df2 = df2[['Наименование', 'id_ученика','Статус']].drop_duplicates()"
      ],
      "execution_count": 56,
      "outputs": []
    },
    {
      "cell_type": "code",
      "metadata": {
        "id": "Am5tdtnwagyb",
        "outputId": "434c44eb-9bf0-4510-bd7e-2674c6809e87",
        "colab": {
          "base_uri": "https://localhost:8080/"
        }
      },
      "source": [
        "df2.shape"
      ],
      "execution_count": 78,
      "outputs": [
        {
          "output_type": "execute_result",
          "data": {
            "text/plain": [
              "(221244, 3)"
            ]
          },
          "metadata": {
            "tags": []
          },
          "execution_count": 78
        }
      ]
    },
    {
      "cell_type": "code",
      "metadata": {
        "id": "2egINPtfbl9W"
      },
      "source": [
        "df2=df2.dropna()"
      ],
      "execution_count": null,
      "outputs": []
    },
    {
      "cell_type": "code",
      "metadata": {
        "id": "7lURPuOybnfg",
        "outputId": "02b43020-924c-474c-8d38-53c865dbafd5",
        "colab": {
          "base_uri": "https://localhost:8080/"
        }
      },
      "source": [
        "df2.shape"
      ],
      "execution_count": 88,
      "outputs": [
        {
          "output_type": "execute_result",
          "data": {
            "text/plain": [
              "(192958, 3)"
            ]
          },
          "metadata": {
            "tags": []
          },
          "execution_count": 88
        }
      ]
    },
    {
      "cell_type": "code",
      "metadata": {
        "id": "XrOvL1dQVNJG"
      },
      "source": [
        "pupil_by_club = df2.pivot(index='id_ученика', columns='Наименование', values='Статус')"
      ],
      "execution_count": 89,
      "outputs": []
    },
    {
      "cell_type": "code",
      "metadata": {
        "id": "8WOPuv1Rrdmx",
        "outputId": "43dba99b-37ad-40e8-fa88-209d11087b58",
        "colab": {
          "base_uri": "https://localhost:8080/",
          "height": 338
        }
      },
      "source": [
        "relations_final.to_csv('drive/My Drive/Colab Notebooks/hackaton/relations_full.csv', sep=';')"
      ],
      "execution_count": 90,
      "outputs": [
        {
          "output_type": "error",
          "ename": "KeyboardInterrupt",
          "evalue": "ignored",
          "traceback": [
            "\u001b[0;31m---------------------------------------------------------------------------\u001b[0m",
            "\u001b[0;31mKeyboardInterrupt\u001b[0m                         Traceback (most recent call last)",
            "\u001b[0;32m<ipython-input-90-37cfb93f1ccc>\u001b[0m in \u001b[0;36m<module>\u001b[0;34m()\u001b[0m\n\u001b[0;32m----> 1\u001b[0;31m \u001b[0mrelations_final\u001b[0m\u001b[0;34m.\u001b[0m\u001b[0mto_csv\u001b[0m\u001b[0;34m(\u001b[0m\u001b[0;34m'drive/My Drive/Colab Notebooks/hackaton/relations_full.csv'\u001b[0m\u001b[0;34m,\u001b[0m \u001b[0msep\u001b[0m\u001b[0;34m=\u001b[0m\u001b[0;34m';'\u001b[0m\u001b[0;34m)\u001b[0m\u001b[0;34m\u001b[0m\u001b[0;34m\u001b[0m\u001b[0m\n\u001b[0m\u001b[1;32m      2\u001b[0m \u001b[0mpupil_by_org\u001b[0m\u001b[0;34m.\u001b[0m\u001b[0mto_csv\u001b[0m\u001b[0;34m(\u001b[0m\u001b[0;34m'drive/My Drive/Colab Notebooks/hackaton/pupil_by_org.csv'\u001b[0m\u001b[0;34m,\u001b[0m \u001b[0msep\u001b[0m\u001b[0;34m=\u001b[0m\u001b[0;34m';'\u001b[0m\u001b[0;34m)\u001b[0m\u001b[0;34m\u001b[0m\u001b[0;34m\u001b[0m\u001b[0m\n",
            "\u001b[0;32m/usr/local/lib/python3.6/dist-packages/pandas/core/frame.py\u001b[0m in \u001b[0;36mto_csv\u001b[0;34m(self, path_or_buf, sep, na_rep, float_format, columns, header, index, index_label, mode, encoding, compression, quoting, quotechar, line_terminator, chunksize, tupleize_cols, date_format, doublequote, escapechar, decimal)\u001b[0m\n\u001b[1;32m   1522\u001b[0m                                      \u001b[0mdoublequote\u001b[0m\u001b[0;34m=\u001b[0m\u001b[0mdoublequote\u001b[0m\u001b[0;34m,\u001b[0m\u001b[0;34m\u001b[0m\u001b[0;34m\u001b[0m\u001b[0m\n\u001b[1;32m   1523\u001b[0m                                      escapechar=escapechar, decimal=decimal)\n\u001b[0;32m-> 1524\u001b[0;31m         \u001b[0mformatter\u001b[0m\u001b[0;34m.\u001b[0m\u001b[0msave\u001b[0m\u001b[0;34m(\u001b[0m\u001b[0;34m)\u001b[0m\u001b[0;34m\u001b[0m\u001b[0;34m\u001b[0m\u001b[0m\n\u001b[0m\u001b[1;32m   1525\u001b[0m \u001b[0;34m\u001b[0m\u001b[0m\n\u001b[1;32m   1526\u001b[0m         \u001b[0;32mif\u001b[0m \u001b[0mpath_or_buf\u001b[0m \u001b[0;32mis\u001b[0m \u001b[0;32mNone\u001b[0m\u001b[0;34m:\u001b[0m\u001b[0;34m\u001b[0m\u001b[0;34m\u001b[0m\u001b[0m\n",
            "\u001b[0;32m/usr/local/lib/python3.6/dist-packages/pandas/io/formats/format.py\u001b[0m in \u001b[0;36msave\u001b[0;34m(self)\u001b[0m\n\u001b[1;32m   1642\u001b[0m                 \u001b[0mself\u001b[0m\u001b[0;34m.\u001b[0m\u001b[0mwriter\u001b[0m \u001b[0;34m=\u001b[0m \u001b[0mUnicodeWriter\u001b[0m\u001b[0;34m(\u001b[0m\u001b[0mf\u001b[0m\u001b[0;34m,\u001b[0m \u001b[0;34m**\u001b[0m\u001b[0mwriter_kwargs\u001b[0m\u001b[0;34m)\u001b[0m\u001b[0;34m\u001b[0m\u001b[0;34m\u001b[0m\u001b[0m\n\u001b[1;32m   1643\u001b[0m \u001b[0;34m\u001b[0m\u001b[0m\n\u001b[0;32m-> 1644\u001b[0;31m             \u001b[0mself\u001b[0m\u001b[0;34m.\u001b[0m\u001b[0m_save\u001b[0m\u001b[0;34m(\u001b[0m\u001b[0;34m)\u001b[0m\u001b[0;34m\u001b[0m\u001b[0;34m\u001b[0m\u001b[0m\n\u001b[0m\u001b[1;32m   1645\u001b[0m \u001b[0;34m\u001b[0m\u001b[0m\n\u001b[1;32m   1646\u001b[0m         \u001b[0;32mfinally\u001b[0m\u001b[0;34m:\u001b[0m\u001b[0;34m\u001b[0m\u001b[0;34m\u001b[0m\u001b[0m\n",
            "\u001b[0;32m/usr/local/lib/python3.6/dist-packages/pandas/io/formats/format.py\u001b[0m in \u001b[0;36m_save\u001b[0;34m(self)\u001b[0m\n\u001b[1;32m   1744\u001b[0m                 \u001b[0;32mbreak\u001b[0m\u001b[0;34m\u001b[0m\u001b[0;34m\u001b[0m\u001b[0m\n\u001b[1;32m   1745\u001b[0m \u001b[0;34m\u001b[0m\u001b[0m\n\u001b[0;32m-> 1746\u001b[0;31m             \u001b[0mself\u001b[0m\u001b[0;34m.\u001b[0m\u001b[0m_save_chunk\u001b[0m\u001b[0;34m(\u001b[0m\u001b[0mstart_i\u001b[0m\u001b[0;34m,\u001b[0m \u001b[0mend_i\u001b[0m\u001b[0;34m)\u001b[0m\u001b[0;34m\u001b[0m\u001b[0;34m\u001b[0m\u001b[0m\n\u001b[0m\u001b[1;32m   1747\u001b[0m \u001b[0;34m\u001b[0m\u001b[0m\n\u001b[1;32m   1748\u001b[0m     \u001b[0;32mdef\u001b[0m \u001b[0m_save_chunk\u001b[0m\u001b[0;34m(\u001b[0m\u001b[0mself\u001b[0m\u001b[0;34m,\u001b[0m \u001b[0mstart_i\u001b[0m\u001b[0;34m,\u001b[0m \u001b[0mend_i\u001b[0m\u001b[0;34m)\u001b[0m\u001b[0;34m:\u001b[0m\u001b[0;34m\u001b[0m\u001b[0;34m\u001b[0m\u001b[0m\n",
            "\u001b[0;32m/usr/local/lib/python3.6/dist-packages/pandas/io/formats/format.py\u001b[0m in \u001b[0;36m_save_chunk\u001b[0;34m(self, start_i, end_i)\u001b[0m\n\u001b[1;32m   1758\u001b[0m                                   \u001b[0mdecimal\u001b[0m\u001b[0;34m=\u001b[0m\u001b[0mself\u001b[0m\u001b[0;34m.\u001b[0m\u001b[0mdecimal\u001b[0m\u001b[0;34m,\u001b[0m\u001b[0;34m\u001b[0m\u001b[0;34m\u001b[0m\u001b[0m\n\u001b[1;32m   1759\u001b[0m                                   \u001b[0mdate_format\u001b[0m\u001b[0;34m=\u001b[0m\u001b[0mself\u001b[0m\u001b[0;34m.\u001b[0m\u001b[0mdate_format\u001b[0m\u001b[0;34m,\u001b[0m\u001b[0;34m\u001b[0m\u001b[0;34m\u001b[0m\u001b[0m\n\u001b[0;32m-> 1760\u001b[0;31m                                   quoting=self.quoting)\n\u001b[0m\u001b[1;32m   1761\u001b[0m \u001b[0;34m\u001b[0m\u001b[0m\n\u001b[1;32m   1762\u001b[0m             \u001b[0;32mfor\u001b[0m \u001b[0mcol_loc\u001b[0m\u001b[0;34m,\u001b[0m \u001b[0mcol\u001b[0m \u001b[0;32min\u001b[0m \u001b[0mzip\u001b[0m\u001b[0;34m(\u001b[0m\u001b[0mb\u001b[0m\u001b[0;34m.\u001b[0m\u001b[0mmgr_locs\u001b[0m\u001b[0;34m,\u001b[0m \u001b[0md\u001b[0m\u001b[0;34m)\u001b[0m\u001b[0;34m:\u001b[0m\u001b[0;34m\u001b[0m\u001b[0;34m\u001b[0m\u001b[0m\n",
            "\u001b[0;32m/usr/local/lib/python3.6/dist-packages/pandas/core/internals.py\u001b[0m in \u001b[0;36mto_native_types\u001b[0;34m(self, slicer, na_rep, float_format, decimal, quoting, **kwargs)\u001b[0m\n\u001b[1;32m   1857\u001b[0m \u001b[0;34m\u001b[0m\u001b[0m\n\u001b[1;32m   1858\u001b[0m             \u001b[0;32mif\u001b[0m \u001b[0;32mnot\u001b[0m \u001b[0mquoting\u001b[0m\u001b[0;34m:\u001b[0m\u001b[0;34m\u001b[0m\u001b[0;34m\u001b[0m\u001b[0m\n\u001b[0;32m-> 1859\u001b[0;31m                 \u001b[0mvalues\u001b[0m \u001b[0;34m=\u001b[0m \u001b[0mvalues\u001b[0m\u001b[0;34m.\u001b[0m\u001b[0mastype\u001b[0m\u001b[0;34m(\u001b[0m\u001b[0mstr\u001b[0m\u001b[0;34m)\u001b[0m\u001b[0;34m\u001b[0m\u001b[0;34m\u001b[0m\u001b[0m\n\u001b[0m\u001b[1;32m   1860\u001b[0m             \u001b[0;32melse\u001b[0m\u001b[0;34m:\u001b[0m\u001b[0;34m\u001b[0m\u001b[0;34m\u001b[0m\u001b[0m\n\u001b[1;32m   1861\u001b[0m                 \u001b[0mvalues\u001b[0m \u001b[0;34m=\u001b[0m \u001b[0mnp\u001b[0m\u001b[0;34m.\u001b[0m\u001b[0marray\u001b[0m\u001b[0;34m(\u001b[0m\u001b[0mvalues\u001b[0m\u001b[0;34m,\u001b[0m \u001b[0mdtype\u001b[0m\u001b[0;34m=\u001b[0m\u001b[0;34m'object'\u001b[0m\u001b[0;34m)\u001b[0m\u001b[0;34m\u001b[0m\u001b[0;34m\u001b[0m\u001b[0m\n",
            "\u001b[0;31mKeyboardInterrupt\u001b[0m: "
          ]
        }
      ]
    },
    {
      "cell_type": "code",
      "metadata": {
        "id": "UHPPUTm0V2uK"
      },
      "source": [
        "pupil_by_club.to_csv('drive/My Drive/Colab Notebooks/hackaton/pupil_by_club.csv', sep=';')"
      ],
      "execution_count": 91,
      "outputs": []
    },
    {
      "cell_type": "code",
      "metadata": {
        "id": "nmHpCp9OWu5u"
      },
      "source": [
        ""
      ],
      "execution_count": null,
      "outputs": []
    },
    {
      "cell_type": "code",
      "metadata": {
        "id": "FN9TU_kdWb9k"
      },
      "source": [
        "df3 = relations_final[['Наименование', 'id_ученика','Статус', 'возраст', 'пол']].drop_duplicates()"
      ],
      "execution_count": 68,
      "outputs": []
    },
    {
      "cell_type": "code",
      "metadata": {
        "id": "vK4ix0MMWf-1",
        "outputId": "bee3b739-5653-48d1-a101-8c6246e85cd6",
        "colab": {
          "base_uri": "https://localhost:8080/"
        }
      },
      "source": [
        "df31=df3[df3['Статус']==1.0]\n",
        "df32=df3[df3['Статус']==3.0]\n",
        "df32['Статус'] = df22['Статус'].replace(3., 1.)\n",
        "df3=pd.concat([df31,df32])\n",
        "df3 = df3[['Наименование', 'id_ученика','Статус', 'возраст', 'пол']].drop_duplicates()"
      ],
      "execution_count": 70,
      "outputs": [
        {
          "output_type": "stream",
          "text": [
            "/usr/local/lib/python3.6/dist-packages/ipykernel_launcher.py:3: SettingWithCopyWarning: \n",
            "A value is trying to be set on a copy of a slice from a DataFrame.\n",
            "Try using .loc[row_indexer,col_indexer] = value instead\n",
            "\n",
            "See the caveats in the documentation: http://pandas.pydata.org/pandas-docs/stable/indexing.html#indexing-view-versus-copy\n",
            "  This is separate from the ipykernel package so we can avoid doing imports until\n"
          ],
          "name": "stderr"
        }
      ]
    },
    {
      "cell_type": "code",
      "metadata": {
        "id": "JRy6c01mV-Sr"
      },
      "source": [
        "df3.to_csv('drive/My Drive/Colab Notebooks/hackaton/pupil_info.csv', sep=';')"
      ],
      "execution_count": 71,
      "outputs": []
    },
    {
      "cell_type": "code",
      "metadata": {
        "id": "BYRBqjAlXy-E"
      },
      "source": [
        ""
      ],
      "execution_count": 87,
      "outputs": []
    },
    {
      "cell_type": "code",
      "metadata": {
        "id": "rfuwrglJayp6"
      },
      "source": [
        ""
      ],
      "execution_count": null,
      "outputs": []
    }
  ]
}