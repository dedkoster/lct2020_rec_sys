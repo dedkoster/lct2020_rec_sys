{
  "nbformat": 4,
  "nbformat_minor": 0,
  "metadata": {
    "colab": {
      "name": "embeddings.ipynb",
      "provenance": [],
      "collapsed_sections": []
    },
    "kernelspec": {
      "name": "python3",
      "display_name": "Python 3"
    },
    "accelerator": "TPU"
  },
  "cells": [
    {
      "cell_type": "code",
      "metadata": {
        "id": "_RKawMb2qds4",
        "outputId": "f4efc328-b7dd-426d-beda-82f0cdc9808d",
        "colab": {
          "base_uri": "https://localhost:8080/"
        }
      },
      "source": [
        "from google.colab import drive\n",
        "drive.mount('/content/drive')"
      ],
      "execution_count": 1,
      "outputs": [
        {
          "output_type": "stream",
          "text": [
            "Mounted at /content/drive\n"
          ],
          "name": "stdout"
        }
      ]
    },
    {
      "cell_type": "code",
      "metadata": {
        "id": "KpWPv4yhrHOl"
      },
      "source": [
        "import numpy as np\n",
        "import pandas as pd\n",
        "from gensim.models import FastText\n",
        "\n",
        "import nltk\n",
        "nltk.download(\"stopwords\")\n",
        "#--------#\n",
        "\n",
        "from nltk.corpus import stopwords\n",
        "from pymystem3 import Mystem\n",
        "from string import punctuation\n",
        "from nltk.tokenize import word_tokenize\n",
        "from nltk.stem.snowball import SnowballStemmer\n",
        "import re\n",
        "\n",
        "from scipy.spatial.distance import cosine"
      ],
      "execution_count": 2,
      "outputs": []
    },
    {
      "cell_type": "code",
      "metadata": {
        "id": "CqKtQbsfrPrP"
      },
      "source": [
        "model = FastText.load('drive/My Drive/Colab Notebooks/hackaton/fasttext.model')"
      ],
      "execution_count": 3,
      "outputs": []
    },
    {
      "cell_type": "code",
      "metadata": {
        "id": "iswv7ybxrqom",
        "outputId": "0256e9d6-50fa-4989-f0b7-eea58c028534",
        "colab": {
          "base_uri": "https://localhost:8080/"
        }
      },
      "source": [
        "data= pd.read_csv('drive/My Drive/Colab Notebooks/hackaton/relations_full.csv', sep=';')"
      ],
      "execution_count": 4,
      "outputs": [
        {
          "output_type": "stream",
          "text": [
            "/usr/local/lib/python3.6/dist-packages/IPython/core/interactiveshell.py:2718: DtypeWarning: Columns (37) have mixed types.Specify dtype option on import or set low_memory=False.\n",
            "  interactivity=interactivity, compiler=compiler, result=result)\n"
          ],
          "name": "stderr"
        }
      ]
    },
    {
      "cell_type": "code",
      "metadata": {
        "id": "wqj298Ez1FCP"
      },
      "source": [
        "data = data[['id_ученика','пол','возраст','Наименование']].drop_duplicates() #Наименование_услуги или Наименование (?)\n",
        "data.columns = ['id', 'sex', 'age', 'name'] "
      ],
      "execution_count": 8,
      "outputs": []
    },
    {
      "cell_type": "code",
      "metadata": {
        "id": "0MKeNwJhtuNt"
      },
      "source": [
        "embeddings = model.wv[data['name']]"
      ],
      "execution_count": 11,
      "outputs": []
    },
    {
      "cell_type": "code",
      "metadata": {
        "id": "8Rp1JpUIycJ2"
      },
      "source": [
        "data['embedding']=embeddings.tolist()"
      ],
      "execution_count": 13,
      "outputs": []
    },
    {
      "cell_type": "code",
      "metadata": {
        "id": "15omYPxk6Auj"
      },
      "source": [
        "users = data[['id', 'embedding']]"
      ],
      "execution_count": 45,
      "outputs": []
    },
    {
      "cell_type": "code",
      "metadata": {
        "id": "jbHi5lB2REEO",
        "outputId": "ae5425db-91c3-4e76-95f4-5ac905dd6729",
        "colab": {
          "base_uri": "https://localhost:8080/",
          "height": 80
        }
      },
      "source": [
        "users.head(1)"
      ],
      "execution_count": 48,
      "outputs": [
        {
          "output_type": "execute_result",
          "data": {
            "text/html": [
              "<div>\n",
              "<style scoped>\n",
              "    .dataframe tbody tr th:only-of-type {\n",
              "        vertical-align: middle;\n",
              "    }\n",
              "\n",
              "    .dataframe tbody tr th {\n",
              "        vertical-align: top;\n",
              "    }\n",
              "\n",
              "    .dataframe thead th {\n",
              "        text-align: right;\n",
              "    }\n",
              "</style>\n",
              "<table border=\"1\" class=\"dataframe\">\n",
              "  <thead>\n",
              "    <tr style=\"text-align: right;\">\n",
              "      <th></th>\n",
              "      <th>id</th>\n",
              "      <th>embedding</th>\n",
              "    </tr>\n",
              "  </thead>\n",
              "  <tbody>\n",
              "    <tr>\n",
              "      <th>0</th>\n",
              "      <td>25969.0</td>\n",
              "      <td>[0.23481345176696777, -0.010903395712375641, -...</td>\n",
              "    </tr>\n",
              "  </tbody>\n",
              "</table>\n",
              "</div>"
            ],
            "text/plain": [
              "        id                                          embedding\n",
              "0  25969.0  [0.23481345176696777, -0.010903395712375641, -..."
            ]
          },
          "metadata": {
            "tags": []
          },
          "execution_count": 48
        }
      ]
    },
    {
      "cell_type": "code",
      "metadata": {
        "id": "rcRRYgvm3l6f"
      },
      "source": [
        "users_emb = users.groupby('id', as_index=False)['embedding'].sum()"
      ],
      "execution_count": 105,
      "outputs": []
    },
    {
      "cell_type": "code",
      "metadata": {
        "id": "3HTMAxExT2hl",
        "outputId": "a4ec85d2-838d-4a2a-9754-ce6f5cf62df9",
        "colab": {
          "base_uri": "https://localhost:8080/",
          "height": 204
        }
      },
      "source": [
        "users_emb.head()"
      ],
      "execution_count": 108,
      "outputs": [
        {
          "output_type": "execute_result",
          "data": {
            "text/html": [
              "<div>\n",
              "<style scoped>\n",
              "    .dataframe tbody tr th:only-of-type {\n",
              "        vertical-align: middle;\n",
              "    }\n",
              "\n",
              "    .dataframe tbody tr th {\n",
              "        vertical-align: top;\n",
              "    }\n",
              "\n",
              "    .dataframe thead th {\n",
              "        text-align: right;\n",
              "    }\n",
              "</style>\n",
              "<table border=\"1\" class=\"dataframe\">\n",
              "  <thead>\n",
              "    <tr style=\"text-align: right;\">\n",
              "      <th></th>\n",
              "      <th>id</th>\n",
              "      <th>embedding</th>\n",
              "    </tr>\n",
              "  </thead>\n",
              "  <tbody>\n",
              "    <tr>\n",
              "      <th>0</th>\n",
              "      <td>1.0</td>\n",
              "      <td>[0.23481345176696777, -0.010903395712375641, -...</td>\n",
              "    </tr>\n",
              "    <tr>\n",
              "      <th>1</th>\n",
              "      <td>2.0</td>\n",
              "      <td>[0.23481345176696777, -0.010903395712375641, -...</td>\n",
              "    </tr>\n",
              "    <tr>\n",
              "      <th>2</th>\n",
              "      <td>3.0</td>\n",
              "      <td>[0.23481345176696777, -0.010903395712375641, -...</td>\n",
              "    </tr>\n",
              "    <tr>\n",
              "      <th>3</th>\n",
              "      <td>4.0</td>\n",
              "      <td>[0.23481345176696777, -0.010903395712375641, -...</td>\n",
              "    </tr>\n",
              "    <tr>\n",
              "      <th>4</th>\n",
              "      <td>5.0</td>\n",
              "      <td>[0.23481345176696777, -0.010903395712375641, -...</td>\n",
              "    </tr>\n",
              "  </tbody>\n",
              "</table>\n",
              "</div>"
            ],
            "text/plain": [
              "    id                                          embedding\n",
              "0  1.0  [0.23481345176696777, -0.010903395712375641, -...\n",
              "1  2.0  [0.23481345176696777, -0.010903395712375641, -...\n",
              "2  3.0  [0.23481345176696777, -0.010903395712375641, -...\n",
              "3  4.0  [0.23481345176696777, -0.010903395712375641, -...\n",
              "4  5.0  [0.23481345176696777, -0.010903395712375641, -..."
            ]
          },
          "metadata": {
            "tags": []
          },
          "execution_count": 108
        }
      ]
    },
    {
      "cell_type": "code",
      "metadata": {
        "id": "fxrFc4l7rP27"
      },
      "source": [
        "users_emb.to_csv('drive/My Drive/Colab Notebooks/hackaton/user_emb.csv')"
      ],
      "execution_count": 157,
      "outputs": []
    },
    {
      "cell_type": "code",
      "metadata": {
        "id": "foeX93qGVcqo"
      },
      "source": [
        "events = pd.read_csv('drive/My Drive/Colab Notebooks/hackaton/events.csv')"
      ],
      "execution_count": 70,
      "outputs": []
    },
    {
      "cell_type": "code",
      "metadata": {
        "id": "7LDmUKwwVod4"
      },
      "source": [
        "events=events.fillna('')"
      ],
      "execution_count": 71,
      "outputs": []
    },
    {
      "cell_type": "code",
      "metadata": {
        "id": "sPDhNikEWPMV",
        "outputId": "558bc02c-aa68-4be6-9e40-d7af2a0b0090",
        "colab": {
          "base_uri": "https://localhost:8080/"
        }
      },
      "source": [
        "#Create lemmatizer and stopwords list\n",
        "mystem = Mystem() \n",
        "stemmer = SnowballStemmer('russian')\n",
        "russian_stopwords = stopwords.words(\"russian\")\n",
        "\n",
        "#Preprocess function\n",
        "def preprocess_text(text):\n",
        "    \n",
        "    tokens = re.sub(r'[^A-Za-zА-Яа-яёЁ0-9-\\s]',r'',str(text).lower())\n",
        "    #tokens = mystem.lemmatize(text.lower())\n",
        "    tokens = tokens.split(' ')\n",
        "    tokens = [token for token in tokens if token not in russian_stopwords\\\n",
        "              and token != \" \" \\\n",
        "              and token.strip() not in punctuation]\n",
        "    #text = \" \".join(tokens)\n",
        "    \n",
        "    tokens = [stemmer.stem(word) for word in tokens] #??????????\n",
        "\n",
        "    return tokens\n",
        "\n",
        "#Preprocess function\n",
        "def preprocess_text2(text):\n",
        "    \n",
        "    tokens = re.sub(r'[^A-Za-zА-Яа-яёЁ0-9-\\s]',r'',str(text).lower())\n",
        "    #tokens = mystem.lemmatize(text.lower())\n",
        "    #tokens = tokens.split(' ')\n",
        "    #tokens = [token for token in tokens if token not in russian_stopwords\\\n",
        "              #and token != \" \" \\\n",
        "              #and token.strip() not in punctuation]\n",
        "    #text = \" \".join(tokens)\n",
        "    \n",
        "    #tokens = [stemmer.stem(word) for word in tokens] #??????????\n",
        "\n",
        "    return tokens"
      ],
      "execution_count": 92,
      "outputs": [
        {
          "output_type": "stream",
          "text": [
            "[nltk_data] Downloading package stopwords to /root/nltk_data...\n",
            "[nltk_data]   Package stopwords is already up-to-date!\n"
          ],
          "name": "stdout"
        }
      ]
    },
    {
      "cell_type": "code",
      "metadata": {
        "id": "T6DEmX-eVsNl"
      },
      "source": [
        "events['text']=events['Название мероприятия']+' '+events['Наименование учреждения']+' '+events['Направленность мероприятия']+' '+events['Краткое описание']"
      ],
      "execution_count": 93,
      "outputs": []
    },
    {
      "cell_type": "code",
      "metadata": {
        "id": "gtgkUJmNWYok"
      },
      "source": [
        "text_new=events[\"text\"].apply(preprocess_text2)\n",
        "#text_new =events[\"text\"].apply(preprocess_text)\n",
        "events['text_new'] = text_new\n"
      ],
      "execution_count": 94,
      "outputs": []
    },
    {
      "cell_type": "code",
      "metadata": {
        "id": "By6ZQVY3Xipc",
        "outputId": "e0de3033-2e4f-4779-c515-f2f949c24988",
        "colab": {
          "base_uri": "https://localhost:8080/",
          "height": 335
        }
      },
      "source": [
        "events.head(2)"
      ],
      "execution_count": 98,
      "outputs": [
        {
          "output_type": "execute_result",
          "data": {
            "text/html": [
              "<div>\n",
              "<style scoped>\n",
              "    .dataframe tbody tr th:only-of-type {\n",
              "        vertical-align: middle;\n",
              "    }\n",
              "\n",
              "    .dataframe tbody tr th {\n",
              "        vertical-align: top;\n",
              "    }\n",
              "\n",
              "    .dataframe thead th {\n",
              "        text-align: right;\n",
              "    }\n",
              "</style>\n",
              "<table border=\"1\" class=\"dataframe\">\n",
              "  <thead>\n",
              "    <tr style=\"text-align: right;\">\n",
              "      <th></th>\n",
              "      <th>id</th>\n",
              "      <th>Название мероприятия</th>\n",
              "      <th>Статус</th>\n",
              "      <th>Наименование учреждения</th>\n",
              "      <th>Тип учреждения</th>\n",
              "      <th>Подразделение</th>\n",
              "      <th>Стоимость (полная)</th>\n",
              "      <th>Тип мероприятия</th>\n",
              "      <th>Направленность мероприятия</th>\n",
              "      <th>Мероприятие относится к ежегодным праздникам и общегородским мероприятиям</th>\n",
              "      <th>Наименование праздника или события</th>\n",
              "      <th>Дата начала мероприятия</th>\n",
              "      <th>Время начала мероприятия</th>\n",
              "      <th>Дата окончания мероприятия</th>\n",
              "      <th>Время окончания мероприятия</th>\n",
              "      <th>Краткое описание</th>\n",
              "      <th>Проводится онлайн</th>\n",
              "      <th>Место проведения</th>\n",
              "      <th>Округ</th>\n",
              "      <th>Район</th>\n",
              "      <th>Доступность мероприятия для лиц с ОВЗ</th>\n",
              "      <th>Тип ОВЗ</th>\n",
              "      <th>Возрастной ценз участников мероприятия</th>\n",
              "      <th>Возрастная категория</th>\n",
              "      <th>Целевая аудитория</th>\n",
              "      <th>text</th>\n",
              "      <th>text_new</th>\n",
              "    </tr>\n",
              "  </thead>\n",
              "  <tbody>\n",
              "    <tr>\n",
              "      <th>0</th>\n",
              "      <td>5</td>\n",
              "      <td>Фестивлаь современных молодежных уличных культ...</td>\n",
              "      <td>Завершено</td>\n",
              "      <td>ГБУК г. Москвы «Клуб «Современник»</td>\n",
              "      <td>Дома культуры</td>\n",
              "      <td></td>\n",
              "      <td>бесплатное</td>\n",
              "      <td>фестиваль</td>\n",
              "      <td>культурно-досуговое</td>\n",
              "      <td></td>\n",
              "      <td></td>\n",
              "      <td>13.06.2020 16:00</td>\n",
              "      <td></td>\n",
              "      <td>13.06.2020 20:00</td>\n",
              "      <td></td>\n",
              "      <td>Клуб Современник проведет фестиваль современны...</td>\n",
              "      <td>Нет</td>\n",
              "      <td></td>\n",
              "      <td></td>\n",
              "      <td></td>\n",
              "      <td>недоступно</td>\n",
              "      <td></td>\n",
              "      <td>0+</td>\n",
              "      <td>от 20 до 40</td>\n",
              "      <td></td>\n",
              "      <td>Фестивлаь современных молодежных уличных культ...</td>\n",
              "      <td>фестивлаь современных молодежных уличных культ...</td>\n",
              "    </tr>\n",
              "    <tr>\n",
              "      <th>1</th>\n",
              "      <td>12</td>\n",
              "      <td>Танцевальный вечер \"Ретро\" в честь Дня Победы ...</td>\n",
              "      <td>Завершено</td>\n",
              "      <td>ГБУК г.Москвы «ДК «Нагорный»</td>\n",
              "      <td>Дома культуры</td>\n",
              "      <td></td>\n",
              "      <td>бесплатное</td>\n",
              "      <td>танцевальный вечер, бал</td>\n",
              "      <td>патриотическое</td>\n",
              "      <td>праздник</td>\n",
              "      <td>9 мая. День Победы</td>\n",
              "      <td>09.05.2020 14:30</td>\n",
              "      <td></td>\n",
              "      <td>09.05.2020 17:30</td>\n",
              "      <td></td>\n",
              "      <td>Танцевальный вечер \"Ретро\" в честь Дня Победы</td>\n",
              "      <td>Нет</td>\n",
              "      <td>Электролитный пр. 3, корпус 1</td>\n",
              "      <td>Южный административный округ</td>\n",
              "      <td>Нагорный</td>\n",
              "      <td>недоступно</td>\n",
              "      <td></td>\n",
              "      <td>16+</td>\n",
              "      <td>от 40 до 85</td>\n",
              "      <td>работающая молодежь, взрослые, пенсионеры</td>\n",
              "      <td>Танцевальный вечер \"Ретро\" в честь Дня Победы ...</td>\n",
              "      <td>танцевальный вечер ретро в честь дня победы ва...</td>\n",
              "    </tr>\n",
              "  </tbody>\n",
              "</table>\n",
              "</div>"
            ],
            "text/plain": [
              "   id  ...                                           text_new\n",
              "0   5  ...  фестивлаь современных молодежных уличных культ...\n",
              "1  12  ...  танцевальный вечер ретро в честь дня победы ва...\n",
              "\n",
              "[2 rows x 27 columns]"
            ]
          },
          "metadata": {
            "tags": []
          },
          "execution_count": 98
        }
      ]
    },
    {
      "cell_type": "code",
      "metadata": {
        "id": "qMGnUrkkVwSq"
      },
      "source": [
        "embeddings_event = model.wv[events['text_new']]"
      ],
      "execution_count": 97,
      "outputs": []
    },
    {
      "cell_type": "code",
      "metadata": {
        "id": "fQT6JoU6WBaU"
      },
      "source": [
        "events['embedding']=embeddings_event.tolist()"
      ],
      "execution_count": 99,
      "outputs": []
    },
    {
      "cell_type": "code",
      "metadata": {
        "id": "NOqP_Y9Er7Do"
      },
      "source": [
        "def compare_distance(x, user_emb):\n",
        "  return cosine(x, user_emb)\n",
        "\n",
        "events['distances'] = events['embedding'].apply((lambda x: compare_distance(x, users_emb['embedding'][1000])))"
      ],
      "execution_count": 168,
      "outputs": []
    },
    {
      "cell_type": "code",
      "metadata": {
        "id": "sDnPqS8Xn69B",
        "outputId": "f0fe5718-45d4-4de8-a4ca-5b91458838b1",
        "colab": {
          "base_uri": "https://localhost:8080/",
          "height": 204
        }
      },
      "source": [
        "events.sort_values('distances', ascending=True)[['id', 'Название мероприятия', 'Дата начала мероприятия', 'Наименование учреждения', 'distances']]\\\n",
        ".drop_duplicates(subset=['Название мероприятия']).drop_duplicates(subset=['Наименование учреждения']).head()#.to_list()"
      ],
      "execution_count": 172,
      "outputs": [
        {
          "output_type": "execute_result",
          "data": {
            "text/html": [
              "<div>\n",
              "<style scoped>\n",
              "    .dataframe tbody tr th:only-of-type {\n",
              "        vertical-align: middle;\n",
              "    }\n",
              "\n",
              "    .dataframe tbody tr th {\n",
              "        vertical-align: top;\n",
              "    }\n",
              "\n",
              "    .dataframe thead th {\n",
              "        text-align: right;\n",
              "    }\n",
              "</style>\n",
              "<table border=\"1\" class=\"dataframe\">\n",
              "  <thead>\n",
              "    <tr style=\"text-align: right;\">\n",
              "      <th></th>\n",
              "      <th>id</th>\n",
              "      <th>Название мероприятия</th>\n",
              "      <th>Дата начала мероприятия</th>\n",
              "      <th>Наименование учреждения</th>\n",
              "      <th>distances</th>\n",
              "    </tr>\n",
              "  </thead>\n",
              "  <tbody>\n",
              "    <tr>\n",
              "      <th>35072</th>\n",
              "      <td>7650</td>\n",
              "      <td>Friday Point English</td>\n",
              "      <td>28.02.2020 19:00</td>\n",
              "      <td>ГАУК г. Москвы «Культурный центр ЗИЛ»</td>\n",
              "      <td>0.231875</td>\n",
              "    </tr>\n",
              "    <tr>\n",
              "      <th>40795</th>\n",
              "      <td>13373</td>\n",
              "      <td>PEOPLE&amp;THEIR STORIES</td>\n",
              "      <td>23.02.2020 14:00</td>\n",
              "      <td>ГБУК г. Москвы «КЦ «Братеево»</td>\n",
              "      <td>0.758046</td>\n",
              "    </tr>\n",
              "    <tr>\n",
              "      <th>23339</th>\n",
              "      <td>8928</td>\n",
              "      <td>Занятие по английскому языку от студии «Family...</td>\n",
              "      <td>06.07.2020</td>\n",
              "      <td>ГБУК г. Москвы «Московский продюсерский центр»</td>\n",
              "      <td>0.816008</td>\n",
              "    </tr>\n",
              "    <tr>\n",
              "      <th>4719</th>\n",
              "      <td>4735</td>\n",
              "      <td>The Little House</td>\n",
              "      <td>05.06.2020 17:00</td>\n",
              "      <td>ГБУК г. Москвы «ДК «Дружба»</td>\n",
              "      <td>0.866624</td>\n",
              "    </tr>\n",
              "    <tr>\n",
              "      <th>3177</th>\n",
              "      <td>4199</td>\n",
              "      <td>Концерт Трио \"Maestro Classic\"</td>\n",
              "      <td>01.02.2020</td>\n",
              "      <td>ГБУК г.Москвы «ЦБС ЮВАО»</td>\n",
              "      <td>0.888833</td>\n",
              "    </tr>\n",
              "  </tbody>\n",
              "</table>\n",
              "</div>"
            ],
            "text/plain": [
              "          id  ... distances\n",
              "35072   7650  ...  0.231875\n",
              "40795  13373  ...  0.758046\n",
              "23339   8928  ...  0.816008\n",
              "4719    4735  ...  0.866624\n",
              "3177    4199  ...  0.888833\n",
              "\n",
              "[5 rows x 5 columns]"
            ]
          },
          "metadata": {
            "tags": []
          },
          "execution_count": 172
        }
      ]
    }
  ]
}