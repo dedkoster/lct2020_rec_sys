{
  "nbformat": 4,
  "nbformat_minor": 0,
  "metadata": {
    "colab": {
      "name": "FastAI_hobbies",
      "provenance": [],
      "collapsed_sections": []
    },
    "kernelspec": {
      "name": "python3",
      "display_name": "Python 3"
    },
    "accelerator": "GPU"
  },
  "cells": [
    {
      "cell_type": "code",
      "metadata": {
        "id": "r3sQXFX0szPt",
        "outputId": "9f962a16-9776-43a7-8255-cf61259bf296",
        "colab": {
          "base_uri": "https://localhost:8080/"
        }
      },
      "source": [
        "from google.colab import drive\n",
        "drive.mount('/content/drive')"
      ],
      "execution_count": null,
      "outputs": [
        {
          "output_type": "stream",
          "text": [
            "Drive already mounted at /content/drive; to attempt to forcibly remount, call drive.mount(\"/content/drive\", force_remount=True).\n"
          ],
          "name": "stdout"
        }
      ]
    },
    {
      "cell_type": "code",
      "metadata": {
        "id": "uK4IKMbF7cWc"
      },
      "source": [
        "from fastai.collab import *\n",
        "from fastai.tabular import *"
      ],
      "execution_count": null,
      "outputs": []
    },
    {
      "cell_type": "code",
      "metadata": {
        "id": "dQFKjvOR6Jhq"
      },
      "source": [
        "import pandas as pd\n",
        "import numpy as np\n",
        "from sklearn.preprocessing import MinMaxScaler"
      ],
      "execution_count": null,
      "outputs": []
    },
    {
      "cell_type": "code",
      "metadata": {
        "id": "VJATIWgc6YWi"
      },
      "source": [
        "data = pd.read_csv('drive/My Drive/Colab Notebooks/hackaton/pupil_info.csv', sep=';') "
      ],
      "execution_count": null,
      "outputs": []
    },
    {
      "cell_type": "code",
      "metadata": {
        "id": "d8ym_sTv6efe"
      },
      "source": [
        " data.drop(columns='Unnamed: 0', inplace=True)\n",
        "data.columns = ['name', 'userID', 'state', 'age', 'sex']"
      ],
      "execution_count": null,
      "outputs": []
    },
    {
      "cell_type": "code",
      "metadata": {
        "id": "_RHiqPBO6jLI"
      },
      "source": [
        "names = {v: i for i, v in enumerate(data['name'].unique())}\n"
      ],
      "execution_count": null,
      "outputs": []
    },
    {
      "cell_type": "code",
      "metadata": {
        "id": "YCNlCWXsJ3ev"
      },
      "source": [
        "data['nameID'] = data['name'].map(names)"
      ],
      "execution_count": null,
      "outputs": []
    },
    {
      "cell_type": "code",
      "metadata": {
        "id": "4K6-VBm56mJx"
      },
      "source": [
        "data_hobbies = data[data['name'].notna()][['userID','nameID','name',\n",
        "'state','age','sex']] "
      ],
      "execution_count": null,
      "outputs": []
    },
    {
      "cell_type": "code",
      "metadata": {
        "id": "thdfrvSY6n8w",
        "outputId": "fa182b7f-2aff-4787-a06d-a0c08b73102a",
        "colab": {
          "base_uri": "https://localhost:8080/",
          "height": 204
        }
      },
      "source": [
        "data_hobbies.head() "
      ],
      "execution_count": null,
      "outputs": [
        {
          "output_type": "execute_result",
          "data": {
            "text/html": [
              "<div>\n",
              "<style scoped>\n",
              "    .dataframe tbody tr th:only-of-type {\n",
              "        vertical-align: middle;\n",
              "    }\n",
              "\n",
              "    .dataframe tbody tr th {\n",
              "        vertical-align: top;\n",
              "    }\n",
              "\n",
              "    .dataframe thead th {\n",
              "        text-align: right;\n",
              "    }\n",
              "</style>\n",
              "<table border=\"1\" class=\"dataframe\">\n",
              "  <thead>\n",
              "    <tr style=\"text-align: right;\">\n",
              "      <th></th>\n",
              "      <th>userID</th>\n",
              "      <th>nameID</th>\n",
              "      <th>name</th>\n",
              "      <th>state</th>\n",
              "      <th>age</th>\n",
              "      <th>sex</th>\n",
              "    </tr>\n",
              "  </thead>\n",
              "  <tbody>\n",
              "    <tr>\n",
              "      <th>4433</th>\n",
              "      <td>1603634.0</td>\n",
              "      <td>1</td>\n",
              "      <td>Правила дорожного движения</td>\n",
              "      <td>1.0</td>\n",
              "      <td>9.0</td>\n",
              "      <td>Женский</td>\n",
              "    </tr>\n",
              "    <tr>\n",
              "      <th>4434</th>\n",
              "      <td>1257456.0</td>\n",
              "      <td>1</td>\n",
              "      <td>Правила дорожного движения</td>\n",
              "      <td>1.0</td>\n",
              "      <td>17.0</td>\n",
              "      <td>Мужской</td>\n",
              "    </tr>\n",
              "    <tr>\n",
              "      <th>4435</th>\n",
              "      <td>1262813.0</td>\n",
              "      <td>2</td>\n",
              "      <td>Военно-историческая реконструкция</td>\n",
              "      <td>1.0</td>\n",
              "      <td>37.0</td>\n",
              "      <td>Мужской</td>\n",
              "    </tr>\n",
              "    <tr>\n",
              "      <th>4436</th>\n",
              "      <td>1262783.0</td>\n",
              "      <td>2</td>\n",
              "      <td>Военно-историческая реконструкция</td>\n",
              "      <td>1.0</td>\n",
              "      <td>37.0</td>\n",
              "      <td>Мужской</td>\n",
              "    </tr>\n",
              "    <tr>\n",
              "      <th>4437</th>\n",
              "      <td>1262818.0</td>\n",
              "      <td>2</td>\n",
              "      <td>Военно-историческая реконструкция</td>\n",
              "      <td>1.0</td>\n",
              "      <td>40.0</td>\n",
              "      <td>Мужской</td>\n",
              "    </tr>\n",
              "  </tbody>\n",
              "</table>\n",
              "</div>"
            ],
            "text/plain": [
              "         userID  nameID  ...   age      sex\n",
              "4433  1603634.0       1  ...   9.0  Женский\n",
              "4434  1257456.0       1  ...  17.0  Мужской\n",
              "4435  1262813.0       2  ...  37.0  Мужской\n",
              "4436  1262783.0       2  ...  37.0  Мужской\n",
              "4437  1262818.0       2  ...  40.0  Мужской\n",
              "\n",
              "[5 rows x 6 columns]"
            ]
          },
          "metadata": {
            "tags": []
          },
          "execution_count": 108
        }
      ]
    },
    {
      "cell_type": "code",
      "metadata": {
        "id": "NHD582tg6pyl"
      },
      "source": [
        "data = CollabDataBunch.from_df(data_hobbies, seed=42, valid_pct=0.1, item_name='nameID')"
      ],
      "execution_count": null,
      "outputs": []
    },
    {
      "cell_type": "code",
      "metadata": {
        "id": "TSDgOoEr8GFu",
        "outputId": "095b945a-d9ad-4558-9398-2d8bd4bf91dd",
        "colab": {
          "base_uri": "https://localhost:8080/",
          "height": 204
        }
      },
      "source": [
        "data.show_batch()"
      ],
      "execution_count": null,
      "outputs": [
        {
          "output_type": "display_data",
          "data": {
            "text/html": [
              "<table border=\"1\" class=\"dataframe\">\n",
              "  <thead>\n",
              "    <tr style=\"text-align: right;\">\n",
              "      <th>userID</th>\n",
              "      <th>nameID</th>\n",
              "      <th>target</th>\n",
              "    </tr>\n",
              "  </thead>\n",
              "  <tbody>\n",
              "    <tr>\n",
              "      <td>500867.0</td>\n",
              "      <td>315</td>\n",
              "      <td>1.0</td>\n",
              "    </tr>\n",
              "    <tr>\n",
              "      <td>610874.0</td>\n",
              "      <td>322</td>\n",
              "      <td>1.0</td>\n",
              "    </tr>\n",
              "    <tr>\n",
              "      <td>681177.0</td>\n",
              "      <td>311</td>\n",
              "      <td>1.0</td>\n",
              "    </tr>\n",
              "    <tr>\n",
              "      <td>1427378.0</td>\n",
              "      <td>311</td>\n",
              "      <td>1.0</td>\n",
              "    </tr>\n",
              "    <tr>\n",
              "      <td>1264854.0</td>\n",
              "      <td>111</td>\n",
              "      <td>1.0</td>\n",
              "    </tr>\n",
              "  </tbody>\n",
              "</table>"
            ],
            "text/plain": [
              "<IPython.core.display.HTML object>"
            ]
          },
          "metadata": {
            "tags": []
          }
        }
      ]
    },
    {
      "cell_type": "code",
      "metadata": {
        "id": "BpTc0bLP8a62"
      },
      "source": [
        "y_range = [0,1.0]\n"
      ],
      "execution_count": null,
      "outputs": []
    },
    {
      "cell_type": "code",
      "metadata": {
        "id": "4G0WaAQg8fW7"
      },
      "source": [
        "learn = collab_learner(data, n_factors=40, y_range=y_range, loss_func = mse) \n"
      ],
      "execution_count": null,
      "outputs": []
    },
    {
      "cell_type": "code",
      "metadata": {
        "id": "01AvogwY_zXh",
        "outputId": "794bd424-020b-4cc7-d19b-79fbeb2a0219",
        "colab": {
          "base_uri": "https://localhost:8080/",
          "height": 378
        }
      },
      "source": [
        "learn.lr_find()\n",
        "learn.recorder.plot(skip_end=15)"
      ],
      "execution_count": null,
      "outputs": [
        {
          "output_type": "display_data",
          "data": {
            "text/html": [
              "\n",
              "    <div>\n",
              "        <style>\n",
              "            /* Turns off some styling */\n",
              "            progress {\n",
              "                /* gets rid of default border in Firefox and Opera. */\n",
              "                border: none;\n",
              "                /* Needs to be in here for Safari polyfill so background images work as expected. */\n",
              "                background-size: auto;\n",
              "            }\n",
              "            .progress-bar-interrupted, .progress-bar-interrupted::-webkit-progress-bar {\n",
              "                background: #F44336;\n",
              "            }\n",
              "        </style>\n",
              "      <progress value='0' class='' max='1' style='width:300px; height:20px; vertical-align: middle;'></progress>\n",
              "      0.00% [0/1 00:00<00:00]\n",
              "    </div>\n",
              "    \n",
              "<table border=\"1\" class=\"dataframe\">\n",
              "  <thead>\n",
              "    <tr style=\"text-align: left;\">\n",
              "      <th>epoch</th>\n",
              "      <th>train_loss</th>\n",
              "      <th>valid_loss</th>\n",
              "      <th>time</th>\n",
              "    </tr>\n",
              "  </thead>\n",
              "  <tbody>\n",
              "  </tbody>\n",
              "</table><p>\n",
              "\n",
              "    <div>\n",
              "        <style>\n",
              "            /* Turns off some styling */\n",
              "            progress {\n",
              "                /* gets rid of default border in Firefox and Opera. */\n",
              "                border: none;\n",
              "                /* Needs to be in here for Safari polyfill so background images work as expected. */\n",
              "                background-size: auto;\n",
              "            }\n",
              "            .progress-bar-interrupted, .progress-bar-interrupted::-webkit-progress-bar {\n",
              "                background: #F44336;\n",
              "            }\n",
              "        </style>\n",
              "      <progress value='95' class='' max='2713' style='width:300px; height:20px; vertical-align: middle;'></progress>\n",
              "      3.50% [95/2713 00:00<00:17 2.0520]\n",
              "    </div>\n",
              "    "
            ],
            "text/plain": [
              "<IPython.core.display.HTML object>"
            ]
          },
          "metadata": {
            "tags": []
          }
        },
        {
          "output_type": "stream",
          "text": [
            "LR Finder is complete, type {learner_name}.recorder.plot() to see the graph.\n"
          ],
          "name": "stdout"
        },
        {
          "output_type": "display_data",
          "data": {
            "image/png": "[encoded data removed]",
            "text/plain": [
              "<Figure size 432x288 with 1 Axes>"
            ]
          },
          "metadata": {
            "tags": [],
            "needs_background": "light"
          }
        }
      ]
    },
    {
      "cell_type": "code",
      "metadata": {
        "id": "bqB0h42F-rpr"
      },
      "source": [
        "lr_min=1e-2"
      ],
      "execution_count": null,
      "outputs": []
    },
    {
      "cell_type": "code",
      "metadata": {
        "id": "z-VowMwS8lIf",
        "outputId": "ff1241e4-f3e1-4b93-c422-7a1d7631cb41",
        "colab": {
          "base_uri": "https://localhost:8080/",
          "height": 204
        }
      },
      "source": [
        "learn.fit_one_cycle(5, lr_min)"
      ],
      "execution_count": null,
      "outputs": [
        {
          "output_type": "display_data",
          "data": {
            "text/html": [
              "<table border=\"1\" class=\"dataframe\">\n",
              "  <thead>\n",
              "    <tr style=\"text-align: left;\">\n",
              "      <th>epoch</th>\n",
              "      <th>train_loss</th>\n",
              "      <th>valid_loss</th>\n",
              "      <th>time</th>\n",
              "    </tr>\n",
              "  </thead>\n",
              "  <tbody>\n",
              "    <tr>\n",
              "      <td>0</td>\n",
              "      <td>0.094032</td>\n",
              "      <td>0.048162</td>\n",
              "      <td>00:17</td>\n",
              "    </tr>\n",
              "    <tr>\n",
              "      <td>1</td>\n",
              "      <td>0.022044</td>\n",
              "      <td>0.022001</td>\n",
              "      <td>00:17</td>\n",
              "    </tr>\n",
              "    <tr>\n",
              "      <td>2</td>\n",
              "      <td>0.012933</td>\n",
              "      <td>0.013254</td>\n",
              "      <td>00:17</td>\n",
              "    </tr>\n",
              "    <tr>\n",
              "      <td>3</td>\n",
              "      <td>0.005142</td>\n",
              "      <td>0.010139</td>\n",
              "      <td>00:17</td>\n",
              "    </tr>\n",
              "    <tr>\n",
              "      <td>4</td>\n",
              "      <td>0.002477</td>\n",
              "      <td>0.009632</td>\n",
              "      <td>00:16</td>\n",
              "    </tr>\n",
              "  </tbody>\n",
              "</table>"
            ],
            "text/plain": [
              "<IPython.core.display.HTML object>"
            ]
          },
          "metadata": {
            "tags": []
          }
        }
      ]
    },
    {
      "cell_type": "code",
      "metadata": {
        "id": "P4fYdhS8FjEr"
      },
      "source": [
        "lr_min = lr_min/10"
      ],
      "execution_count": null,
      "outputs": []
    },
    {
      "cell_type": "code",
      "metadata": {
        "id": "zRUGs1igFLcM",
        "outputId": "42f3b3d4-0b5c-4bc5-bd3c-69715ea1fed9",
        "colab": {
          "base_uri": "https://localhost:8080/",
          "height": 111
        }
      },
      "source": [
        "learn.unfreeze()\n",
        "learn.fit_one_cycle(2, lr_min)"
      ],
      "execution_count": null,
      "outputs": [
        {
          "output_type": "display_data",
          "data": {
            "text/html": [
              "<table border=\"1\" class=\"dataframe\">\n",
              "  <thead>\n",
              "    <tr style=\"text-align: left;\">\n",
              "      <th>epoch</th>\n",
              "      <th>train_loss</th>\n",
              "      <th>valid_loss</th>\n",
              "      <th>time</th>\n",
              "    </tr>\n",
              "  </thead>\n",
              "  <tbody>\n",
              "    <tr>\n",
              "      <td>0</td>\n",
              "      <td>0.001754</td>\n",
              "      <td>0.009201</td>\n",
              "      <td>00:17</td>\n",
              "    </tr>\n",
              "    <tr>\n",
              "      <td>1</td>\n",
              "      <td>0.001097</td>\n",
              "      <td>0.008941</td>\n",
              "      <td>00:17</td>\n",
              "    </tr>\n",
              "  </tbody>\n",
              "</table>"
            ],
            "text/plain": [
              "<IPython.core.display.HTML object>"
            ]
          },
          "metadata": {
            "tags": []
          }
        }
      ]
    },
    {
      "cell_type": "code",
      "metadata": {
        "id": "Ovf6MfhD8pNr"
      },
      "source": [
        "learn.save('dotprod')\n"
      ],
      "execution_count": null,
      "outputs": []
    },
    {
      "cell_type": "code",
      "metadata": {
        "id": "U70hgxou8yjd"
      },
      "source": [
        "learn.load('dotprod');\n"
      ],
      "execution_count": null,
      "outputs": []
    },
    {
      "cell_type": "code",
      "metadata": {
        "id": "-seGZkur85ga",
        "outputId": "de3c9cd2-9e8e-4600-c715-fcfcd3dca9ea",
        "colab": {
          "base_uri": "https://localhost:8080/"
        }
      },
      "source": [
        "g = data_hobbies.groupby('nameID')['state'].count()\n",
        "g.sort_values(ascending=False)[:1000]"
      ],
      "execution_count": null,
      "outputs": [
        {
          "output_type": "execute_result",
          "data": {
            "text/plain": [
              "nameID\n",
              "92     22341\n",
              "39     13527\n",
              "122    11002\n",
              "143     6758\n",
              "86      6470\n",
              "       ...  \n",
              "364        1\n",
              "76         1\n",
              "368        1\n",
              "370        1\n",
              "373        1\n",
              "Name: state, Length: 373, dtype: int64"
            ]
          },
          "metadata": {
            "tags": []
          },
          "execution_count": 62
        }
      ]
    },
    {
      "cell_type": "code",
      "metadata": {
        "id": "SjEqTOG_GHi_",
        "outputId": "db1c1fe1-e7a9-4d9b-cff5-53f19be8ef16",
        "colab": {
          "base_uri": "https://localhost:8080/"
        }
      },
      "source": [
        "learn.show_results"
      ],
      "execution_count": null,
      "outputs": [
        {
          "output_type": "execute_result",
          "data": {
            "text/plain": [
              "<bound method Learner.show_results of CollabLearner(data=TabularDataBunch;\n",
              "\n",
              "Train: LabelList (173663 items)\n",
              "x: CollabList\n",
              "userID 1603634.0; nameID 1; ,userID 1257456.0; nameID 1; ,userID 1262813.0; nameID 2; ,userID 1262783.0; nameID 2; ,userID 1262818.0; nameID 2; \n",
              "y: FloatList\n",
              "1.0,1.0,1.0,1.0,1.0\n",
              "Path: .;\n",
              "\n",
              "Valid: LabelList (19295 items)\n",
              "x: CollabList\n",
              "userID #na#; nameID 55; ,userID #na#; nameID 92; ,userID 825317.0; nameID 101; ,userID #na#; nameID 39; ,userID #na#; nameID 322; \n",
              "y: FloatList\n",
              "1.0,1.0,1.0,1.0,1.0\n",
              "Path: .;\n",
              "\n",
              "Test: None, model=EmbeddingDotBias(\n",
              "  (u_weight): Embedding(145149, 40)\n",
              "  (i_weight): Embedding(373, 40)\n",
              "  (u_bias): Embedding(145149, 1)\n",
              "  (i_bias): Embedding(373, 1)\n",
              "), opt_func=functools.partial(<class 'torch.optim.adam.Adam'>, betas=(0.9, 0.99)), loss_func=<function mean_squared_error at 0x7fd58f09f2f0>, metrics=[], true_wd=True, bn_wd=True, wd=0.01, train_bn=True, path=PosixPath('.'), model_dir='models', callback_fns=[functools.partial(<class 'fastai.basic_train.Recorder'>, add_time=True, silent=False)], callbacks=[], layer_groups=[Sequential(\n",
              "  (0): Embedding(145149, 40)\n",
              "  (1): Embedding(373, 40)\n",
              "  (2): Embedding(145149, 1)\n",
              "  (3): Embedding(373, 1)\n",
              ")], add_time=True, silent=False)>"
            ]
          },
          "metadata": {
            "tags": []
          },
          "execution_count": 66
        }
      ]
    },
    {
      "cell_type": "code",
      "metadata": {
        "id": "QWS24RrxGJus"
      },
      "source": [
        ""
      ],
      "execution_count": null,
      "outputs": []
    }
  ]
}