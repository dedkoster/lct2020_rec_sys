{
 "cells": [
  {
   "cell_type": "code",
   "execution_count": 1,
   "metadata": {},
   "outputs": [],
   "source": [
    "import pandas as pd\n",
    "import numpy as np\n",
    "import joblib"
   ]
  },
  {
   "cell_type": "code",
   "execution_count": 2,
   "metadata": {},
   "outputs": [],
   "source": [
    "from sklearn.feature_extraction.text import TfidfVectorizer"
   ]
  },
  {
   "cell_type": "code",
   "execution_count": 3,
   "metadata": {},
   "outputs": [
    {
     "name": "stdout",
     "output_type": "stream",
     "text": [
      "Wall time: 43.6 s\n"
     ]
    }
   ],
   "source": [
    "%%time\n",
    "df = pd.read_csv('_data_books_main.csv', sep='\\t')\n",
    "\n",
    "df['s'] = df['s'].fillna('')"
   ]
  },
  {
   "cell_type": "code",
   "execution_count": 4,
   "metadata": {},
   "outputs": [
    {
     "data": {
      "text/html": [
       "<div>\n",
       "<style scoped>\n",
       "    .dataframe tbody tr th:only-of-type {\n",
       "        vertical-align: middle;\n",
       "    }\n",
       "\n",
       "    .dataframe tbody tr th {\n",
       "        vertical-align: top;\n",
       "    }\n",
       "\n",
       "    .dataframe thead th {\n",
       "        text-align: right;\n",
       "    }\n",
       "</style>\n",
       "<table border=\"1\" class=\"dataframe\">\n",
       "  <thead>\n",
       "    <tr style=\"text-align: right;\">\n",
       "      <th></th>\n",
       "      <th>give_id</th>\n",
       "      <th>reader_id</th>\n",
       "      <th>inventory_num</th>\n",
       "      <th>state__6544.0</th>\n",
       "      <th>state__6545.0</th>\n",
       "      <th>state__6546.0</th>\n",
       "      <th>state__6547.0</th>\n",
       "      <th>state__6548.0</th>\n",
       "      <th>state__6549.0</th>\n",
       "      <th>state__6659.0</th>\n",
       "      <th>age</th>\n",
       "      <th>sample_id</th>\n",
       "      <th>catalog_id</th>\n",
       "      <th>p260c</th>\n",
       "      <th>s</th>\n",
       "    </tr>\n",
       "  </thead>\n",
       "  <tbody>\n",
       "    <tr>\n",
       "      <th>0</th>\n",
       "      <td>1.0</td>\n",
       "      <td>179</td>\n",
       "      <td>03:0000005767</td>\n",
       "      <td>0</td>\n",
       "      <td>1</td>\n",
       "      <td>0</td>\n",
       "      <td>0</td>\n",
       "      <td>0</td>\n",
       "      <td>0</td>\n",
       "      <td>0</td>\n",
       "      <td>31.0</td>\n",
       "      <td>30266.0</td>\n",
       "      <td>5190.0</td>\n",
       "      <td>20.0</td>\n",
       "      <td>семенова мария васильевна год людоеда  художес...</td>\n",
       "    </tr>\n",
       "    <tr>\n",
       "      <th>1</th>\n",
       "      <td>2.0</td>\n",
       "      <td>179</td>\n",
       "      <td>03:0000005761</td>\n",
       "      <td>0</td>\n",
       "      <td>0</td>\n",
       "      <td>0</td>\n",
       "      <td>0</td>\n",
       "      <td>1</td>\n",
       "      <td>0</td>\n",
       "      <td>0</td>\n",
       "      <td>31.0</td>\n",
       "      <td>30236.0</td>\n",
       "      <td>5185.0</td>\n",
       "      <td>21.0</td>\n",
       "      <td>сказки о солдате библиотека русской сказки худ...</td>\n",
       "    </tr>\n",
       "    <tr>\n",
       "      <th>2</th>\n",
       "      <td>3.0</td>\n",
       "      <td>179</td>\n",
       "      <td>03:0000005767</td>\n",
       "      <td>0</td>\n",
       "      <td>1</td>\n",
       "      <td>0</td>\n",
       "      <td>0</td>\n",
       "      <td>0</td>\n",
       "      <td>0</td>\n",
       "      <td>0</td>\n",
       "      <td>31.0</td>\n",
       "      <td>30266.0</td>\n",
       "      <td>5190.0</td>\n",
       "      <td>20.0</td>\n",
       "      <td>семенова мария васильевна год людоеда  художес...</td>\n",
       "    </tr>\n",
       "    <tr>\n",
       "      <th>3</th>\n",
       "      <td>4.0</td>\n",
       "      <td>179</td>\n",
       "      <td>03:0000005767</td>\n",
       "      <td>0</td>\n",
       "      <td>1</td>\n",
       "      <td>0</td>\n",
       "      <td>0</td>\n",
       "      <td>0</td>\n",
       "      <td>0</td>\n",
       "      <td>0</td>\n",
       "      <td>31.0</td>\n",
       "      <td>30266.0</td>\n",
       "      <td>5190.0</td>\n",
       "      <td>20.0</td>\n",
       "      <td>семенова мария васильевна год людоеда  художес...</td>\n",
       "    </tr>\n",
       "    <tr>\n",
       "      <th>4</th>\n",
       "      <td>5.0</td>\n",
       "      <td>179</td>\n",
       "      <td>03:0000005767</td>\n",
       "      <td>0</td>\n",
       "      <td>0</td>\n",
       "      <td>0</td>\n",
       "      <td>0</td>\n",
       "      <td>1</td>\n",
       "      <td>0</td>\n",
       "      <td>0</td>\n",
       "      <td>31.0</td>\n",
       "      <td>30266.0</td>\n",
       "      <td>5190.0</td>\n",
       "      <td>20.0</td>\n",
       "      <td>семенова мария васильевна год людоеда  художес...</td>\n",
       "    </tr>\n",
       "  </tbody>\n",
       "</table>\n",
       "</div>"
      ],
      "text/plain": [
       "   give_id  reader_id  inventory_num  state__6544.0  state__6545.0  \\\n",
       "0      1.0        179  03:0000005767              0              1   \n",
       "1      2.0        179  03:0000005761              0              0   \n",
       "2      3.0        179  03:0000005767              0              1   \n",
       "3      4.0        179  03:0000005767              0              1   \n",
       "4      5.0        179  03:0000005767              0              0   \n",
       "\n",
       "   state__6546.0  state__6547.0  state__6548.0  state__6549.0  state__6659.0  \\\n",
       "0              0              0              0              0              0   \n",
       "1              0              0              1              0              0   \n",
       "2              0              0              0              0              0   \n",
       "3              0              0              0              0              0   \n",
       "4              0              0              1              0              0   \n",
       "\n",
       "    age  sample_id  catalog_id  p260c  \\\n",
       "0  31.0    30266.0      5190.0   20.0   \n",
       "1  31.0    30236.0      5185.0   21.0   \n",
       "2  31.0    30266.0      5190.0   20.0   \n",
       "3  31.0    30266.0      5190.0   20.0   \n",
       "4  31.0    30266.0      5190.0   20.0   \n",
       "\n",
       "                                                   s  \n",
       "0  семенова мария васильевна год людоеда  художес...  \n",
       "1  сказки о солдате библиотека русской сказки худ...  \n",
       "2  семенова мария васильевна год людоеда  художес...  \n",
       "3  семенова мария васильевна год людоеда  художес...  \n",
       "4  семенова мария васильевна год людоеда  художес...  "
      ]
     },
     "execution_count": 4,
     "metadata": {},
     "output_type": "execute_result"
    }
   ],
   "source": [
    "df.head()"
   ]
  },
  {
   "cell_type": "code",
   "execution_count": 5,
   "metadata": {},
   "outputs": [],
   "source": [
    "df.loc[df.shape[0], :] = [-1,-1,'',0,0,0,0,0,0,0,0,0,0,0,'']"
   ]
  },
  {
   "cell_type": "code",
   "execution_count": 22,
   "metadata": {},
   "outputs": [
    {
     "data": {
      "text/html": [
       "<div>\n",
       "<style scoped>\n",
       "    .dataframe tbody tr th:only-of-type {\n",
       "        vertical-align: middle;\n",
       "    }\n",
       "\n",
       "    .dataframe tbody tr th {\n",
       "        vertical-align: top;\n",
       "    }\n",
       "\n",
       "    .dataframe thead th {\n",
       "        text-align: right;\n",
       "    }\n",
       "</style>\n",
       "<table border=\"1\" class=\"dataframe\">\n",
       "  <thead>\n",
       "    <tr style=\"text-align: right;\">\n",
       "      <th></th>\n",
       "      <th>give_id</th>\n",
       "      <th>reader_id</th>\n",
       "      <th>inventory_num</th>\n",
       "      <th>state__6544.0</th>\n",
       "      <th>state__6545.0</th>\n",
       "      <th>state__6546.0</th>\n",
       "      <th>state__6547.0</th>\n",
       "      <th>state__6548.0</th>\n",
       "      <th>state__6549.0</th>\n",
       "      <th>state__6659.0</th>\n",
       "      <th>age</th>\n",
       "      <th>sample_id</th>\n",
       "      <th>catalog_id</th>\n",
       "      <th>p260c</th>\n",
       "      <th>s</th>\n",
       "    </tr>\n",
       "  </thead>\n",
       "  <tbody>\n",
       "    <tr>\n",
       "      <th>10418063</th>\n",
       "      <td>11423389.0</td>\n",
       "      <td>110298.0</td>\n",
       "      <td>08:0000227792</td>\n",
       "      <td>1.0</td>\n",
       "      <td>0.0</td>\n",
       "      <td>0.0</td>\n",
       "      <td>0.0</td>\n",
       "      <td>0.0</td>\n",
       "      <td>0.0</td>\n",
       "      <td>0.0</td>\n",
       "      <td>63.0</td>\n",
       "      <td>7956437.0</td>\n",
       "      <td>394567.0</td>\n",
       "      <td>19.0</td>\n",
       "      <td>носов николай николаевич приключения незнайки ...</td>\n",
       "    </tr>\n",
       "    <tr>\n",
       "      <th>10418064</th>\n",
       "      <td>11423390.0</td>\n",
       "      <td>110298.0</td>\n",
       "      <td>Б08:00001928</td>\n",
       "      <td>1.0</td>\n",
       "      <td>0.0</td>\n",
       "      <td>0.0</td>\n",
       "      <td>0.0</td>\n",
       "      <td>0.0</td>\n",
       "      <td>0.0</td>\n",
       "      <td>0.0</td>\n",
       "      <td>63.0</td>\n",
       "      <td>6594976.0</td>\n",
       "      <td>219667.0</td>\n",
       "      <td>2.0</td>\n",
       "      <td>детская энциклопедия  справочные материалы</td>\n",
       "    </tr>\n",
       "    <tr>\n",
       "      <th>10418065</th>\n",
       "      <td>11423391.0</td>\n",
       "      <td>110298.0</td>\n",
       "      <td>Б08:00027425</td>\n",
       "      <td>1.0</td>\n",
       "      <td>0.0</td>\n",
       "      <td>0.0</td>\n",
       "      <td>0.0</td>\n",
       "      <td>0.0</td>\n",
       "      <td>0.0</td>\n",
       "      <td>0.0</td>\n",
       "      <td>63.0</td>\n",
       "      <td>15096635.0</td>\n",
       "      <td>1555329.0</td>\n",
       "      <td>0.0</td>\n",
       "      <td>веселые уроки  справочные материалы</td>\n",
       "    </tr>\n",
       "    <tr>\n",
       "      <th>10418066</th>\n",
       "      <td>11423392.0</td>\n",
       "      <td>535365.0</td>\n",
       "      <td>08:0001063365</td>\n",
       "      <td>1.0</td>\n",
       "      <td>0.0</td>\n",
       "      <td>0.0</td>\n",
       "      <td>0.0</td>\n",
       "      <td>0.0</td>\n",
       "      <td>0.0</td>\n",
       "      <td>0.0</td>\n",
       "      <td>62.0</td>\n",
       "      <td>10470065.0</td>\n",
       "      <td>1069852.0</td>\n",
       "      <td>26.0</td>\n",
       "      <td>филиппов м. а. патриарх никон/м.а.филиппов; бо...</td>\n",
       "    </tr>\n",
       "    <tr>\n",
       "      <th>10418067</th>\n",
       "      <td>-1.0</td>\n",
       "      <td>-1.0</td>\n",
       "      <td></td>\n",
       "      <td>0.0</td>\n",
       "      <td>0.0</td>\n",
       "      <td>0.0</td>\n",
       "      <td>0.0</td>\n",
       "      <td>0.0</td>\n",
       "      <td>0.0</td>\n",
       "      <td>0.0</td>\n",
       "      <td>0.0</td>\n",
       "      <td>0.0</td>\n",
       "      <td>0.0</td>\n",
       "      <td>0.0</td>\n",
       "      <td></td>\n",
       "    </tr>\n",
       "  </tbody>\n",
       "</table>\n",
       "</div>"
      ],
      "text/plain": [
       "             give_id  reader_id  inventory_num  state__6544.0  state__6545.0  \\\n",
       "10418063  11423389.0   110298.0  08:0000227792            1.0            0.0   \n",
       "10418064  11423390.0   110298.0   Б08:00001928            1.0            0.0   \n",
       "10418065  11423391.0   110298.0   Б08:00027425            1.0            0.0   \n",
       "10418066  11423392.0   535365.0  08:0001063365            1.0            0.0   \n",
       "10418067        -1.0       -1.0                           0.0            0.0   \n",
       "\n",
       "          state__6546.0  state__6547.0  state__6548.0  state__6549.0  \\\n",
       "10418063            0.0            0.0            0.0            0.0   \n",
       "10418064            0.0            0.0            0.0            0.0   \n",
       "10418065            0.0            0.0            0.0            0.0   \n",
       "10418066            0.0            0.0            0.0            0.0   \n",
       "10418067            0.0            0.0            0.0            0.0   \n",
       "\n",
       "          state__6659.0   age   sample_id  catalog_id  p260c  \\\n",
       "10418063            0.0  63.0   7956437.0    394567.0   19.0   \n",
       "10418064            0.0  63.0   6594976.0    219667.0    2.0   \n",
       "10418065            0.0  63.0  15096635.0   1555329.0    0.0   \n",
       "10418066            0.0  62.0  10470065.0   1069852.0   26.0   \n",
       "10418067            0.0   0.0         0.0         0.0    0.0   \n",
       "\n",
       "                                                          s  \n",
       "10418063  носов николай николаевич приключения незнайки ...  \n",
       "10418064         детская энциклопедия  справочные материалы  \n",
       "10418065                веселые уроки  справочные материалы  \n",
       "10418066  филиппов м. а. патриарх никон/м.а.филиппов; бо...  \n",
       "10418067                                                     "
      ]
     },
     "execution_count": 22,
     "metadata": {},
     "output_type": "execute_result"
    }
   ],
   "source": [
    "df.tail()"
   ]
  },
  {
   "cell_type": "code",
   "execution_count": null,
   "metadata": {},
   "outputs": [],
   "source": []
  },
  {
   "cell_type": "code",
   "execution_count": 32,
   "metadata": {
    "tags": [
     "parameters"
    ]
   },
   "outputs": [],
   "source": [
    "# default number of recommendations\n",
    "K = 20\n",
    "# model learning rate\n",
    "LEARNING_RATE = 0.25\n",
    "# no of latent factors\n",
    "NO_COMPONENTS = 20\n",
    "# no of epochs to fit model\n",
    "NO_EPOCHS = 10\n",
    "\n",
    "# regularisation for both user and item features\n",
    "ITEM_ALPHA=1e-5\n",
    "USER_ALPHA=1e-5\n",
    "\n",
    "# seed for pseudonumber generations\n",
    "SEEDNO = 321"
   ]
  },
  {
   "cell_type": "code",
   "execution_count": 8,
   "metadata": {},
   "outputs": [
    {
     "name": "stderr",
     "output_type": "stream",
     "text": [
      "C:\\Users\\Yurov\\anaconda3\\lib\\site-packages\\lightfm\\_lightfm_fast.py:9: UserWarning: LightFM was compiled without OpenMP support. Only a single thread will be used.\n",
      "  warnings.warn('LightFM was compiled without OpenMP support. '\n"
     ]
    }
   ],
   "source": [
    "import matplotlib.pyplot as plt\n",
    "import seaborn as sns\n",
    "\n",
    "import lightfm\n",
    "from lightfm import LightFM\n",
    "from lightfm.data import Dataset\n",
    "from lightfm import cross_validation\n",
    "\n",
    "from lightfm.evaluation import precision_at_k as lightfm_prec_at_k\n",
    "from lightfm.evaluation import recall_at_k as lightfm_recall_at_k"
   ]
  },
  {
   "cell_type": "code",
   "execution_count": 10,
   "metadata": {},
   "outputs": [],
   "source": [
    "from scipy.sparse import hstack, csr_matrix"
   ]
  },
  {
   "cell_type": "code",
   "execution_count": 11,
   "metadata": {},
   "outputs": [
    {
     "name": "stdout",
     "output_type": "stream",
     "text": [
      "Wall time: 0 ns\n"
     ]
    }
   ],
   "source": [
    "%time\n",
    "tf_idf = joblib.load(open('tfidf01.pkl','rb'))"
   ]
  },
  {
   "cell_type": "code",
   "execution_count": 12,
   "metadata": {},
   "outputs": [
    {
     "name": "stdout",
     "output_type": "stream",
     "text": [
      "Wall time: 6.32 s\n"
     ]
    }
   ],
   "source": [
    "%%time\n",
    "emb = joblib.load(open('tf_idf_dataframeembeddings', 'rb'))"
   ]
  },
  {
   "cell_type": "code",
   "execution_count": 13,
   "metadata": {},
   "outputs": [
    {
     "data": {
      "text/plain": [
       "<10418068x1000 sparse matrix of type '<class 'numpy.float64'>'\n",
       "\twith 70817585 stored elements in Compressed Sparse Row format>"
      ]
     },
     "execution_count": 13,
     "metadata": {},
     "output_type": "execute_result"
    }
   ],
   "source": [
    "emb"
   ]
  },
  {
   "cell_type": "code",
   "execution_count": null,
   "metadata": {},
   "outputs": [],
   "source": []
  },
  {
   "cell_type": "code",
   "execution_count": 23,
   "metadata": {},
   "outputs": [
    {
     "name": "stdout",
     "output_type": "stream",
     "text": [
      "Wall time: 8.73 s\n"
     ]
    },
    {
     "data": {
      "text/plain": [
       "<10418068x1009 sparse matrix of type '<class 'numpy.float64'>'\n",
       "\twith 101683835 stored elements in Compressed Sparse Row format>"
      ]
     },
     "execution_count": 23,
     "metadata": {},
     "output_type": "execute_result"
    }
   ],
   "source": [
    "%%time\n",
    "ii = hstack([csr_matrix(df[['catalog_id', 'state__6544.0', 'state__6545.0', 'state__6546.0', 'state__6547.0', 'state__6548.0', 'state__6549.0', 'state__6659.0', 'p260c']].values), emb])\n",
    "\n",
    "ii = ii.tocsr()\n",
    "ii"
   ]
  },
  {
   "cell_type": "code",
   "execution_count": 24,
   "metadata": {},
   "outputs": [
    {
     "data": {
      "text/plain": [
       "<450510x2 sparse matrix of type '<class 'numpy.float64'>'\n",
       "\twith 900995 stored elements in Compressed Sparse Row format>"
      ]
     },
     "execution_count": 24,
     "metadata": {},
     "output_type": "execute_result"
    }
   ],
   "source": [
    "user_feat = csr_matrix(df[['reader_id','age']].drop_duplicates())\n",
    "\n",
    "user_feat"
   ]
  },
  {
   "cell_type": "code",
   "execution_count": 25,
   "metadata": {},
   "outputs": [
    {
     "name": "stdout",
     "output_type": "stream",
     "text": [
      "Wall time: 1.34 s\n"
     ]
    }
   ],
   "source": [
    "%%time\n",
    "dataset = Dataset()\n",
    "dataset.fit(df['reader_id'].unique(), \n",
    "            df['catalog_id'].unique())#, \n",
    "            #item_features=ii,#item_feat,\n",
    "            #user_features=user_feat)"
   ]
  },
  {
   "cell_type": "code",
   "execution_count": 26,
   "metadata": {},
   "outputs": [
    {
     "name": "stdout",
     "output_type": "stream",
     "text": [
      "Wall time: 36.3 s\n"
     ]
    }
   ],
   "source": [
    "%%time\n",
    "(interactions, weights) = dataset.build_interactions(df[['reader_id','catalog_id']].values)"
   ]
  },
  {
   "cell_type": "code",
   "execution_count": 27,
   "metadata": {},
   "outputs": [
    {
     "data": {
      "text/plain": [
       "<450510x624909 sparse matrix of type '<class 'numpy.int32'>'\n",
       "\twith 10418068 stored elements in COOrdinate format>"
      ]
     },
     "execution_count": 27,
     "metadata": {},
     "output_type": "execute_result"
    }
   ],
   "source": [
    "interactions"
   ]
  },
  {
   "cell_type": "code",
   "execution_count": 28,
   "metadata": {},
   "outputs": [],
   "source": [
    "uid_map, _, iid_map, _ = dataset.mapping()"
   ]
  },
  {
   "cell_type": "code",
   "execution_count": 1,
   "metadata": {},
   "outputs": [],
   "source": [
    "import joblib"
   ]
  },
  {
   "cell_type": "code",
   "execution_count": 30,
   "metadata": {},
   "outputs": [
    {
     "name": "stdout",
     "output_type": "stream",
     "text": [
      "Wall time: 24.7 s\n"
     ]
    }
   ],
   "source": [
    "%%time\n",
    "joblib.dump(interactions, open('interactions.pkl','wb'))\n",
    "joblib.dump(weights, open('weights.pkl','wb'))\n",
    "joblib.dump(uid_map, open('uid_map.pkl','wb'))\n",
    "joblib.dump(iid_map, open('iid_map.pkl','wb'))\n"
   ]
  },
  {
   "cell_type": "code",
   "execution_count": 2,
   "metadata": {},
   "outputs": [],
   "source": [
    "u = joblib.load(open('uid_map.pkl','rb'))"
   ]
  },
  {
   "cell_type": "code",
   "execution_count": 4,
   "metadata": {},
   "outputs": [
    {
     "data": {
      "text/plain": [
       "450509"
      ]
     },
     "execution_count": 4,
     "metadata": {},
     "output_type": "execute_result"
    }
   ],
   "source": [
    "u[-1]"
   ]
  },
  {
   "cell_type": "code",
   "execution_count": null,
   "metadata": {},
   "outputs": [],
   "source": []
  },
  {
   "cell_type": "code",
   "execution_count": 33,
   "metadata": {},
   "outputs": [],
   "source": [
    "model = LightFM(loss='warp', no_components=NO_COMPONENTS, \n",
    "                 learning_rate=LEARNING_RATE, \n",
    "                 item_alpha=ITEM_ALPHA,\n",
    "                 user_alpha=USER_ALPHA,\n",
    "                 random_state=np.random.RandomState(SEEDNO))"
   ]
  },
  {
   "cell_type": "code",
   "execution_count": 35,
   "metadata": {},
   "outputs": [
    {
     "name": "stdout",
     "output_type": "stream",
     "text": [
      "Epoch 0\n",
      "Epoch 1\n",
      "Epoch 2\n",
      "Epoch 3\n",
      "Epoch 4\n",
      "Epoch 5\n",
      "Epoch 6\n",
      "Epoch 7\n",
      "Epoch 8\n",
      "Epoch 9\n",
      "Wall time: 42min 51s\n"
     ]
    },
    {
     "data": {
      "text/plain": [
       "<lightfm.lightfm.LightFM at 0x259ed8fb6c8>"
      ]
     },
     "execution_count": 35,
     "metadata": {},
     "output_type": "execute_result"
    }
   ],
   "source": [
    "%%time\n",
    "model.fit(interactions=interactions, verbose=True,\n",
    "           user_features=user_feat,\n",
    "           item_features=ii,\n",
    "           epochs=NO_EPOCHS)"
   ]
  },
  {
   "cell_type": "code",
   "execution_count": 37,
   "metadata": {},
   "outputs": [
    {
     "name": "stdout",
     "output_type": "stream",
     "text": [
      "Wall time: 21.4 s\n"
     ]
    }
   ],
   "source": [
    "%%time\n",
    "joblib.dump(model, open('exec/model_book_LFM.pkl', 'wb'))\n",
    "joblib.dump(ii, open('exec/item_feat.pkl', 'wb'))\n",
    "joblib.dump(user_feat, open('exec/user_feat.pkl', 'wb'))\n",
    "joblib.dump(iid_map, open('exec/iid_map.pkl', 'wb'))"
   ]
  },
  {
   "cell_type": "code",
   "execution_count": null,
   "metadata": {},
   "outputs": [],
   "source": [
    "joblib.dump(uid_map, open('exec/uid_map.pkl', 'wb'))"
   ]
  },
  {
   "cell_type": "code",
   "execution_count": 77,
   "metadata": {},
   "outputs": [],
   "source": [
    "w = model.predict([450509], np.array([v for v in iid_map.values()]), item_features=ii, user_features=user_feat)"
   ]
  },
  {
   "cell_type": "code",
   "execution_count": 45,
   "metadata": {},
   "outputs": [],
   "source": [
    "idx = (-w).argsort()[:50]"
   ]
  },
  {
   "cell_type": "code",
   "execution_count": 48,
   "metadata": {},
   "outputs": [
    {
     "data": {
      "text/plain": [
       "array([226203, 479201, 493318, 578736, 537689, 576471, 289715, 425466,\n",
       "       153637, 203811, 328497,  80677, 262626, 300764,  32019, 377063,\n",
       "       269955,  98914,  15912, 400195, 364752, 566938, 106885,   7271,\n",
       "        15256, 149867, 178930, 344010,  95055, 381340, 286210, 276547,\n",
       "       476462, 531378, 467817, 461081, 385938, 370082, 124150, 240780,\n",
       "       180825, 173213,  86229, 308460, 103661, 394162,  96826, 608448,\n",
       "       150881, 247027], dtype=int64)"
      ]
     },
     "execution_count": 48,
     "metadata": {},
     "output_type": "execute_result"
    }
   ],
   "source": [
    "idx"
   ]
  },
  {
   "cell_type": "code",
   "execution_count": 54,
   "metadata": {},
   "outputs": [],
   "source": [
    "iid_map_rev = {v:k for k, v in iid_map.items()}"
   ]
  },
  {
   "cell_type": "code",
   "execution_count": 56,
   "metadata": {},
   "outputs": [],
   "source": [
    "books = pd.read_csv('data/books_catalog_.csv', sep='\\t')"
   ]
  },
  {
   "cell_type": "code",
   "execution_count": 63,
   "metadata": {},
   "outputs": [
    {
     "data": {
      "text/html": [
       "<div>\n",
       "<style scoped>\n",
       "    .dataframe tbody tr th:only-of-type {\n",
       "        vertical-align: middle;\n",
       "    }\n",
       "\n",
       "    .dataframe tbody tr th {\n",
       "        vertical-align: top;\n",
       "    }\n",
       "\n",
       "    .dataframe thead th {\n",
       "        text-align: right;\n",
       "    }\n",
       "</style>\n",
       "<table border=\"1\" class=\"dataframe\">\n",
       "  <thead>\n",
       "    <tr style=\"text-align: right;\">\n",
       "      <th></th>\n",
       "      <th>doc_id</th>\n",
       "      <th>p100a</th>\n",
       "      <th>p245a</th>\n",
       "      <th>p260a</th>\n",
       "      <th>p260b</th>\n",
       "      <th>p260c</th>\n",
       "      <th>p490a</th>\n",
       "      <th>p650a</th>\n",
       "      <th>p084a</th>\n",
       "      <th>p521a</th>\n",
       "    </tr>\n",
       "  </thead>\n",
       "  <tbody>\n",
       "    <tr>\n",
       "      <th>468656</th>\n",
       "      <td>624298</td>\n",
       "      <td>Ключевский Василий Осипович</td>\n",
       "      <td>Сочинения</td>\n",
       "      <td>Москва</td>\n",
       "      <td>Мысль</td>\n",
       "      <td>1988</td>\n",
       "      <td>NaN</td>\n",
       "      <td>История России</td>\n",
       "      <td>63.3(2)</td>\n",
       "      <td>NaN</td>\n",
       "    </tr>\n",
       "  </tbody>\n",
       "</table>\n",
       "</div>"
      ],
      "text/plain": [
       "        doc_id                        p100a      p245a   p260a  p260b p260c  \\\n",
       "468656  624298  Ключевский Василий Осипович  Сочинения  Москва  Мысль  1988   \n",
       "\n",
       "       p490a           p650a    p084a p521a  \n",
       "468656   NaN  История России  63.3(2)   NaN  "
      ]
     },
     "execution_count": 63,
     "metadata": {},
     "output_type": "execute_result"
    }
   ],
   "source": [
    "books[books['doc_id']==int(iid_map_rev[i])]"
   ]
  },
  {
   "cell_type": "code",
   "execution_count": 71,
   "metadata": {},
   "outputs": [
    {
     "data": {
      "text/html": [
       "<div>\n",
       "<style scoped>\n",
       "    .dataframe tbody tr th:only-of-type {\n",
       "        vertical-align: middle;\n",
       "    }\n",
       "\n",
       "    .dataframe tbody tr th {\n",
       "        vertical-align: top;\n",
       "    }\n",
       "\n",
       "    .dataframe thead th {\n",
       "        text-align: right;\n",
       "    }\n",
       "</style>\n",
       "<table border=\"1\" class=\"dataframe\">\n",
       "  <thead>\n",
       "    <tr style=\"text-align: right;\">\n",
       "      <th></th>\n",
       "      <th>give_id</th>\n",
       "      <th>reader_id</th>\n",
       "      <th>inventory_num</th>\n",
       "      <th>state__6544.0</th>\n",
       "      <th>state__6545.0</th>\n",
       "      <th>state__6546.0</th>\n",
       "      <th>state__6547.0</th>\n",
       "      <th>state__6548.0</th>\n",
       "      <th>state__6549.0</th>\n",
       "      <th>state__6659.0</th>\n",
       "      <th>age</th>\n",
       "      <th>sample_id</th>\n",
       "      <th>catalog_id</th>\n",
       "      <th>p260c</th>\n",
       "      <th>s</th>\n",
       "    </tr>\n",
       "  </thead>\n",
       "  <tbody>\n",
       "    <tr>\n",
       "      <th>6496879</th>\n",
       "      <td>7499041.0</td>\n",
       "      <td>450509.0</td>\n",
       "      <td>07:0000138637</td>\n",
       "      <td>0.0</td>\n",
       "      <td>0.0</td>\n",
       "      <td>0.0</td>\n",
       "      <td>0.0</td>\n",
       "      <td>1.0</td>\n",
       "      <td>0.0</td>\n",
       "      <td>0.0</td>\n",
       "      <td>6.0</td>\n",
       "      <td>11823498.0</td>\n",
       "      <td>256930.0</td>\n",
       "      <td>19.0</td>\n",
       "      <td>линдгрен астрид три повести о малыше и карлсон...</td>\n",
       "    </tr>\n",
       "    <tr>\n",
       "      <th>7672061</th>\n",
       "      <td>8674570.0</td>\n",
       "      <td>450509.0</td>\n",
       "      <td>07:0000154508</td>\n",
       "      <td>0.0</td>\n",
       "      <td>1.0</td>\n",
       "      <td>0.0</td>\n",
       "      <td>0.0</td>\n",
       "      <td>0.0</td>\n",
       "      <td>0.0</td>\n",
       "      <td>0.0</td>\n",
       "      <td>6.0</td>\n",
       "      <td>12372996.0</td>\n",
       "      <td>917700.0</td>\n",
       "      <td>8.0</td>\n",
       "      <td>булычев кир путешествие алисы детская классика...</td>\n",
       "    </tr>\n",
       "    <tr>\n",
       "      <th>7672062</th>\n",
       "      <td>8674571.0</td>\n",
       "      <td>450509.0</td>\n",
       "      <td>07:0000132413</td>\n",
       "      <td>0.0</td>\n",
       "      <td>1.0</td>\n",
       "      <td>0.0</td>\n",
       "      <td>0.0</td>\n",
       "      <td>0.0</td>\n",
       "      <td>0.0</td>\n",
       "      <td>0.0</td>\n",
       "      <td>6.0</td>\n",
       "      <td>11741510.0</td>\n",
       "      <td>255830.0</td>\n",
       "      <td>19.0</td>\n",
       "      <td>киплинг редьярд маугли золотая библиотека худо...</td>\n",
       "    </tr>\n",
       "    <tr>\n",
       "      <th>8437883</th>\n",
       "      <td>9440642.0</td>\n",
       "      <td>450509.0</td>\n",
       "      <td>07:0000154508</td>\n",
       "      <td>0.0</td>\n",
       "      <td>0.0</td>\n",
       "      <td>0.0</td>\n",
       "      <td>0.0</td>\n",
       "      <td>1.0</td>\n",
       "      <td>0.0</td>\n",
       "      <td>0.0</td>\n",
       "      <td>6.0</td>\n",
       "      <td>12372996.0</td>\n",
       "      <td>917700.0</td>\n",
       "      <td>8.0</td>\n",
       "      <td>булычев кир путешествие алисы детская классика...</td>\n",
       "    </tr>\n",
       "    <tr>\n",
       "      <th>8437884</th>\n",
       "      <td>9440643.0</td>\n",
       "      <td>450509.0</td>\n",
       "      <td>07:0000132413</td>\n",
       "      <td>0.0</td>\n",
       "      <td>0.0</td>\n",
       "      <td>0.0</td>\n",
       "      <td>0.0</td>\n",
       "      <td>1.0</td>\n",
       "      <td>0.0</td>\n",
       "      <td>0.0</td>\n",
       "      <td>6.0</td>\n",
       "      <td>11741510.0</td>\n",
       "      <td>255830.0</td>\n",
       "      <td>19.0</td>\n",
       "      <td>киплинг редьярд маугли золотая библиотека худо...</td>\n",
       "    </tr>\n",
       "    <tr>\n",
       "      <th>8930526</th>\n",
       "      <td>9933407.0</td>\n",
       "      <td>450509.0</td>\n",
       "      <td>07:0000616686</td>\n",
       "      <td>0.0</td>\n",
       "      <td>1.0</td>\n",
       "      <td>0.0</td>\n",
       "      <td>0.0</td>\n",
       "      <td>0.0</td>\n",
       "      <td>0.0</td>\n",
       "      <td>0.0</td>\n",
       "      <td>6.0</td>\n",
       "      <td>11632482.0</td>\n",
       "      <td>356750.0</td>\n",
       "      <td>16.0</td>\n",
       "      <td>губарев виталий георгиевич королевство кривых ...</td>\n",
       "    </tr>\n",
       "    <tr>\n",
       "      <th>9721294</th>\n",
       "      <td>10724472.0</td>\n",
       "      <td>450509.0</td>\n",
       "      <td>07:0000616686</td>\n",
       "      <td>0.0</td>\n",
       "      <td>0.0</td>\n",
       "      <td>0.0</td>\n",
       "      <td>0.0</td>\n",
       "      <td>1.0</td>\n",
       "      <td>0.0</td>\n",
       "      <td>0.0</td>\n",
       "      <td>6.0</td>\n",
       "      <td>11632482.0</td>\n",
       "      <td>356750.0</td>\n",
       "      <td>16.0</td>\n",
       "      <td>губарев виталий георгиевич королевство кривых ...</td>\n",
       "    </tr>\n",
       "    <tr>\n",
       "      <th>10271366</th>\n",
       "      <td>11275862.0</td>\n",
       "      <td>450509.0</td>\n",
       "      <td>07:0000122843</td>\n",
       "      <td>1.0</td>\n",
       "      <td>0.0</td>\n",
       "      <td>0.0</td>\n",
       "      <td>0.0</td>\n",
       "      <td>0.0</td>\n",
       "      <td>0.0</td>\n",
       "      <td>0.0</td>\n",
       "      <td>6.0</td>\n",
       "      <td>11425000.0</td>\n",
       "      <td>1362.0</td>\n",
       "      <td>12.0</td>\n",
       "      <td>александрова татьяна ивановна домовенок кузька...</td>\n",
       "    </tr>\n",
       "  </tbody>\n",
       "</table>\n",
       "</div>"
      ],
      "text/plain": [
       "             give_id  reader_id  inventory_num  state__6544.0  state__6545.0  \\\n",
       "6496879    7499041.0   450509.0  07:0000138637            0.0            0.0   \n",
       "7672061    8674570.0   450509.0  07:0000154508            0.0            1.0   \n",
       "7672062    8674571.0   450509.0  07:0000132413            0.0            1.0   \n",
       "8437883    9440642.0   450509.0  07:0000154508            0.0            0.0   \n",
       "8437884    9440643.0   450509.0  07:0000132413            0.0            0.0   \n",
       "8930526    9933407.0   450509.0  07:0000616686            0.0            1.0   \n",
       "9721294   10724472.0   450509.0  07:0000616686            0.0            0.0   \n",
       "10271366  11275862.0   450509.0  07:0000122843            1.0            0.0   \n",
       "\n",
       "          state__6546.0  state__6547.0  state__6548.0  state__6549.0  \\\n",
       "6496879             0.0            0.0            1.0            0.0   \n",
       "7672061             0.0            0.0            0.0            0.0   \n",
       "7672062             0.0            0.0            0.0            0.0   \n",
       "8437883             0.0            0.0            1.0            0.0   \n",
       "8437884             0.0            0.0            1.0            0.0   \n",
       "8930526             0.0            0.0            0.0            0.0   \n",
       "9721294             0.0            0.0            1.0            0.0   \n",
       "10271366            0.0            0.0            0.0            0.0   \n",
       "\n",
       "          state__6659.0  age   sample_id  catalog_id  p260c  \\\n",
       "6496879             0.0  6.0  11823498.0    256930.0   19.0   \n",
       "7672061             0.0  6.0  12372996.0    917700.0    8.0   \n",
       "7672062             0.0  6.0  11741510.0    255830.0   19.0   \n",
       "8437883             0.0  6.0  12372996.0    917700.0    8.0   \n",
       "8437884             0.0  6.0  11741510.0    255830.0   19.0   \n",
       "8930526             0.0  6.0  11632482.0    356750.0   16.0   \n",
       "9721294             0.0  6.0  11632482.0    356750.0   16.0   \n",
       "10271366            0.0  6.0  11425000.0      1362.0   12.0   \n",
       "\n",
       "                                                          s  \n",
       "6496879   линдгрен астрид три повести о малыше и карлсон...  \n",
       "7672061   булычев кир путешествие алисы детская классика...  \n",
       "7672062   киплинг редьярд маугли золотая библиотека худо...  \n",
       "8437883   булычев кир путешествие алисы детская классика...  \n",
       "8437884   киплинг редьярд маугли золотая библиотека худо...  \n",
       "8930526   губарев виталий георгиевич королевство кривых ...  \n",
       "9721294   губарев виталий георгиевич королевство кривых ...  \n",
       "10271366  александрова татьяна ивановна домовенок кузька...  "
      ]
     },
     "execution_count": 71,
     "metadata": {},
     "output_type": "execute_result"
    }
   ],
   "source": [
    "df[df['reader_id']==450509]"
   ]
  },
  {
   "cell_type": "code",
   "execution_count": 78,
   "metadata": {},
   "outputs": [
    {
     "name": "stdout",
     "output_type": "stream",
     "text": [
      "[[624298 'Ключевский Василий Осипович' 'Сочинения' 'Москва' 'Мысль'\n",
      "  '1988' nan 'История России' '63.3(2)' nan]]\n",
      "[[350067 'Рапацкая Людмила Александровна' 'Русское искусство ХVIII века'\n",
      "  'Москва' 'Просвещение ; Владос' '1995' 'История мировой культуры'\n",
      "  'Филология. Искусство и искусствознание' '85' nan]]\n",
      "[[761227 'Вейнер Эрик' 'География гениальности' 'Москва'\n",
      "  'Альпина Паблишер' '2017' nan 'Психология' '88' nan]]\n",
      "[[1627022 'Мортка Марцин' 'Викинг Таппи и первый снег' 'Москва'\n",
      "  'Вилли Винки ; АСТ' '2019' 'Приключения викинга Таппи'\n",
      "  'Зарубежная художественная литература для детей и юношества ; Литература для детей и юношества'\n",
      "  'Д' '0+']]\n",
      "[[1415277 'Чехов Антон Павлович' 'Полное собрание сочинений и писем'\n",
      "  'Москва' 'Наука' '1977' nan 'Художественная литература' '84(2Рос=Рус)1'\n",
      "  nan]]\n",
      "[[454315 'Золотницкий Давид Иосифович'\n",
      "  'Академические театры на путях Октября' 'Ленинград' 'Искусство' '1982'\n",
      "  nan 'Драматический театр' '85.334.3(2)' nan]]\n",
      "[[976072 nan 'Что такое Библия?' 'Москва' 'Даръ' '2008' 'Азы православия'\n",
      "  'Христианство' '86.37' nan]]\n",
      "[[882836 nan 'Красавица и Чудовище' 'Москва' 'РИПОЛ классик' '2011' nan\n",
      "  'Художественная литература' '84(4Вел)' nan]]\n",
      "[[329441 'Отт Инге' 'Тайна рыцарей-тамплиеров' 'Москва' 'Энигма' '1994'\n",
      "  nan nan nan nan]]\n",
      "[[331425 'Салтыков-Щедрин Михаил Евграфович' 'Сочинения' 'Москва' 'Старт'\n",
      "  '1994' nan 'Художественная литература' '84' nan]]\n",
      "[[895799 nan 'Избранные романы Ридерз Дайджест' 'Москва'\n",
      "  'Ридерз Дайджест' '2006' nan 'Художественная литература' '84(7Сое)' nan]]\n",
      "[[373792 'Гармаш-Роффе Татьяна Владимировна' 'Е. Б. Ж.' 'Москва' 'Эксмо'\n",
      "  '2007' 'Детектив высшей пробы' 'Художественная литература' '84Р6' nan]]\n",
      "[[271798 'Бахревский Владислав Анатольевич' 'Солдат Орешек' 'Москва'\n",
      "  'Детская литература' '1989' nan 'Художественная литература' '84(2Рос)6'\n",
      "  nan]]\n",
      "[[1000546 nan 'Литературные кубики' 'Санкт-Петербург' 'КАРО' '2006' nan\n",
      "  'Художественная литература' '84(2Рос=Рус)6' nan]]\n",
      "[[226180 nan 'Школьные анекдоты' 'Москва' 'Самовар' '2012' nan\n",
      "  'Художественная литература' '84(2) ' '0+']]\n",
      "[[145873 nan 'Тайны живой природы' 'Москва' 'АСТ ; Зебра Е' '2007' nan\n",
      "  'Зоология' '28.69+28.5' nan]]\n",
      "[[88053 'Арзаканян Марина Цолаковна'\n",
      "  'Де Голль и голлисты на пути к власти' 'Москва' 'Высшая школа' '1990'\n",
      "  nan 'История частей света и зарубежных стран' '63.3(4Фр)' nan]]\n",
      "[[382404 'Прокофьева Софья Леонидовна' 'Приключения желтого чемоданчика'\n",
      "  'Москва' 'Махаон' '2007' 'Веселая компания' 'Художественная литература'\n",
      "  '84' nan]]\n",
      "[[307340 'Амасова Аня' 'Пираты Кошачьего моря. Остров забытых сокровищ'\n",
      "  'Санкт-Петербург' 'Фордевинд' '2014' 'Книгомульт'\n",
      "  'Художественная литература' '84Р6' nan]]\n",
      "[[1345346 nan 'Музыкальный руководитель ' nan nan '2019' nan 'Музыка'\n",
      "  '85.31' nan]]\n",
      "[[963807 'Сатинова Валентина Федоровна' 'Британия и британцы' 'Минск'\n",
      "  'Высшая школа' '2004' nan 'Английский язык' '81.2Англ' nan]]\n",
      "[[573699 'Кондратьев Эдуард Викторович' 'Связи с общественностью'\n",
      "  'Москва' 'Академический проект ; Трикста' '2006' 'Gaudeamus'\n",
      "  'СМИ. Журналистика в целом' '76.006.5' nan]]\n",
      "[[464402 'Карпов Анатолий Евгеньевич' 'Всё о шахматах' 'Москва'\n",
      "  'Гранд ; Фаир-Пресс' '2002' 'Спорт' 'Спортивные игры' '75.58' nan]]\n",
      "[[2238 'Образцов Петр Алексеевич' 'Мир, созданный химиками' 'Москва'\n",
      "  'КоЛибри' '2011' 'Galileo' 'Химические науки' '24г' nan]]\n",
      "[[24629 'Карлиц Гейл' 'Начинающий инвестор' 'Москва'\n",
      "  'Манн, Иванов и Фербер' '2014' nan\n",
      "  'Финансы. Банковское дело. Рынок ценных бумаг. Страхование. Социальное обеспечение'\n",
      "  '65.26' nan]]\n",
      "[[575763 nan 'Подарки феи' 'Симферополь' 'Таврида' '1993' nan\n",
      "  'Художественная литература' '84' nan]]\n",
      "[[144885 'Бринкли Деннион' 'Спасенный светом.Что вас ждет после смерти'\n",
      "  'Москва' 'Вече ; АСТ' '1998' nan\n",
      "  'Мистика. Магия. Эзотерика и оккультизм' '86.4' nan]]\n",
      "[[497434 'Булычев Кир' 'Тайны истории' 'Москва' 'Дрофа-Плюс' '2011' nan\n",
      "  'История в целом. Всемирная история' '63.3(0)' nan]]\n",
      "[[2902 'Хармс Даниил Иванович' 'Меня называют Капуцином' 'Москва'\n",
      "  'Каравенто ; Пикмент' '1993' nan 'Художественная литература'\n",
      "  '84(2Рос)6' nan]]\n",
      "[[1296551 'Житков Борис Степанович' 'Золотые слова' 'Москва' 'Дрофа-Плюс'\n",
      "  '2007' nan 'Художественная литература' '84' nan]]\n",
      "[[1250859 'Акишин Аскольд Евгеньевич'\n",
      "  'Храм, город, сны Говарда Ф. Лавкрафта' 'Брянск' 'Alt Graph' '2015' nan\n",
      "  'Комиксы' '84(2Рос=Рус)6' '16+']]\n",
      "[[1089147 nan\n",
      "  'Французско-русский и русско-французский словарь для школьников'\n",
      "  'Москва' 'Лист' '1997' nan 'Частное яыкознание. Языки мира' '81.2Фр-4'\n",
      "  nan]]\n",
      "[[59443 nan 'Всё обо всём' 'Москва' 'Ключ-С ; Слово ; АСТ' '1995' nan\n",
      "  'Справочные материалы' '92' nan]]\n",
      "[[938104 'Смирнов Ярослав Вячеславович' 'Цитатник бегемота' 'Москва'\n",
      "  'АСТ' '2003' 'Звездный лабиринт' 'Художественная литература' '84(2)6-4'\n",
      "  nan]]\n",
      "[[1463055 'Норвуд Виктор'\n",
      "  'Один в джунглях/В. Норвуд. Трое против дебрей/Э. Кольер.- К сб. в целом: пер. с англ.'\n",
      "  'Москва' 'Баян' '1992' nan 'Художественная литература' '84(4Вел)' nan]]\n",
      "[[1290154 'Щеглов Дмитрий Алексеевич' 'Липкий киллер' 'Москва'\n",
      "  'ЭКСМО-Пресс' '2001' 'Детский детектив' 'Художественная литература'\n",
      "  '84(2Рос=Рус)6' nan]]\n",
      "[[1026196 'Головкина Ирина Владимировна' 'Лебединая песнь (Побежденные)'\n",
      "  'Санкт-Петербург ; Рязань' 'Зерна-Слово' '2012'\n",
      "  'Библиотека духовной прозы' 'Художественная литература'\n",
      "  '84(2Рос=Рус)6-44' nan]]\n",
      "[[838689 nan 'Антибактериальная терапия при детских инфекциях'\n",
      "  'Ростов-на-Дону' 'Феникс' '2007' 'Медицина' 'Фармакология' '52.81' nan]]\n",
      "[[112560 'Эррикер Клайв' 'Буддизм' 'Москва' 'Фаир-Пресс' '2000' nan\n",
      "  'Буддизм' '86.35' nan]]\n",
      "[[29558 'Якоби Кейт' 'Полет черного орла' 'Москва' 'АСТ' '2002'\n",
      "  'Век Дракона: коллекция' 'Художественная литература' '84(7Сое)' nan]]\n",
      "[[219424 nan 'Памятные книжные даты. 1990' 'Москва' 'Книга' '1990' nan\n",
      "  'Средства массовой информации. Издательское дело' '76' nan]]\n",
      "[[265932 nan 'Мистические произведения русских писателей'\n",
      "  'Харьков ; Белгород' 'Клуб Семейного Досуга' '2011'\n",
      "  'Шедевры на все времена' 'Художественная литература' '84.2Р1' nan]]\n",
      "[[392996 nan 'Лисичка и волк' 'Москва' 'Эксмо' '2015' 'Люблю читать!'\n",
      "  'Литература для детей и юношества' 'Д' '0+']]\n",
      "[[902723 'Орлова Раиса Давыдовна' 'Мы жили в Москве, 1956 - 1980'\n",
      "  'Москва' 'Книга' '1990' 'Время и судьбы' 'История России' '63.3(2)63'\n",
      "  nan]]\n",
      "[[500958 'Достоевский Федор Михайлович' 'Детям' 'Москва'\n",
      "  'Детская литература' '2002' 'Школьная библиотека'\n",
      "  'Художественная литература' '84(2Рос=Рус)1' nan]]\n",
      "[[1182729 nan 'Взаимодействие и синтез искусств' 'Ленинград' 'Наука'\n",
      "  '1978' nan 'Филология. Искусство и искусствознание' '85' nan]]\n",
      "[[645285 'Вахмистров Валерий Владимирович' 'Читай и говори по-английски'\n",
      "  'Москва' 'Воениздат' '1972' nan 'Английский язык' '81.2Англ-93' nan]]\n",
      "[[1764353 'Видал Гор'\n",
      "  'Смерть в пятой позиции ; Смерть на сон грядущий ; Смерть берет их тепленькими'\n",
      "  'Москва' 'РИПОЛ классик' '2002' 'Лучшие детективы мира'\n",
      "  'Художественная литература' '84.7США' nan]]\n",
      "[[179240 'Розен Александр Германович' 'Разговор с другом' 'Петрозаводск'\n",
      "  'Карелия' '1976' nan nan nan nan]]\n",
      "[[894168 'Кудрявов Борис' 'Интимные тайны' 'Москва' 'Алгоритм' '2006'\n",
      "  'Он и Она' 'Театр' '85.33(2)' nan]]\n"
     ]
    }
   ],
   "source": [
    "for i in idx:\n",
    "    print(books[books['doc_id']==int(iid_map_rev[i])].values)"
   ]
  },
  {
   "cell_type": "code",
   "execution_count": null,
   "metadata": {},
   "outputs": [],
   "source": []
  },
  {
   "cell_type": "code",
   "execution_count": null,
   "metadata": {},
   "outputs": [],
   "source": []
  },
  {
   "cell_type": "code",
   "execution_count": null,
   "metadata": {},
   "outputs": [],
   "source": []
  },
  {
   "cell_type": "code",
   "execution_count": null,
   "metadata": {},
   "outputs": [],
   "source": []
  },
  {
   "cell_type": "code",
   "execution_count": null,
   "metadata": {},
   "outputs": [],
   "source": []
  },
  {
   "cell_type": "code",
   "execution_count": null,
   "metadata": {},
   "outputs": [],
   "source": []
  },
  {
   "cell_type": "code",
   "execution_count": null,
   "metadata": {},
   "outputs": [],
   "source": []
  }
 ],
 "metadata": {
  "kernelspec": {
   "display_name": "Python 3",
   "language": "python",
   "name": "python3"
  },
  "language_info": {
   "codemirror_mode": {
    "name": "ipython",
    "version": 3
   },
   "file_extension": ".py",
   "mimetype": "text/x-python",
   "name": "python",
   "nbconvert_exporter": "python",
   "pygments_lexer": "ipython3",
   "version": "3.7.6"
  }
 },
 "nbformat": 4,
 "nbformat_minor": 4
}
